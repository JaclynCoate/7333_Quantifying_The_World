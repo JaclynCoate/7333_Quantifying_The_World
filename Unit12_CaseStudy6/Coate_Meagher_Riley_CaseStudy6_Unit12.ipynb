{
  "nbformat": 4,
  "nbformat_minor": 0,
  "metadata": {
    "kernelspec": {
      "name": "python3",
      "display_name": "Python 3"
    },
    "colab": {
      "name": "Coate_Meagher_Riley_CaseStudy6_Unit12.ipynb",
      "provenance": [],
      "collapsed_sections": [],
      "machine_shape": "hm"
    },
    "language_info": {
      "name": "python"
    }
  },
  "cells": [
    {
      "cell_type": "markdown",
      "metadata": {
        "id": "Jk673ytTrTYh"
      },
      "source": [
        "# Case Study 6: Hunt for the Higgs Bosons with Deep Neural Networks\n",
        "Jaclyn Coate, Reagan Meagher, Megan Riley"
      ]
    },
    {
      "cell_type": "markdown",
      "metadata": {
        "id": "XeAHwtxarbuV"
      },
      "source": [
        "## 1. Introduction"
      ]
    },
    {
      "cell_type": "markdown",
      "metadata": {
        "id": "MaPveo93AZ3P"
      },
      "source": [
        "The ongoing hunt for the building blocks of our universe is something the physics community has been leading for decades. Most recently the Higgs Boson particle was discovered in high-energy physics (also known as particle physics) experimentation. The branch of high-energy physics is the idea of being able to identify those smallest components of matter and radiation [1]. The idea is that these elementary components are the building blocks that allow us to understand the behavior of those observable traits in our universe. The current and most dominant theory in the industry is termed the _Standard Model_; and the most recent discovered particle is called the _Higgs boson_. Discovered in 2012 by European Council for Nuclear Research (CERN) with the large hadron collider [2]. \n",
        "\n",
        "The _Higgs boson_ particle is the newest particle discovered by physicists. In order to discover a particle physicists have to successfully isolate a \"subspace of their high-dimensional data\" [3] where the hypothesis of a potential new particle (force) produces a significant difference than the null hypothesis of no difference. This frame allows for statistical testing to take place and help determine if a new particle/force exists. The process that is responsible for the production of the _higgs boson_ was a previously unknown to physicists, the researchers leveraged the Monte Carlo simulations to build models that would allow the sample processes signals to be generated and therefore classify if a signal processes is likely to or not to produce _higgs boson_. Monte Carlo simulations are particularly skilled at the studies of properties of tests when assumptions that they are pulled from are not necessarily met. Due to this fact, researchers leveraged this method for the _higgs boson_ research. Deep learning algorithms are particularly talented in obtaining inference from large amounts of data when there are very small differences to indicate signal and therefore class separation, the Monte Carlo simulations created 11 million signals,  Baldi, Sadowski, and Whiteson decided to leverage deep neural networks (DNNs). In the instance of these data the researchers used 28 different features, 21 of kinematic properties and the additional 7 engineered features. These 7 engineered features were created from functions of those original 21 features that allow the researchers to determine between the two classes of signals that either indicate the presence of a _higgs boson_ or no _higgs boson_. In the following case study we used those details in the researcher's paper in an attempt to reconstruct their study and reproduce their results. We will discuss those steps we took to produce the same research, we also will discuss those challenges we encountered and things we discovered in our efforts."
      ]
    },
    {
      "cell_type": "code",
      "metadata": {
        "colab": {
          "base_uri": "https://localhost:8080/"
        },
        "id": "6F3eHuqWretS",
        "outputId": "c380d72c-c0a0-438b-95f9-bd12f011dded"
      },
      "source": [
        "import tensorflow as tf\n",
        "from tensorflow.keras import layers \n",
        "from tensorflow.keras.regularizers import l2\n",
        "from sklearn import datasets\n",
        "import sklearn\n",
        "import pandas as pd\n",
        "import numpy as np\n",
        "print(tf.__version__)"
      ],
      "execution_count": null,
      "outputs": [
        {
          "output_type": "stream",
          "text": [
            "2.4.1\n"
          ],
          "name": "stdout"
        }
      ]
    },
    {
      "cell_type": "code",
      "metadata": {
        "id": "Wg7o_Q_nnutA"
      },
      "source": [
        " \n",
        " #To correctly load data from googledrive. \n",
        "from pydrive.auth import GoogleAuth\n",
        "from pydrive.drive import GoogleDrive\n",
        "from google.colab import auth\n",
        "from oauth2client.client import GoogleCredentials\n",
        "\n",
        "auth.authenticate_user()\n",
        "gauth = GoogleAuth()\n",
        "gauth.credentials = GoogleCredentials.get_application_default()\n",
        "drive = GoogleDrive(gauth)"
      ],
      "execution_count": null,
      "outputs": []
    },
    {
      "cell_type": "code",
      "metadata": {
        "id": "ai1avMTos-To"
      },
      "source": [
        "#Issues with versioning large data on github, data in GoogleDrive\n",
        "#not referenced directly the data is located at the link below with the file id below\n",
        "#Full Data w/ 32 bit. \n",
        "data_location = \"https://drive.google.com/file/d/1IF6CuFXL1F7Jcn7ebPhRTDZcQQzYkkn_/view?usp=sharing\"\n",
        "file_id = \"1IF6CuFXL1F7Jcn7ebPhRTDZcQQzYkkn_\""
      ],
      "execution_count": null,
      "outputs": []
    },
    {
      "cell_type": "code",
      "metadata": {
        "id": "824_QQgTvAFz",
        "colab": {
          "base_uri": "https://localhost:8080/"
        },
        "outputId": "689927a5-3008-4d50-f3f9-f91154e23417"
      },
      "source": [
        "#Load up data local access to read in correctly\n",
        "\n",
        "downloaded = drive.CreateFile({'id':file_id})   # replace the id with id of file you want to access\n",
        "downloaded.GetContentFile('HIGGS.csv')        # replace the file name with your file\n",
        "#Loading with pandas. Loading link directly causes errors otherwise.\n",
        "\n",
        "col_names = [\"target\",\"lepton pT\", \"lepton eta\", \"lepton phi\",\n",
        "             \"missing energy magnitude\", \"missing energy phi\",\n",
        "             \"jet 1 pt\", \"jet 1 eta\", \"jet 1 phi\", \"jet 1 b-tag\",\n",
        "             \"jet 2 pt\", \"jet 2 eta\", \"jet 2 phi\", \"jet 2 b-tag\",\n",
        "             \"jet 3 pt\", \"jet 3 eta\", \"jet 3 phi\", \"jet 3 b-tag\",\n",
        "             \"jet 4 pt\", \"jet 4 eta\", \"jet 4 phi\", \"jet 4 b-tag\",\n",
        "             \"m_jj\", \"m_jjj\", \"m_lv\", \"m_jlv\", \"m_bb\", \"m_wbb\", \"m_wwbb\"]\n",
        "\n",
        "raw_higgs = pd.read_csv('HIGGS.csv', header = 0, names = col_names, dtype = np.float32)\n",
        "raw_higgs.shape\n",
        "\n"
      ],
      "execution_count": null,
      "outputs": [
        {
          "output_type": "execute_result",
          "data": {
            "text/plain": [
              "(11000000, 29)"
            ]
          },
          "metadata": {
            "tags": []
          },
          "execution_count": 5
        }
      ]
    },
    {
      "cell_type": "markdown",
      "metadata": {
        "id": "LdSRnV43re_z"
      },
      "source": [
        "## 2. Data"
      ]
    },
    {
      "cell_type": "markdown",
      "metadata": {
        "id": "RsgoBO1UAdE7"
      },
      "source": [
        "The data provided is a set of Monte Carlo simulations of the signals for processes that produce _Higgs bosons_ as well as the background processes (noise) that do not produce _Higgs bosons_ . The data contained 11 million instances of 28 different features. These features consist of 21 kinematic properties measured by particle deterors within the accelerator and an additional 7 engineer features. The variable of interest, or target variable, is a binary variable where the 1 indicates that a _Higgs boson_ process has been detected, whilst the 0 symbolized the background process (or noise). The data sets were close to balanced with 53% positive examples or signal of the _Higgs boson_ particle seen. The features input were standardized over the entirety of both the train and test data sets with a mean of zero, a standard deviation of one. There was a single exception for those features with values that were greater than zero, these values were then scaled so that the mean value was one [3]. "
      ]
    },
    {
      "cell_type": "markdown",
      "metadata": {
        "id": "DOx3F9mbwza5"
      },
      "source": [
        "So Far this code\n",
        "\n",
        "\n",
        "*   splits raw into target and features,\n",
        "*   scales the features on 0 to 1\n",
        "*   prints histograms of the features. (i can probably pretty this up, maybe get some facets\n",
        "*   sets up a train/test split of 90/10 -500k test and 4.5 mill train\n",
        "\n"
      ]
    },
    {
      "cell_type": "code",
      "metadata": {
        "id": "9sn8NL_2oBgn"
      },
      "source": [
        "total_target = raw_higgs[\"target\"]\n",
        "raw_higgs = raw_higgs.drop(\"target\",axis = 1)"
      ],
      "execution_count": null,
      "outputs": []
    },
    {
      "cell_type": "code",
      "metadata": {
        "id": "7pfD1LrLvAMr",
        "colab": {
          "base_uri": "https://localhost:8080/",
          "height": 351
        },
        "outputId": "bd845aaa-45af-4cdd-acb0-14a8a792a339"
      },
      "source": [
        "raw_higgs.describe()"
      ],
      "execution_count": null,
      "outputs": [
        {
          "output_type": "execute_result",
          "data": {
            "text/html": [
              "<div>\n",
              "<style scoped>\n",
              "    .dataframe tbody tr th:only-of-type {\n",
              "        vertical-align: middle;\n",
              "    }\n",
              "\n",
              "    .dataframe tbody tr th {\n",
              "        vertical-align: top;\n",
              "    }\n",
              "\n",
              "    .dataframe thead th {\n",
              "        text-align: right;\n",
              "    }\n",
              "</style>\n",
              "<table border=\"1\" class=\"dataframe\">\n",
              "  <thead>\n",
              "    <tr style=\"text-align: right;\">\n",
              "      <th></th>\n",
              "      <th>lepton pT</th>\n",
              "      <th>lepton eta</th>\n",
              "      <th>lepton phi</th>\n",
              "      <th>missing energy magnitude</th>\n",
              "      <th>missing energy phi</th>\n",
              "      <th>jet 1 pt</th>\n",
              "      <th>jet 1 eta</th>\n",
              "      <th>jet 1 phi</th>\n",
              "      <th>jet 1 b-tag</th>\n",
              "      <th>jet 2 pt</th>\n",
              "      <th>jet 2 eta</th>\n",
              "      <th>jet 2 phi</th>\n",
              "      <th>jet 2 b-tag</th>\n",
              "      <th>jet 3 pt</th>\n",
              "      <th>jet 3 eta</th>\n",
              "      <th>jet 3 phi</th>\n",
              "      <th>jet 3 b-tag</th>\n",
              "      <th>jet 4 pt</th>\n",
              "      <th>jet 4 eta</th>\n",
              "      <th>jet 4 phi</th>\n",
              "      <th>jet 4 b-tag</th>\n",
              "      <th>m_jj</th>\n",
              "      <th>m_jjj</th>\n",
              "      <th>m_lv</th>\n",
              "      <th>m_jlv</th>\n",
              "      <th>m_bb</th>\n",
              "      <th>m_wbb</th>\n",
              "      <th>m_wwbb</th>\n",
              "    </tr>\n",
              "  </thead>\n",
              "  <tbody>\n",
              "    <tr>\n",
              "      <th>count</th>\n",
              "      <td>1.100000e+07</td>\n",
              "      <td>1.100000e+07</td>\n",
              "      <td>1.100000e+07</td>\n",
              "      <td>1.100000e+07</td>\n",
              "      <td>1.100000e+07</td>\n",
              "      <td>1.100000e+07</td>\n",
              "      <td>1.100000e+07</td>\n",
              "      <td>1.100000e+07</td>\n",
              "      <td>1.100000e+07</td>\n",
              "      <td>1.100000e+07</td>\n",
              "      <td>1.100000e+07</td>\n",
              "      <td>1.100000e+07</td>\n",
              "      <td>1.100000e+07</td>\n",
              "      <td>1.100000e+07</td>\n",
              "      <td>1.100000e+07</td>\n",
              "      <td>1.100000e+07</td>\n",
              "      <td>1.100000e+07</td>\n",
              "      <td>1.100000e+07</td>\n",
              "      <td>1.100000e+07</td>\n",
              "      <td>1.100000e+07</td>\n",
              "      <td>1.100000e+07</td>\n",
              "      <td>1.100000e+07</td>\n",
              "      <td>1.100000e+07</td>\n",
              "      <td>1.100000e+07</td>\n",
              "      <td>1.100000e+07</td>\n",
              "      <td>1.100000e+07</td>\n",
              "      <td>1.100000e+07</td>\n",
              "      <td>1.100000e+07</td>\n",
              "    </tr>\n",
              "    <tr>\n",
              "      <th>mean</th>\n",
              "      <td>9.999576e-01</td>\n",
              "      <td>-8.295326e-06</td>\n",
              "      <td>-1.350998e-05</td>\n",
              "      <td>9.995067e-01</td>\n",
              "      <td>2.613714e-05</td>\n",
              "      <td>1.003104e+00</td>\n",
              "      <td>-2.031853e-05</td>\n",
              "      <td>7.719664e-06</td>\n",
              "      <td>9.535252e-01</td>\n",
              "      <td>1.003218e+00</td>\n",
              "      <td>-1.027750e-05</td>\n",
              "      <td>-2.076009e-05</td>\n",
              "      <td>9.416873e-01</td>\n",
              "      <td>1.001818e+00</td>\n",
              "      <td>1.459535e-05</td>\n",
              "      <td>3.679993e-06</td>\n",
              "      <td>1.027140e+00</td>\n",
              "      <td>9.949507e-01</td>\n",
              "      <td>-5.757519e-06</td>\n",
              "      <td>1.745386e-05</td>\n",
              "      <td>9.804655e-01</td>\n",
              "      <td>1.070756e+00</td>\n",
              "      <td>1.047028e+00</td>\n",
              "      <td>1.045546e+00</td>\n",
              "      <td>1.032730e+00</td>\n",
              "      <td>9.890985e-01</td>\n",
              "      <td>1.054917e+00</td>\n",
              "      <td>9.898391e-01</td>\n",
              "    </tr>\n",
              "    <tr>\n",
              "      <th>std</th>\n",
              "      <td>5.607220e-01</td>\n",
              "      <td>1.000114e+00</td>\n",
              "      <td>1.000483e+00</td>\n",
              "      <td>5.949429e-01</td>\n",
              "      <td>1.000413e+00</td>\n",
              "      <td>4.701700e-01</td>\n",
              "      <td>1.000630e+00</td>\n",
              "      <td>9.999282e-01</td>\n",
              "      <td>1.017531e+00</td>\n",
              "      <td>4.949443e-01</td>\n",
              "      <td>1.000321e+00</td>\n",
              "      <td>1.000214e+00</td>\n",
              "      <td>1.082197e+00</td>\n",
              "      <td>4.830273e-01</td>\n",
              "      <td>9.996756e-01</td>\n",
              "      <td>1.000384e+00</td>\n",
              "      <td>1.164582e+00</td>\n",
              "      <td>5.007632e-01</td>\n",
              "      <td>9.989089e-01</td>\n",
              "      <td>1.000464e+00</td>\n",
              "      <td>1.350694e+00</td>\n",
              "      <td>6.625793e-01</td>\n",
              "      <td>3.757028e-01</td>\n",
              "      <td>1.593048e-01</td>\n",
              "      <td>3.937330e-01</td>\n",
              "      <td>5.193388e-01</td>\n",
              "      <td>3.613682e-01</td>\n",
              "      <td>3.121480e-01</td>\n",
              "    </tr>\n",
              "    <tr>\n",
              "      <th>min</th>\n",
              "      <td>2.746966e-01</td>\n",
              "      <td>-2.434976e+00</td>\n",
              "      <td>-1.742508e+00</td>\n",
              "      <td>2.370088e-04</td>\n",
              "      <td>-1.743944e+00</td>\n",
              "      <td>1.375024e-01</td>\n",
              "      <td>-2.969725e+00</td>\n",
              "      <td>-1.741237e+00</td>\n",
              "      <td>0.000000e+00</td>\n",
              "      <td>1.889811e-01</td>\n",
              "      <td>-2.913090e+00</td>\n",
              "      <td>-1.742372e+00</td>\n",
              "      <td>0.000000e+00</td>\n",
              "      <td>2.636076e-01</td>\n",
              "      <td>-2.729663e+00</td>\n",
              "      <td>-1.742069e+00</td>\n",
              "      <td>0.000000e+00</td>\n",
              "      <td>3.653542e-01</td>\n",
              "      <td>-2.497265e+00</td>\n",
              "      <td>-1.742691e+00</td>\n",
              "      <td>0.000000e+00</td>\n",
              "      <td>7.507046e-02</td>\n",
              "      <td>1.986757e-01</td>\n",
              "      <td>8.304866e-02</td>\n",
              "      <td>1.320062e-01</td>\n",
              "      <td>4.786215e-02</td>\n",
              "      <td>2.951122e-01</td>\n",
              "      <td>3.307214e-01</td>\n",
              "    </tr>\n",
              "    <tr>\n",
              "      <th>25%</th>\n",
              "      <td>5.907533e-01</td>\n",
              "      <td>-7.383225e-01</td>\n",
              "      <td>-8.719308e-01</td>\n",
              "      <td>5.768156e-01</td>\n",
              "      <td>-8.712081e-01</td>\n",
              "      <td>6.789927e-01</td>\n",
              "      <td>-6.872450e-01</td>\n",
              "      <td>-8.680962e-01</td>\n",
              "      <td>0.000000e+00</td>\n",
              "      <td>6.564608e-01</td>\n",
              "      <td>-6.944718e-01</td>\n",
              "      <td>-8.701791e-01</td>\n",
              "      <td>0.000000e+00</td>\n",
              "      <td>6.508527e-01</td>\n",
              "      <td>-6.998083e-01</td>\n",
              "      <td>-8.711343e-01</td>\n",
              "      <td>0.000000e+00</td>\n",
              "      <td>6.177673e-01</td>\n",
              "      <td>-7.141902e-01</td>\n",
              "      <td>-8.714789e-01</td>\n",
              "      <td>0.000000e+00</td>\n",
              "      <td>7.906095e-01</td>\n",
              "      <td>8.462266e-01</td>\n",
              "      <td>9.857525e-01</td>\n",
              "      <td>7.675732e-01</td>\n",
              "      <td>6.738168e-01</td>\n",
              "      <td>8.193964e-01</td>\n",
              "      <td>7.703901e-01</td>\n",
              "    </tr>\n",
              "    <tr>\n",
              "      <th>50%</th>\n",
              "      <td>8.533714e-01</td>\n",
              "      <td>-5.415563e-05</td>\n",
              "      <td>-2.410638e-04</td>\n",
              "      <td>8.916277e-01</td>\n",
              "      <td>2.125454e-04</td>\n",
              "      <td>8.948193e-01</td>\n",
              "      <td>-2.543566e-05</td>\n",
              "      <td>5.813991e-05</td>\n",
              "      <td>1.086538e+00</td>\n",
              "      <td>8.901377e-01</td>\n",
              "      <td>6.027267e-05</td>\n",
              "      <td>3.514990e-04</td>\n",
              "      <td>0.000000e+00</td>\n",
              "      <td>8.972494e-01</td>\n",
              "      <td>1.728937e-04</td>\n",
              "      <td>-7.519117e-04</td>\n",
              "      <td>0.000000e+00</td>\n",
              "      <td>8.682333e-01</td>\n",
              "      <td>3.721330e-04</td>\n",
              "      <td>-2.642369e-04</td>\n",
              "      <td>0.000000e+00</td>\n",
              "      <td>8.949304e-01</td>\n",
              "      <td>9.506853e-01</td>\n",
              "      <td>9.897798e-01</td>\n",
              "      <td>9.165110e-01</td>\n",
              "      <td>8.733798e-01</td>\n",
              "      <td>9.473447e-01</td>\n",
              "      <td>8.719701e-01</td>\n",
              "    </tr>\n",
              "    <tr>\n",
              "      <th>75%</th>\n",
              "      <td>1.236226e+00</td>\n",
              "      <td>7.382142e-01</td>\n",
              "      <td>8.709940e-01</td>\n",
              "      <td>1.293056e+00</td>\n",
              "      <td>8.714708e-01</td>\n",
              "      <td>1.170740e+00</td>\n",
              "      <td>6.871941e-01</td>\n",
              "      <td>8.683126e-01</td>\n",
              "      <td>2.173076e+00</td>\n",
              "      <td>1.201875e+00</td>\n",
              "      <td>6.945924e-01</td>\n",
              "      <td>8.698727e-01</td>\n",
              "      <td>2.214872e+00</td>\n",
              "      <td>1.221798e+00</td>\n",
              "      <td>7.001541e-01</td>\n",
              "      <td>8.713947e-01</td>\n",
              "      <td>2.548224e+00</td>\n",
              "      <td>1.220930e+00</td>\n",
              "      <td>7.141017e-01</td>\n",
              "      <td>8.716055e-01</td>\n",
              "      <td>3.101961e+00</td>\n",
              "      <td>1.024730e+00</td>\n",
              "      <td>1.083493e+00</td>\n",
              "      <td>1.020528e+00</td>\n",
              "      <td>1.142226e+00</td>\n",
              "      <td>1.138439e+00</td>\n",
              "      <td>1.140458e+00</td>\n",
              "      <td>1.059248e+00</td>\n",
              "    </tr>\n",
              "    <tr>\n",
              "      <th>max</th>\n",
              "      <td>1.209891e+01</td>\n",
              "      <td>2.434868e+00</td>\n",
              "      <td>1.743236e+00</td>\n",
              "      <td>1.539682e+01</td>\n",
              "      <td>1.743257e+00</td>\n",
              "      <td>9.940391e+00</td>\n",
              "      <td>2.969674e+00</td>\n",
              "      <td>1.741454e+00</td>\n",
              "      <td>2.173076e+00</td>\n",
              "      <td>1.164708e+01</td>\n",
              "      <td>2.913210e+00</td>\n",
              "      <td>1.743175e+00</td>\n",
              "      <td>2.214872e+00</td>\n",
              "      <td>1.470899e+01</td>\n",
              "      <td>2.730009e+00</td>\n",
              "      <td>1.742884e+00</td>\n",
              "      <td>2.548224e+00</td>\n",
              "      <td>1.288257e+01</td>\n",
              "      <td>2.498009e+00</td>\n",
              "      <td>1.743372e+00</td>\n",
              "      <td>3.101961e+00</td>\n",
              "      <td>4.019237e+01</td>\n",
              "      <td>2.037278e+01</td>\n",
              "      <td>7.992739e+00</td>\n",
              "      <td>1.426244e+01</td>\n",
              "      <td>1.776285e+01</td>\n",
              "      <td>1.149652e+01</td>\n",
              "      <td>8.374498e+00</td>\n",
              "    </tr>\n",
              "  </tbody>\n",
              "</table>\n",
              "</div>"
            ],
            "text/plain": [
              "          lepton pT    lepton eta  ...         m_wbb        m_wwbb\n",
              "count  1.100000e+07  1.100000e+07  ...  1.100000e+07  1.100000e+07\n",
              "mean   9.999576e-01 -8.295326e-06  ...  1.054917e+00  9.898391e-01\n",
              "std    5.607220e-01  1.000114e+00  ...  3.613682e-01  3.121480e-01\n",
              "min    2.746966e-01 -2.434976e+00  ...  2.951122e-01  3.307214e-01\n",
              "25%    5.907533e-01 -7.383225e-01  ...  8.193964e-01  7.703901e-01\n",
              "50%    8.533714e-01 -5.415563e-05  ...  9.473447e-01  8.719701e-01\n",
              "75%    1.236226e+00  7.382142e-01  ...  1.140458e+00  1.059248e+00\n",
              "max    1.209891e+01  2.434868e+00  ...  1.149652e+01  8.374498e+00\n",
              "\n",
              "[8 rows x 28 columns]"
            ]
          },
          "metadata": {
            "tags": []
          },
          "execution_count": 7
        }
      ]
    },
    {
      "cell_type": "code",
      "metadata": {
        "colab": {
          "base_uri": "https://localhost:8080/"
        },
        "id": "9o9kCbT6xboJ",
        "outputId": "c6a0ce45-4f13-4ba1-cace-d5729104ed82"
      },
      "source": [
        "\n",
        "from sklearn.preprocessing import MinMaxScaler\n",
        "\n",
        "scaler = MinMaxScaler(feature_range=(0, 1))\n",
        "scaled_x = scaler.fit_transform(raw_higgs)\n",
        "\n",
        "# Print out the adjustment that the scaler applied to the total_earnings column of data\n",
        "print(\"Note: median values were scaled by multiplying by {:.10f} and adding {:.6f}\".format(scaler.scale_[7], scaler.min_[7]))\n",
        "multiplied_by = scaler.scale_[7]\n",
        "added = scaler.min_[7]\n",
        "\n",
        "scaled_train_df = pd.DataFrame(scaled_x, columns=raw_higgs.columns.values)"
      ],
      "execution_count": null,
      "outputs": [
        {
          "output_type": "stream",
          "text": [
            "Note: median values were scaled by multiplying by 0.2871342599 and adding 0.499969\n"
          ],
          "name": "stdout"
        }
      ]
    },
    {
      "cell_type": "code",
      "metadata": {
        "colab": {
          "base_uri": "https://localhost:8080/",
          "height": 1000
        },
        "id": "v87Qnwcy2cZN",
        "outputId": "563ea278-4405-4b30-c9e6-a39c23e46c1a"
      },
      "source": [
        "import matplotlib.pyplot as plt\n",
        "%matplotlib inline\n",
        "for i in scaled_train_df:\n",
        "    print(i, \" Feature Scaled Histogram\")\n",
        "    scaled_train_df[i].hist()\n",
        "    plt.show()\n"
      ],
      "execution_count": null,
      "outputs": [
        {
          "output_type": "stream",
          "text": [
            "lepton pT  Feature Scaled Histogram\n"
          ],
          "name": "stdout"
        },
        {
          "output_type": "display_data",
          "data": {
            "image/png": "[encoded data removed]",
            "text/plain": [
              "<Figure size 432x288 with 1 Axes>"
            ]
          },
          "metadata": {
            "tags": [],
            "needs_background": "light"
          }
        },
        {
          "output_type": "stream",
          "text": [
            "lepton eta  Feature Scaled Histogram\n"
          ],
          "name": "stdout"
        },
        {
          "output_type": "display_data",
          "data": {
            "image/png": "[encoded data removed]",
            "text/plain": [
              "<Figure size 432x288 with 1 Axes>"
            ]
          },
          "metadata": {
            "tags": [],
            "needs_background": "light"
          }
        },
        {
          "output_type": "stream",
          "text": [
            "lepton phi  Feature Scaled Histogram\n"
          ],
          "name": "stdout"
        },
        {
          "output_type": "display_data",
          "data": {
            "image/png": "[encoded data removed]",
            "text/plain": [
              "<Figure size 432x288 with 1 Axes>"
            ]
          },
          "metadata": {
            "tags": [],
            "needs_background": "light"
          }
        },
        {
          "output_type": "stream",
          "text": [
            "missing energy magnitude  Feature Scaled Histogram\n"
          ],
          "name": "stdout"
        },
        {
          "output_type": "display_data",
          "data": {
            "image/png": "[encoded data removed]",
            "text/plain": [
              "<Figure size 432x288 with 1 Axes>"
            ]
          },
          "metadata": {
            "tags": [],
            "needs_background": "light"
          }
        },
        {
          "output_type": "stream",
          "text": [
            "missing energy phi  Feature Scaled Histogram\n"
          ],
          "name": "stdout"
        },
        {
          "output_type": "display_data",
          "data": {
            "image/png": "[encoded data removed]",
            "text/plain": [
              "<Figure size 432x288 with 1 Axes>"
            ]
          },
          "metadata": {
            "tags": [],
            "needs_background": "light"
          }
        },
        {
          "output_type": "stream",
          "text": [
            "jet 1 pt  Feature Scaled Histogram\n"
          ],
          "name": "stdout"
        },
        {
          "output_type": "display_data",
          "data": {
            "image/png": "[encoded data removed]",
            "text/plain": [
              "<Figure size 432x288 with 1 Axes>"
            ]
          },
          "metadata": {
            "tags": [],
            "needs_background": "light"
          }
        },
        {
          "output_type": "stream",
          "text": [
            "jet 1 eta  Feature Scaled Histogram\n"
          ],
          "name": "stdout"
        },
        {
          "output_type": "display_data",
          "data": {
            "image/png": "[encoded data removed]",
            "text/plain": [
              "<Figure size 432x288 with 1 Axes>"
            ]
          },
          "metadata": {
            "tags": [],
            "needs_background": "light"
          }
        },
        {
          "output_type": "stream",
          "text": [
            "jet 1 phi  Feature Scaled Histogram\n"
          ],
          "name": "stdout"
        },
        {
          "output_type": "display_data",
          "data": {
            "image/png": "[encoded data removed]",
            "text/plain": [
              "<Figure size 432x288 with 1 Axes>"
            ]
          },
          "metadata": {
            "tags": [],
            "needs_background": "light"
          }
        },
        {
          "output_type": "stream",
          "text": [
            "jet 1 b-tag  Feature Scaled Histogram\n"
          ],
          "name": "stdout"
        },
        {
          "output_type": "display_data",
          "data": {
            "image/png": "[encoded data removed]",
            "text/plain": [
              "<Figure size 432x288 with 1 Axes>"
            ]
          },
          "metadata": {
            "tags": [],
            "needs_background": "light"
          }
        },
        {
          "output_type": "stream",
          "text": [
            "jet 2 pt  Feature Scaled Histogram\n"
          ],
          "name": "stdout"
        },
        {
          "output_type": "display_data",
          "data": {
            "image/png": "[encoded data removed]",
            "text/plain": [
              "<Figure size 432x288 with 1 Axes>"
            ]
          },
          "metadata": {
            "tags": [],
            "needs_background": "light"
          }
        },
        {
          "output_type": "stream",
          "text": [
            "jet 2 eta  Feature Scaled Histogram\n"
          ],
          "name": "stdout"
        },
        {
          "output_type": "display_data",
          "data": {
            "image/png": "[encoded data removed]",
            "text/plain": [
              "<Figure size 432x288 with 1 Axes>"
            ]
          },
          "metadata": {
            "tags": [],
            "needs_background": "light"
          }
        },
        {
          "output_type": "stream",
          "text": [
            "jet 2 phi  Feature Scaled Histogram\n"
          ],
          "name": "stdout"
        },
        {
          "output_type": "display_data",
          "data": {
            "image/png": "[encoded data removed]",
            "text/plain": [
              "<Figure size 432x288 with 1 Axes>"
            ]
          },
          "metadata": {
            "tags": [],
            "needs_background": "light"
          }
        },
        {
          "output_type": "stream",
          "text": [
            "jet 2 b-tag  Feature Scaled Histogram\n"
          ],
          "name": "stdout"
        },
        {
          "output_type": "display_data",
          "data": {
            "image/png": "[encoded data removed]",
            "text/plain": [
              "<Figure size 432x288 with 1 Axes>"
            ]
          },
          "metadata": {
            "tags": [],
            "needs_background": "light"
          }
        },
        {
          "output_type": "stream",
          "text": [
            "jet 3 pt  Feature Scaled Histogram\n"
          ],
          "name": "stdout"
        },
        {
          "output_type": "display_data",
          "data": {
            "image/png": "[encoded data removed]",
            "text/plain": [
              "<Figure size 432x288 with 1 Axes>"
            ]
          },
          "metadata": {
            "tags": [],
            "needs_background": "light"
          }
        },
        {
          "output_type": "stream",
          "text": [
            "jet 3 eta  Feature Scaled Histogram\n"
          ],
          "name": "stdout"
        },
        {
          "output_type": "display_data",
          "data": {
            "image/png": "[encoded data removed]",
            "text/plain": [
              "<Figure size 432x288 with 1 Axes>"
            ]
          },
          "metadata": {
            "tags": [],
            "needs_background": "light"
          }
        },
        {
          "output_type": "stream",
          "text": [
            "jet 3 phi  Feature Scaled Histogram\n"
          ],
          "name": "stdout"
        },
        {
          "output_type": "display_data",
          "data": {
            "image/png": "[encoded data removed]",
            "text/plain": [
              "<Figure size 432x288 with 1 Axes>"
            ]
          },
          "metadata": {
            "tags": [],
            "needs_background": "light"
          }
        },
        {
          "output_type": "stream",
          "text": [
            "jet 3 b-tag  Feature Scaled Histogram\n"
          ],
          "name": "stdout"
        },
        {
          "output_type": "display_data",
          "data": {
            "image/png": "[encoded data removed]",
            "text/plain": [
              "<Figure size 432x288 with 1 Axes>"
            ]
          },
          "metadata": {
            "tags": [],
            "needs_background": "light"
          }
        },
        {
          "output_type": "stream",
          "text": [
            "jet 4 pt  Feature Scaled Histogram\n"
          ],
          "name": "stdout"
        },
        {
          "output_type": "display_data",
          "data": {
            "image/png": "[encoded data removed]",
            "text/plain": [
              "<Figure size 432x288 with 1 Axes>"
            ]
          },
          "metadata": {
            "tags": [],
            "needs_background": "light"
          }
        },
        {
          "output_type": "stream",
          "text": [
            "jet 4 eta  Feature Scaled Histogram\n"
          ],
          "name": "stdout"
        },
        {
          "output_type": "display_data",
          "data": {
            "image/png": "[encoded data removed]",
            "text/plain": [
              "<Figure size 432x288 with 1 Axes>"
            ]
          },
          "metadata": {
            "tags": [],
            "needs_background": "light"
          }
        },
        {
          "output_type": "stream",
          "text": [
            "jet 4 phi  Feature Scaled Histogram\n"
          ],
          "name": "stdout"
        },
        {
          "output_type": "display_data",
          "data": {
            "image/png": "[encoded data removed]",
            "text/plain": [
              "<Figure size 432x288 with 1 Axes>"
            ]
          },
          "metadata": {
            "tags": [],
            "needs_background": "light"
          }
        },
        {
          "output_type": "stream",
          "text": [
            "jet 4 b-tag  Feature Scaled Histogram\n"
          ],
          "name": "stdout"
        },
        {
          "output_type": "display_data",
          "data": {
            "image/png": "[encoded data removed]",
            "text/plain": [
              "<Figure size 432x288 with 1 Axes>"
            ]
          },
          "metadata": {
            "tags": [],
            "needs_background": "light"
          }
        },
        {
          "output_type": "stream",
          "text": [
            "m_jj  Feature Scaled Histogram\n"
          ],
          "name": "stdout"
        },
        {
          "output_type": "display_data",
          "data": {
            "image/png": "[encoded data removed]",
            "text/plain": [
              "<Figure size 432x288 with 1 Axes>"
            ]
          },
          "metadata": {
            "tags": [],
            "needs_background": "light"
          }
        },
        {
          "output_type": "stream",
          "text": [
            "m_jjj  Feature Scaled Histogram\n"
          ],
          "name": "stdout"
        },
        {
          "output_type": "display_data",
          "data": {
            "image/png": "[encoded data removed]",
            "text/plain": [
              "<Figure size 432x288 with 1 Axes>"
            ]
          },
          "metadata": {
            "tags": [],
            "needs_background": "light"
          }
        },
        {
          "output_type": "stream",
          "text": [
            "m_lv  Feature Scaled Histogram\n"
          ],
          "name": "stdout"
        },
        {
          "output_type": "display_data",
          "data": {
            "image/png": "[encoded data removed]",
            "text/plain": [
              "<Figure size 432x288 with 1 Axes>"
            ]
          },
          "metadata": {
            "tags": [],
            "needs_background": "light"
          }
        },
        {
          "output_type": "stream",
          "text": [
            "m_jlv  Feature Scaled Histogram\n"
          ],
          "name": "stdout"
        },
        {
          "output_type": "display_data",
          "data": {
            "image/png": "[encoded data removed]",
            "text/plain": [
              "<Figure size 432x288 with 1 Axes>"
            ]
          },
          "metadata": {
            "tags": [],
            "needs_background": "light"
          }
        },
        {
          "output_type": "stream",
          "text": [
            "m_bb  Feature Scaled Histogram\n"
          ],
          "name": "stdout"
        },
        {
          "output_type": "display_data",
          "data": {
            "image/png": "[encoded data removed]",
            "text/plain": [
              "<Figure size 432x288 with 1 Axes>"
            ]
          },
          "metadata": {
            "tags": [],
            "needs_background": "light"
          }
        },
        {
          "output_type": "stream",
          "text": [
            "m_wbb  Feature Scaled Histogram\n"
          ],
          "name": "stdout"
        },
        {
          "output_type": "display_data",
          "data": {
            "image/png": "[encoded data removed]",
            "text/plain": [
              "<Figure size 432x288 with 1 Axes>"
            ]
          },
          "metadata": {
            "tags": [],
            "needs_background": "light"
          }
        },
        {
          "output_type": "stream",
          "text": [
            "m_wwbb  Feature Scaled Histogram\n"
          ],
          "name": "stdout"
        },
        {
          "output_type": "display_data",
          "data": {
            "image/png": "[encoded data removed]",
            "text/plain": [
              "<Figure size 432x288 with 1 Axes>"
            ]
          },
          "metadata": {
            "tags": [],
            "needs_background": "light"
          }
        }
      ]
    },
    {
      "cell_type": "code",
      "metadata": {
        "id": "J4WOxhnMxb1B"
      },
      "source": [
        "from sklearn.model_selection import train_test_split\n",
        "x_train, x_test, y_train, y_test = train_test_split(scaled_train_df, total_target, test_size=0.10, random_state=7269138)"
      ],
      "execution_count": null,
      "outputs": []
    },
    {
      "cell_type": "code",
      "metadata": {
        "colab": {
          "base_uri": "https://localhost:8080/"
        },
        "id": "nGR-KKAFxb9k",
        "outputId": "6390a8bb-a2e1-4188-94af-f7620a61be57"
      },
      "source": [
        "x_train.shape"
      ],
      "execution_count": null,
      "outputs": [
        {
          "output_type": "execute_result",
          "data": {
            "text/plain": [
              "(9900000, 28)"
            ]
          },
          "metadata": {
            "tags": []
          },
          "execution_count": 11
        }
      ]
    },
    {
      "cell_type": "code",
      "metadata": {
        "colab": {
          "base_uri": "https://localhost:8080/"
        },
        "id": "2KLt-1Dk-cEG",
        "outputId": "e34a665b-b1e1-446b-f3f9-998d54a17846"
      },
      "source": [
        "x_test.shape"
      ],
      "execution_count": null,
      "outputs": [
        {
          "output_type": "execute_result",
          "data": {
            "text/plain": [
              "(1100000, 28)"
            ]
          },
          "metadata": {
            "tags": []
          },
          "execution_count": 12
        }
      ]
    },
    {
      "cell_type": "markdown",
      "metadata": {
        "id": "OD5iFAbzrlDl"
      },
      "source": [
        "## 3. Method: Deep Neural Networks (DNN)"
      ]
    },
    {
      "cell_type": "markdown",
      "metadata": {
        "id": "XeQUfCli-v-z"
      },
      "source": [
        "The idea behind machine learning is enabling machines with the ability to make decisions based on learned material, outside of explicitly coded rules by an engineer. Even though there are many tasks that machine learning excels at, there is a pitfall for those unstructured data styles in need of classification [4]. \n",
        "\n",
        "In an effort to alleviate these pain points of deep learning the idea of a neural network was born. Deep neural networks or DNN (also known as deep learning) is a sub-branch of machine learning contained within the family tree of tools for artificial intelligence. The main difference between a neural network and a deep neural network is the idea that many more hidden layers are contained within the deep neural network that allows for much more complex patterns to develop and essential learned behavior for the network. These DNNs work with algorithms that are highly inspired from the biological structure and functioning of the human brain. The idea is that this mimicked structure will enable machines with what, can only be described as, human intelligence. The flow of information through the DNN starts in a node (neuron) through input and an activation function is calculated within each of those nodes. Leveraging a simplistic rule the node then passes an output to the next node, very similar to the interactions between neurons in a brain. As the output increases from a node, then the higher the significance (weight) of that input dimension would be. The dimensional output is folded into the next layer to form an additional dimension. This process is amplified several times over and allows for the development of a complex network with several connections capable of using activation functions and weighted importance of output that is then feedback through the network to allow for learning through backpropagation. The continued iteration of this process with more data assists the network to update the weights of importance of outcomes (probabilities) effectively creating a system that allows for decision prediction output based on the rules it has essentially created for itself without an engineer's explicit programming [5]. \n",
        "\n",
        "Due to computational costs and hardware this took until more recently to develop and show strides in the machine learning community. Leveraging a deep learning model does have a caveat, the data available must be in surplus. Some examples we use daily in our lives that leverage deep learning models. The tag suggestions on Facebook, self driving Tesla, any voice assistant on your phone, computer, or smart device. "
      ]
    },
    {
      "cell_type": "markdown",
      "metadata": {
        "id": "tOyly9cO-e3W"
      },
      "source": [
        "### 3.1 Model Design"
      ]
    },
    {
      "cell_type": "markdown",
      "metadata": {
        "id": "HosC-Ws2-7hI"
      },
      "source": [
        "For our replication of the work completed by Baldi, Sadowski, and Whiteson 2014 we want to show their hyperparameter tuning efforts. We will not execute this but will effectively leverage those best parameters they surfaced.\n",
        "\n",
        "They leveraged the hyper-parameters in such a way to research if the DNN were indeed able to learn the discriminative information within the high-level features in the data. In order to do this they trained separate classifiers we have indicated those mimicked hyperparameter settings in the below table: _Table 3.1.1: DNN Hyperparameter Training_ [3]. [3].\n",
        "\n",
        "#### Table 3.1.1: DNN Hyperparameter Training\n",
        "\n",
        "|Hyper-parameters|Choices|\n",
        "|--|:--|\n",
        "|Depth|2, 3, 4, 5, 6 layers|\n",
        "|Hidden units per layer|100, 200, 300, 500 |\n",
        "|Initial learning rate|0.01, 0.05|\n",
        "|Weight decay| 0, 10^-5|\n",
        "|Pre-training|none, autoencoder|"
      ]
    },
    {
      "cell_type": "markdown",
      "metadata": {
        "id": "fwZI12PV-iw9"
      },
      "source": [
        "After the above tuning the below  hyperparameters for the five-layer neural network (multi-perceptron) with 300 hidden units within each layer. We will implement their learning rate of 0.05, and a weight decay coefficient of 1 × 10^−5. They indicate that the extra hidden units, additional hidden layers, and pre-training computation costs far outweighed the lack of increasing performance [3]. Below we have outlined the layers and their corresponding hyperparameters for review in _TTable 3.1.2: DDN Model Layer Hyperparameters_. \n",
        "\n",
        "#### Table 3.1.2: DDN Model Layer Hyperparameters\n",
        "\n",
        "| Object | Weight Initialization | Weight Decay [L2 regularization] | Activation | Node Count |\n",
        "|--|:--|:--|:--|:--|\n",
        "|Layer 1 |𝞵 = 0, 𝞼 = 0.1 |1x10^-5|tanh|300|\n",
        "|Layer 2 |𝞵 = 0, 𝞼 = 0.05 |1x10^-5|tanh|300|\n",
        "|Layer 3 |𝞵 = 0, 𝞼 = 0.05 |1x10^-5|tanh|300|\n",
        "|Layer 4 |𝞵 = 0, 𝞼 = 0.05 |1x10^-5|tanh|300|\n",
        "|Layer 5 |𝞵 = 0, 𝞼 = 0.001 |1x10^-5|tanh|300|"
      ]
    },
    {
      "cell_type": "markdown",
      "metadata": {
        "id": "WZ3tsnh6DujS"
      },
      "source": [
        "Additionally we will leverage their model training process in an effort to fully replicate the studies results. The Baldi, Sadowski, and Whiteson study leveraged a stochastic gradient descent (SGD) with a batch size of 100. The learning rate started at 0.05 and was systematically reduced by a factor of 1.0000002 for each batch to a final minimum rate of 1X10^-6. The team started the momentum at 0.9 and increased it linearly to 0.99 over 200 epochs plateauing after the 200th epoch. The researchers leveraged an early stopping criterion, they identified that early stopping with a minimum change in error of 0.00001 a cross 10 epochs was used to determine when they should stop the training process. This resulted in training the model over 200-100 epochs. We did note that the researchers failed to indicate the error metrics they used and monitored for indication of early stopping. Therefore, we chose to monitor the binary cross-entropy loss for our early stopping since it is considered a common leveraged variable for practitioners of deep learning. Additionally, we noted that due to the very low number of learning rate reduction for the first couple epochs there is no indicated change, however, during the lifetime of the training we see the reduction of the learning rate occur as expected. We have depicted the training settings outlined in _Table 3.1.1: DNN Training Parameters_\n",
        "\n",
        "#### Table 3.1.1: Table 3.1.3: DNN Training Parameters\n",
        "\n",
        "|Training Technique|Selection|\n",
        "|--|:--|\n",
        "|Loss|Binary cross-entropy|\n",
        "|Optimizer|SGD|\n",
        "|Early stopping|Min reduction of 0.00001 validation loss over 10 epochs|\n",
        "|Initial learning rate|0.05|\n",
        "|Learning rate decay|Reduced on each bach by a factor of 1.0000002|\n",
        "|Minimum learning rate|1X10^-6|\n",
        "|Initial optimizer momentum|0.9|\n",
        "|Momentum increase|0.00045 (epoch) + 0.9|\n",
        "|Maximum optimizer momentum|0.99|\n"
      ]
    },
    {
      "cell_type": "code",
      "metadata": {
        "id": "snhczaUSW3M5"
      },
      "source": [
        "class CustomLearningRateScheduler(tf.keras.callbacks.Callback):\n",
        "    \"\"\"Learning rate scheduler which sets the learning rate according to schedule.\n",
        "\n",
        "  Arguments:\n",
        "      schedule: a function that takes an epoch index\n",
        "          (integer, indexed from 0) and current learning rate\n",
        "          as inputs and returns a new learning rate as output (float).\n",
        "  \"\"\"\n",
        "\n",
        "    def __init__(self, schedule):\n",
        "        super(CustomLearningRateScheduler, self).__init__()\n",
        "        self.schedule = schedule\n",
        "\n",
        "    def on_epoch_begin(self, epoch, logs=None):\n",
        "        if not hasattr(self.model.optimizer, \"lr\"):\n",
        "            raise ValueError('Optimizer must have a \"lr\" attribute.')\n",
        "        # Get the current learning rate from model's optimizer.\n",
        "        lr = float(tf.keras.backend.get_value(self.model.optimizer.learning_rate))\n",
        "        # Call schedule function to get the scheduled learning rate.\n",
        "        scheduled_lr = self.schedule(epoch, lr)\n",
        "        # Set the value back to the optimizer before this epoch starts\n",
        "        tf.keras.backend.set_value(self.model.optimizer.lr, scheduled_lr)\n",
        "        print(\"\\nEpoch %05d: Learning rate is %6.4f.\" % (epoch, scheduled_lr))\n",
        "\n",
        "def lr_schedule(epoch, lr):\n",
        "    \"\"\"Helper function to retrieve the scheduled learning rate based on epoch.\"\"\"\n",
        "    if epoch < 1:\n",
        "        lr = .05\n",
        "    else: \n",
        "        lr = lr / 1.0000002\n",
        "\n",
        "    return lr"
      ],
      "execution_count": null,
      "outputs": []
    },
    {
      "cell_type": "code",
      "metadata": {
        "id": "-zv4WQpZ0mPe"
      },
      "source": [
        "class CustomMomentumScheduler(tf.keras.callbacks.Callback):\n",
        "    \"\"\"Learning rate scheduler which sets the learning rate according to schedule.\n",
        "\n",
        "  Arguments:\n",
        "      schedule: a function that takes an epoch index\n",
        "          (integer, indexed from 0) and current learning rate\n",
        "          as inputs and returns a new learning rate as output (float).\n",
        "  \"\"\"\n",
        "\n",
        "    def __init__(self, schedule):\n",
        "        super(CustomMomentumScheduler, self).__init__()\n",
        "        self.schedule = schedule\n",
        "\n",
        "    def on_epoch_begin(self, epoch, logs=None):\n",
        "        if not hasattr(self.model.optimizer, \"momentum\"):\n",
        "            raise ValueError('Optimizer must have a \"momentum\" attribute.')\n",
        "        # Get the current learning rate from model's optimizer.\n",
        "        m = float(tf.keras.backend.get_value(self.model.optimizer.momentum))\n",
        "        # Call schedule function to get the scheduled learning rate.\n",
        "        scheduled_m = self.schedule(epoch, m)\n",
        "        # Set the value back to the optimizer before this epoch starts\n",
        "        tf.keras.backend.set_value(self.model.optimizer.momentum, scheduled_m)\n",
        "        print(\"\\nEpoch %05d: Momentum is %6.4f.\" % (epoch, scheduled_m))\n",
        "\n",
        "def m_schedule(epoch, m):\n",
        "    \"\"\"Helper function to retrieve the scheduled learning rate based on epoch.\"\"\"\n",
        "    if epoch < 1:\n",
        "        m = .9\n",
        "    else: \n",
        "        m = (0.00045 * epoch) + 0.9\n",
        "\n",
        "    return m"
      ],
      "execution_count": null,
      "outputs": []
    },
    {
      "cell_type": "code",
      "metadata": {
        "id": "eKwQkXa0-jAN"
      },
      "source": [
        "earlyStoppingCallback = tf.keras.callbacks.EarlyStopping(monitor='val_loss', patience=10, min_delta=.00001)\n",
        "\n",
        "hidden_size = 300\n",
        "initializerOne = tf.keras.initializers.RandomNormal(mean=0.0, stddev=0.1, seed=None)\n",
        "initializerTwo = tf.keras.initializers.RandomNormal(mean=0.0, stddev=0.05, seed=None)\n",
        "initializerThree = tf.keras.initializers.RandomNormal(mean=0.0, stddev=0.001, seed=None)\n",
        "weightdecay = 1e-6\n",
        "kernelregL2 = tf.keras.regularizers.L2(weightdecay)\n",
        "\n",
        "model = tf.keras.Sequential()\n",
        "model.add(tf.keras.Input(shape=(28,)))\n",
        "model.add(layers.Dense(hidden_size, activation='tanh', name=\"layer1\", kernel_initializer=initializerOne, kernel_regularizer=kernelregL2))  # adds a layer with 300 neurons, tanh activation\n",
        "model.add(layers.Dense(hidden_size, activation='tanh', name=\"layer2\", kernel_initializer=initializerTwo, kernel_regularizer=kernelregL2))\n",
        "model.add(layers.Dense(hidden_size, activation='tanh', name=\"layer3\", kernel_initializer=initializerTwo, kernel_regularizer=kernelregL2))\n",
        "model.add(layers.Dense(hidden_size, activation='tanh', name=\"layer4\", kernel_initializer=initializerTwo, kernel_regularizer=kernelregL2))\n",
        "model.add(layers.Dense(hidden_size, activation='tanh', name=\"layer5\", kernel_initializer=initializerThree, kernel_regularizer=kernelregL2))\n",
        "model.add(layers.Dense(1, activation='sigmoid', name=\"layer6\"))"
      ],
      "execution_count": null,
      "outputs": []
    },
    {
      "cell_type": "markdown",
      "metadata": {
        "id": "VEWalx_p_0g2"
      },
      "source": [
        "The referenced study by Baldi, Sadowski, and Whiteson, 2014 state they leveraged 2.6 million training examples and 500,000 observations were leveraged for model validation. The 500,000 test dataset was curated using the same Monte Carlo processes used to develop the training dataset. Due to extreme computation needs of this type of modeling the optimizations in their efforts were not considered thorough. However, they did include a combination of pre-training methods, initial learning rates, network architectures, and regularization methods. We were able to leverage the entirety of the dataset levereing 9.9 million for training our model and 1.1 million observations to test our model. As researchers we decided that testing on as much data is possible will help us more accurately train and test our model. We accomplished this by turning the bit precision down from 64 floats to 32 bit floats. [3]."
      ]
    },
    {
      "cell_type": "markdown",
      "metadata": {
        "id": "MSiBa6cU_dXc"
      },
      "source": [
        "### 3.2 Model Compile"
      ]
    },
    {
      "cell_type": "code",
      "metadata": {
        "id": "oCahTlEX_S2G"
      },
      "source": [
        "model.compile(optimizer='sgd',\n",
        "              loss='binary_crossentropy',\n",
        "              metrics=['mean_squared_error','mean_absolute_error','accuracy'])"
      ],
      "execution_count": null,
      "outputs": []
    },
    {
      "cell_type": "markdown",
      "metadata": {
        "id": "LIPqxTUG_q1k"
      },
      "source": [
        "### 3.3 Fit Model"
      ]
    },
    {
      "cell_type": "code",
      "metadata": {
        "colab": {
          "base_uri": "https://localhost:8080/"
        },
        "id": "QP0uSj378HDf",
        "outputId": "f136bed3-7c42-4a74-8fea-cf745289545f"
      },
      "source": [
        "%%time\n",
        "model.fit(x_train, \n",
        "           y_train, \n",
        "           epochs=75, \n",
        "           validation_data=(x_test,y_test), \n",
        "           callbacks=[\n",
        "              earlyStoppingCallback,\n",
        "              CustomLearningRateScheduler(lr_schedule),\n",
        "              CustomMomentumScheduler(m_schedule), \n",
        "           ], \n",
        "           batch_size=100)"
      ],
      "execution_count": null,
      "outputs": [
        {
          "output_type": "stream",
          "text": [
            "Epoch 1/75\n",
            "\n",
            "Epoch 00000: Learning rate is 0.0500.\n",
            "\n",
            "Epoch 00000: Momentum is 0.9000.\n",
            "99000/99000 [==============================] - 991s 10ms/step - loss: 0.5867 - mean_squared_error: 0.2009 - mean_absolute_error: 0.4016 - accuracy: 0.6859 - val_loss: 0.5746 - val_mean_squared_error: 0.1960 - val_mean_absolute_error: 0.3918 - val_accuracy: 0.6947\n",
            "Epoch 2/75\n",
            "\n",
            "Epoch 00001: Learning rate is 0.0500.\n",
            "\n",
            "Epoch 00001: Momentum is 0.9004.\n",
            "99000/99000 [==============================] - 989s 10ms/step - loss: 0.5658 - mean_squared_error: 0.1921 - mean_absolute_error: 0.3840 - accuracy: 0.7040 - val_loss: 0.5572 - val_mean_squared_error: 0.1886 - val_mean_absolute_error: 0.3700 - val_accuracy: 0.7102\n",
            "Epoch 3/75\n",
            "\n",
            "Epoch 00002: Learning rate is 0.0500.\n",
            "\n",
            "Epoch 00002: Momentum is 0.9009.\n",
            "99000/99000 [==============================] - 1012s 10ms/step - loss: 0.5478 - mean_squared_error: 0.1845 - mean_absolute_error: 0.3689 - accuracy: 0.7187 - val_loss: 0.5429 - val_mean_squared_error: 0.1824 - val_mean_absolute_error: 0.3692 - val_accuracy: 0.7235\n",
            "Epoch 4/75\n",
            "\n",
            "Epoch 00003: Learning rate is 0.0500.\n",
            "\n",
            "Epoch 00003: Momentum is 0.9013.\n",
            "99000/99000 [==============================] - 1054s 11ms/step - loss: 0.5364 - mean_squared_error: 0.1798 - mean_absolute_error: 0.3593 - accuracy: 0.7278 - val_loss: 0.5327 - val_mean_squared_error: 0.1784 - val_mean_absolute_error: 0.3547 - val_accuracy: 0.7294\n",
            "Epoch 5/75\n",
            "\n",
            "Epoch 00004: Learning rate is 0.0500.\n",
            "\n",
            "Epoch 00004: Momentum is 0.9018.\n",
            "99000/99000 [==============================] - 1109s 11ms/step - loss: 0.5295 - mean_squared_error: 0.1769 - mean_absolute_error: 0.3536 - accuracy: 0.7329 - val_loss: 0.5284 - val_mean_squared_error: 0.1764 - val_mean_absolute_error: 0.3528 - val_accuracy: 0.7336\n",
            "Epoch 6/75\n",
            "\n",
            "Epoch 00005: Learning rate is 0.0500.\n",
            "\n",
            "Epoch 00005: Momentum is 0.9022.\n",
            "99000/99000 [==============================] - 1222s 12ms/step - loss: 0.5237 - mean_squared_error: 0.1745 - mean_absolute_error: 0.3488 - accuracy: 0.7372 - val_loss: 0.5193 - val_mean_squared_error: 0.1728 - val_mean_absolute_error: 0.3411 - val_accuracy: 0.7402\n",
            "Epoch 7/75\n",
            "\n",
            "Epoch 00006: Learning rate is 0.0500.\n",
            "\n",
            "Epoch 00006: Momentum is 0.9027.\n",
            "99000/99000 [==============================] - 1062s 11ms/step - loss: 0.5186 - mean_squared_error: 0.1724 - mean_absolute_error: 0.3445 - accuracy: 0.7407 - val_loss: 0.5139 - val_mean_squared_error: 0.1706 - val_mean_absolute_error: 0.3426 - val_accuracy: 0.7444\n",
            "Epoch 8/75\n",
            "\n",
            "Epoch 00007: Learning rate is 0.0500.\n",
            "\n",
            "Epoch 00007: Momentum is 0.9032.\n",
            "99000/99000 [==============================] - 1177s 12ms/step - loss: 0.5145 - mean_squared_error: 0.1707 - mean_absolute_error: 0.3413 - accuracy: 0.7438 - val_loss: 0.5089 - val_mean_squared_error: 0.1686 - val_mean_absolute_error: 0.3373 - val_accuracy: 0.7475\n",
            "Epoch 9/75\n",
            "\n",
            "Epoch 00008: Learning rate is 0.0500.\n",
            "\n",
            "Epoch 00008: Momentum is 0.9036.\n",
            "99000/99000 [==============================] - 1017s 10ms/step - loss: 0.5109 - mean_squared_error: 0.1693 - mean_absolute_error: 0.3384 - accuracy: 0.7463 - val_loss: 0.5095 - val_mean_squared_error: 0.1687 - val_mean_absolute_error: 0.3355 - val_accuracy: 0.7474\n",
            "Epoch 10/75\n",
            "\n",
            "Epoch 00009: Learning rate is 0.0500.\n",
            "\n",
            "Epoch 00009: Momentum is 0.9041.\n",
            "99000/99000 [==============================] - 1046s 11ms/step - loss: 0.5078 - mean_squared_error: 0.1680 - mean_absolute_error: 0.3358 - accuracy: 0.7485 - val_loss: 0.5044 - val_mean_squared_error: 0.1666 - val_mean_absolute_error: 0.3266 - val_accuracy: 0.7514\n",
            "Epoch 11/75\n",
            "\n",
            "Epoch 00010: Learning rate is 0.0500.\n",
            "\n",
            "Epoch 00010: Momentum is 0.9045.\n",
            "99000/99000 [==============================] - 1171s 12ms/step - loss: 0.5047 - mean_squared_error: 0.1668 - mean_absolute_error: 0.3333 - accuracy: 0.7507 - val_loss: 0.5049 - val_mean_squared_error: 0.1668 - val_mean_absolute_error: 0.3338 - val_accuracy: 0.7504\n",
            "Epoch 12/75\n",
            "\n",
            "Epoch 00011: Learning rate is 0.0500.\n",
            "\n",
            "Epoch 00011: Momentum is 0.9050.\n",
            "99000/99000 [==============================] - 1104s 11ms/step - loss: 0.5022 - mean_squared_error: 0.1657 - mean_absolute_error: 0.3312 - accuracy: 0.7525 - val_loss: 0.4966 - val_mean_squared_error: 0.1636 - val_mean_absolute_error: 0.3283 - val_accuracy: 0.7563\n",
            "Epoch 13/75\n",
            "\n",
            "Epoch 00012: Learning rate is 0.0500.\n",
            "\n",
            "Epoch 00012: Momentum is 0.9054.\n",
            "99000/99000 [==============================] - 1025s 10ms/step - loss: 0.5000 - mean_squared_error: 0.1648 - mean_absolute_error: 0.3294 - accuracy: 0.7541 - val_loss: 0.5008 - val_mean_squared_error: 0.1651 - val_mean_absolute_error: 0.3341 - val_accuracy: 0.7534\n",
            "Epoch 14/75\n",
            "\n",
            "Epoch 00013: Learning rate is 0.0500.\n",
            "\n",
            "Epoch 00013: Momentum is 0.9059.\n",
            "99000/99000 [==============================] - 961s 10ms/step - loss: 0.4980 - mean_squared_error: 0.1640 - mean_absolute_error: 0.3277 - accuracy: 0.7555 - val_loss: 0.4942 - val_mean_squared_error: 0.1624 - val_mean_absolute_error: 0.3231 - val_accuracy: 0.7585\n",
            "Epoch 15/75\n",
            "\n",
            "Epoch 00014: Learning rate is 0.0500.\n",
            "\n",
            "Epoch 00014: Momentum is 0.9063.\n",
            "99000/99000 [==============================] - 851s 9ms/step - loss: 0.4961 - mean_squared_error: 0.1632 - mean_absolute_error: 0.3261 - accuracy: 0.7568 - val_loss: 0.4983 - val_mean_squared_error: 0.1638 - val_mean_absolute_error: 0.3170 - val_accuracy: 0.7564\n",
            "Epoch 16/75\n",
            "\n",
            "Epoch 00015: Learning rate is 0.0500.\n",
            "\n",
            "Epoch 00015: Momentum is 0.9068.\n",
            "99000/99000 [==============================] - 902s 9ms/step - loss: 0.4943 - mean_squared_error: 0.1624 - mean_absolute_error: 0.3246 - accuracy: 0.7581 - val_loss: 0.4933 - val_mean_squared_error: 0.1621 - val_mean_absolute_error: 0.3266 - val_accuracy: 0.7587\n",
            "Epoch 17/75\n",
            "\n",
            "Epoch 00016: Learning rate is 0.0500.\n",
            "\n",
            "Epoch 00016: Momentum is 0.9072.\n",
            "99000/99000 [==============================] - 974s 10ms/step - loss: 0.4927 - mean_squared_error: 0.1618 - mean_absolute_error: 0.3233 - accuracy: 0.7592 - val_loss: 0.4893 - val_mean_squared_error: 0.1603 - val_mean_absolute_error: 0.3191 - val_accuracy: 0.7620\n",
            "Epoch 18/75\n",
            "\n",
            "Epoch 00017: Learning rate is 0.0500.\n",
            "\n",
            "Epoch 00017: Momentum is 0.9077.\n",
            "99000/99000 [==============================] - 992s 10ms/step - loss: 0.4912 - mean_squared_error: 0.1611 - mean_absolute_error: 0.3220 - accuracy: 0.7602 - val_loss: 0.4874 - val_mean_squared_error: 0.1597 - val_mean_absolute_error: 0.3215 - val_accuracy: 0.7630\n",
            "Epoch 19/75\n",
            "\n",
            "Epoch 00018: Learning rate is 0.0500.\n",
            "\n",
            "Epoch 00018: Momentum is 0.9081.\n",
            "99000/99000 [==============================] - 1053s 11ms/step - loss: 0.4897 - mean_squared_error: 0.1605 - mean_absolute_error: 0.3208 - accuracy: 0.7612 - val_loss: 0.4890 - val_mean_squared_error: 0.1602 - val_mean_absolute_error: 0.3157 - val_accuracy: 0.7618\n",
            "Epoch 20/75\n",
            "\n",
            "Epoch 00019: Learning rate is 0.0500.\n",
            "\n",
            "Epoch 00019: Momentum is 0.9085.\n",
            "99000/99000 [==============================] - 1043s 11ms/step - loss: 0.4884 - mean_squared_error: 0.1600 - mean_absolute_error: 0.3197 - accuracy: 0.7623 - val_loss: 0.4877 - val_mean_squared_error: 0.1596 - val_mean_absolute_error: 0.3245 - val_accuracy: 0.7637\n",
            "Epoch 21/75\n",
            "\n",
            "Epoch 00020: Learning rate is 0.0500.\n",
            "\n",
            "Epoch 00020: Momentum is 0.9090.\n",
            "99000/99000 [==============================] - 1042s 11ms/step - loss: 0.4871 - mean_squared_error: 0.1594 - mean_absolute_error: 0.3185 - accuracy: 0.7632 - val_loss: 0.4865 - val_mean_squared_error: 0.1592 - val_mean_absolute_error: 0.3193 - val_accuracy: 0.7637\n",
            "Epoch 22/75\n",
            "\n",
            "Epoch 00021: Learning rate is 0.0500.\n",
            "\n",
            "Epoch 00021: Momentum is 0.9094.\n",
            "99000/99000 [==============================] - 1035s 10ms/step - loss: 0.4859 - mean_squared_error: 0.1589 - mean_absolute_error: 0.3175 - accuracy: 0.7640 - val_loss: 0.4922 - val_mean_squared_error: 0.1611 - val_mean_absolute_error: 0.3211 - val_accuracy: 0.7607\n",
            "Epoch 23/75\n",
            "\n",
            "Epoch 00022: Learning rate is 0.0500.\n",
            "\n",
            "Epoch 00022: Momentum is 0.9099.\n",
            "99000/99000 [==============================] - 1024s 10ms/step - loss: 0.4849 - mean_squared_error: 0.1584 - mean_absolute_error: 0.3166 - accuracy: 0.7649 - val_loss: 0.4850 - val_mean_squared_error: 0.1583 - val_mean_absolute_error: 0.3200 - val_accuracy: 0.7651\n",
            "Epoch 24/75\n",
            "\n",
            "Epoch 00023: Learning rate is 0.0500.\n",
            "\n",
            "Epoch 00023: Momentum is 0.9103.\n",
            "99000/99000 [==============================] - 1045s 11ms/step - loss: 0.4838 - mean_squared_error: 0.1580 - mean_absolute_error: 0.3157 - accuracy: 0.7655 - val_loss: 0.4986 - val_mean_squared_error: 0.1634 - val_mean_absolute_error: 0.3267 - val_accuracy: 0.7574\n",
            "Epoch 25/75\n",
            "\n",
            "Epoch 00024: Learning rate is 0.0500.\n",
            "\n",
            "Epoch 00024: Momentum is 0.9108.\n",
            "99000/99000 [==============================] - 1137s 11ms/step - loss: 0.4830 - mean_squared_error: 0.1576 - mean_absolute_error: 0.3150 - accuracy: 0.7662 - val_loss: 0.4798 - val_mean_squared_error: 0.1564 - val_mean_absolute_error: 0.3137 - val_accuracy: 0.7681\n",
            "Epoch 26/75\n",
            "\n",
            "Epoch 00025: Learning rate is 0.0500.\n",
            "\n",
            "Epoch 00025: Momentum is 0.9113.\n",
            "99000/99000 [==============================] - 1080s 11ms/step - loss: 0.4821 - mean_squared_error: 0.1572 - mean_absolute_error: 0.3142 - accuracy: 0.7669 - val_loss: 0.4881 - val_mean_squared_error: 0.1594 - val_mean_absolute_error: 0.3150 - val_accuracy: 0.7633\n",
            "Epoch 27/75\n",
            "\n",
            "Epoch 00026: Learning rate is 0.0500.\n",
            "\n",
            "Epoch 00026: Momentum is 0.9117.\n",
            "99000/99000 [==============================] - 1073s 11ms/step - loss: 0.4812 - mean_squared_error: 0.1568 - mean_absolute_error: 0.3134 - accuracy: 0.7675 - val_loss: 0.4815 - val_mean_squared_error: 0.1569 - val_mean_absolute_error: 0.3058 - val_accuracy: 0.7675\n",
            "Epoch 28/75\n",
            "\n",
            "Epoch 00027: Learning rate is 0.0500.\n",
            "\n",
            "Epoch 00027: Momentum is 0.9122.\n",
            "99000/99000 [==============================] - 1017s 10ms/step - loss: 0.4805 - mean_squared_error: 0.1565 - mean_absolute_error: 0.3128 - accuracy: 0.7680 - val_loss: 0.4815 - val_mean_squared_error: 0.1569 - val_mean_absolute_error: 0.3103 - val_accuracy: 0.7675\n",
            "Epoch 29/75\n",
            "\n",
            "Epoch 00028: Learning rate is 0.0500.\n",
            "\n",
            "Epoch 00028: Momentum is 0.9126.\n",
            "99000/99000 [==============================] - 1092s 11ms/step - loss: 0.4798 - mean_squared_error: 0.1562 - mean_absolute_error: 0.3121 - accuracy: 0.7686 - val_loss: 0.4824 - val_mean_squared_error: 0.1572 - val_mean_absolute_error: 0.3184 - val_accuracy: 0.7670\n",
            "Epoch 30/75\n",
            "\n",
            "Epoch 00029: Learning rate is 0.0500.\n",
            "\n",
            "Epoch 00029: Momentum is 0.9131.\n",
            "99000/99000 [==============================] - 1030s 10ms/step - loss: 0.4791 - mean_squared_error: 0.1559 - mean_absolute_error: 0.3116 - accuracy: 0.7691 - val_loss: 0.4818 - val_mean_squared_error: 0.1569 - val_mean_absolute_error: 0.3143 - val_accuracy: 0.7675\n",
            "Epoch 31/75\n",
            "\n",
            "Epoch 00030: Learning rate is 0.0500.\n",
            "\n",
            "Epoch 00030: Momentum is 0.9135.\n",
            "99000/99000 [==============================] - 1088s 11ms/step - loss: 0.4785 - mean_squared_error: 0.1556 - mean_absolute_error: 0.3110 - accuracy: 0.7696 - val_loss: 0.4821 - val_mean_squared_error: 0.1569 - val_mean_absolute_error: 0.3105 - val_accuracy: 0.7676\n",
            "Epoch 32/75\n",
            "\n",
            "Epoch 00031: Learning rate is 0.0500.\n",
            "\n",
            "Epoch 00031: Momentum is 0.9140.\n",
            "99000/99000 [==============================] - 1055s 11ms/step - loss: 0.4780 - mean_squared_error: 0.1554 - mean_absolute_error: 0.3105 - accuracy: 0.7700 - val_loss: 0.4790 - val_mean_squared_error: 0.1557 - val_mean_absolute_error: 0.3083 - val_accuracy: 0.7695\n",
            "Epoch 33/75\n",
            "\n",
            "Epoch 00032: Learning rate is 0.0500.\n",
            "\n",
            "Epoch 00032: Momentum is 0.9144.\n",
            "99000/99000 [==============================] - 1032s 10ms/step - loss: 0.4774 - mean_squared_error: 0.1551 - mean_absolute_error: 0.3099 - accuracy: 0.7705 - val_loss: 0.4764 - val_mean_squared_error: 0.1547 - val_mean_absolute_error: 0.3048 - val_accuracy: 0.7713\n",
            "Epoch 34/75\n",
            "\n",
            "Epoch 00033: Learning rate is 0.0500.\n",
            "\n",
            "Epoch 00033: Momentum is 0.9149.\n",
            "99000/99000 [==============================] - 998s 10ms/step - loss: 0.4768 - mean_squared_error: 0.1548 - mean_absolute_error: 0.3094 - accuracy: 0.7710 - val_loss: 0.4780 - val_mean_squared_error: 0.1551 - val_mean_absolute_error: 0.3199 - val_accuracy: 0.7706\n",
            "Epoch 35/75\n",
            "\n",
            "Epoch 00034: Learning rate is 0.0500.\n",
            "\n",
            "Epoch 00034: Momentum is 0.9153.\n",
            "99000/99000 [==============================] - 1106s 11ms/step - loss: 0.4764 - mean_squared_error: 0.1546 - mean_absolute_error: 0.3090 - accuracy: 0.7714 - val_loss: 0.4769 - val_mean_squared_error: 0.1548 - val_mean_absolute_error: 0.3128 - val_accuracy: 0.7712\n",
            "Epoch 36/75\n",
            "\n",
            "Epoch 00035: Learning rate is 0.0500.\n",
            "\n",
            "Epoch 00035: Momentum is 0.9158.\n",
            "99000/99000 [==============================] - 1134s 11ms/step - loss: 0.4758 - mean_squared_error: 0.1544 - mean_absolute_error: 0.3085 - accuracy: 0.7716 - val_loss: 0.4769 - val_mean_squared_error: 0.1548 - val_mean_absolute_error: 0.3084 - val_accuracy: 0.7709\n",
            "Epoch 37/75\n",
            "\n",
            "Epoch 00036: Learning rate is 0.0500.\n",
            "\n",
            "Epoch 00036: Momentum is 0.9162.\n",
            "99000/99000 [==============================] - 1036s 10ms/step - loss: 0.4754 - mean_squared_error: 0.1542 - mean_absolute_error: 0.3081 - accuracy: 0.7720 - val_loss: 0.4779 - val_mean_squared_error: 0.1551 - val_mean_absolute_error: 0.3145 - val_accuracy: 0.7704\n",
            "Epoch 38/75\n",
            "\n",
            "Epoch 00037: Learning rate is 0.0500.\n",
            "\n",
            "Epoch 00037: Momentum is 0.9166.\n",
            "99000/99000 [==============================] - 1052s 11ms/step - loss: 0.4749 - mean_squared_error: 0.1540 - mean_absolute_error: 0.3076 - accuracy: 0.7723 - val_loss: 0.4758 - val_mean_squared_error: 0.1542 - val_mean_absolute_error: 0.3059 - val_accuracy: 0.7724\n",
            "Epoch 39/75\n",
            "\n",
            "Epoch 00038: Learning rate is 0.0500.\n",
            "\n",
            "Epoch 00038: Momentum is 0.9171.\n",
            "99000/99000 [==============================] - 1027s 10ms/step - loss: 0.4745 - mean_squared_error: 0.1538 - mean_absolute_error: 0.3072 - accuracy: 0.7728 - val_loss: 0.4799 - val_mean_squared_error: 0.1559 - val_mean_absolute_error: 0.3158 - val_accuracy: 0.7689\n",
            "Epoch 40/75\n",
            "\n",
            "Epoch 00039: Learning rate is 0.0500.\n",
            "\n",
            "Epoch 00039: Momentum is 0.9175.\n",
            "99000/99000 [==============================] - 1012s 10ms/step - loss: 0.4741 - mean_squared_error: 0.1536 - mean_absolute_error: 0.3069 - accuracy: 0.7731 - val_loss: 0.4765 - val_mean_squared_error: 0.1545 - val_mean_absolute_error: 0.3065 - val_accuracy: 0.7716\n",
            "Epoch 41/75\n",
            "\n",
            "Epoch 00040: Learning rate is 0.0500.\n",
            "\n",
            "Epoch 00040: Momentum is 0.9180.\n",
            "99000/99000 [==============================] - 934s 9ms/step - loss: 0.4736 - mean_squared_error: 0.1534 - mean_absolute_error: 0.3065 - accuracy: 0.7734 - val_loss: 0.4822 - val_mean_squared_error: 0.1565 - val_mean_absolute_error: 0.3126 - val_accuracy: 0.7682\n",
            "Epoch 42/75\n",
            "\n",
            "Epoch 00041: Learning rate is 0.0500.\n",
            "\n",
            "Epoch 00041: Momentum is 0.9184.\n",
            "99000/99000 [==============================] - 1031s 10ms/step - loss: 0.4732 - mean_squared_error: 0.1532 - mean_absolute_error: 0.3061 - accuracy: 0.7737 - val_loss: 0.4804 - val_mean_squared_error: 0.1557 - val_mean_absolute_error: 0.3069 - val_accuracy: 0.7701\n",
            "Epoch 43/75\n",
            "\n",
            "Epoch 00042: Learning rate is 0.0500.\n",
            "\n",
            "Epoch 00042: Momentum is 0.9189.\n",
            "99000/99000 [==============================] - 1083s 11ms/step - loss: 0.4729 - mean_squared_error: 0.1530 - mean_absolute_error: 0.3058 - accuracy: 0.7740 - val_loss: 0.4775 - val_mean_squared_error: 0.1547 - val_mean_absolute_error: 0.3076 - val_accuracy: 0.7711\n",
            "Epoch 44/75\n",
            "\n",
            "Epoch 00043: Learning rate is 0.0500.\n",
            "\n",
            "Epoch 00043: Momentum is 0.9194.\n",
            "99000/99000 [==============================] - 1166s 12ms/step - loss: 0.4726 - mean_squared_error: 0.1529 - mean_absolute_error: 0.3054 - accuracy: 0.7742 - val_loss: 0.4820 - val_mean_squared_error: 0.1563 - val_mean_absolute_error: 0.3147 - val_accuracy: 0.7689\n",
            "Epoch 45/75\n",
            "\n",
            "Epoch 00044: Learning rate is 0.0500.\n",
            "\n",
            "Epoch 00044: Momentum is 0.9198.\n",
            "99000/99000 [==============================] - 1059s 11ms/step - loss: 0.4722 - mean_squared_error: 0.1527 - mean_absolute_error: 0.3051 - accuracy: 0.7745 - val_loss: 0.4755 - val_mean_squared_error: 0.1540 - val_mean_absolute_error: 0.3088 - val_accuracy: 0.7722\n",
            "Epoch 46/75\n",
            "\n",
            "Epoch 00045: Learning rate is 0.0500.\n",
            "\n",
            "Epoch 00045: Momentum is 0.9203.\n",
            "99000/99000 [==============================] - 1099s 11ms/step - loss: 0.4719 - mean_squared_error: 0.1525 - mean_absolute_error: 0.3048 - accuracy: 0.7749 - val_loss: 0.4702 - val_mean_squared_error: 0.1519 - val_mean_absolute_error: 0.3015 - val_accuracy: 0.7757\n",
            "Epoch 47/75\n",
            "\n",
            "Epoch 00046: Learning rate is 0.0500.\n",
            "\n",
            "Epoch 00046: Momentum is 0.9207.\n",
            "99000/99000 [==============================] - 1098s 11ms/step - loss: 0.4716 - mean_squared_error: 0.1524 - mean_absolute_error: 0.3045 - accuracy: 0.7750 - val_loss: 0.4757 - val_mean_squared_error: 0.1539 - val_mean_absolute_error: 0.3040 - val_accuracy: 0.7726\n",
            "Epoch 48/75\n",
            "\n",
            "Epoch 00047: Learning rate is 0.0500.\n",
            "\n",
            "Epoch 00047: Momentum is 0.9212.\n",
            "99000/99000 [==============================] - 1220s 12ms/step - loss: 0.4713 - mean_squared_error: 0.1523 - mean_absolute_error: 0.3042 - accuracy: 0.7752 - val_loss: 0.4775 - val_mean_squared_error: 0.1545 - val_mean_absolute_error: 0.3114 - val_accuracy: 0.7716\n",
            "Epoch 49/75\n",
            "\n",
            "Epoch 00048: Learning rate is 0.0500.\n",
            "\n",
            "Epoch 00048: Momentum is 0.9216.\n",
            "99000/99000 [==============================] - 1111s 11ms/step - loss: 0.4710 - mean_squared_error: 0.1521 - mean_absolute_error: 0.3039 - accuracy: 0.7755 - val_loss: 0.4749 - val_mean_squared_error: 0.1535 - val_mean_absolute_error: 0.3009 - val_accuracy: 0.7733\n",
            "Epoch 50/75\n",
            "\n",
            "Epoch 00049: Learning rate is 0.0500.\n",
            "\n",
            "Epoch 00049: Momentum is 0.9221.\n",
            "99000/99000 [==============================] - 992s 10ms/step - loss: 0.4707 - mean_squared_error: 0.1520 - mean_absolute_error: 0.3037 - accuracy: 0.7758 - val_loss: 0.4751 - val_mean_squared_error: 0.1536 - val_mean_absolute_error: 0.3052 - val_accuracy: 0.7728\n",
            "Epoch 51/75\n",
            "\n",
            "Epoch 00050: Learning rate is 0.0500.\n",
            "\n",
            "Epoch 00050: Momentum is 0.9225.\n",
            "99000/99000 [==============================] - 1063s 11ms/step - loss: 0.4705 - mean_squared_error: 0.1519 - mean_absolute_error: 0.3034 - accuracy: 0.7760 - val_loss: 0.4718 - val_mean_squared_error: 0.1523 - val_mean_absolute_error: 0.3039 - val_accuracy: 0.7755\n",
            "Epoch 52/75\n",
            "\n",
            "Epoch 00051: Learning rate is 0.0500.\n",
            "\n",
            "Epoch 00051: Momentum is 0.9230.\n",
            "99000/99000 [==============================] - 1081s 11ms/step - loss: 0.4702 - mean_squared_error: 0.1517 - mean_absolute_error: 0.3032 - accuracy: 0.7760 - val_loss: 0.4752 - val_mean_squared_error: 0.1536 - val_mean_absolute_error: 0.3033 - val_accuracy: 0.7731\n",
            "Epoch 53/75\n",
            "\n",
            "Epoch 00052: Learning rate is 0.0500.\n",
            "\n",
            "Epoch 00052: Momentum is 0.9234.\n",
            "99000/99000 [==============================] - 1051s 11ms/step - loss: 0.4700 - mean_squared_error: 0.1516 - mean_absolute_error: 0.3029 - accuracy: 0.7764 - val_loss: 0.4756 - val_mean_squared_error: 0.1536 - val_mean_absolute_error: 0.3012 - val_accuracy: 0.7733\n",
            "Epoch 54/75\n",
            "\n",
            "Epoch 00053: Learning rate is 0.0500.\n",
            "\n",
            "Epoch 00053: Momentum is 0.9239.\n",
            "99000/99000 [==============================] - 1019s 10ms/step - loss: 0.4697 - mean_squared_error: 0.1515 - mean_absolute_error: 0.3027 - accuracy: 0.7766 - val_loss: 0.4745 - val_mean_squared_error: 0.1533 - val_mean_absolute_error: 0.3094 - val_accuracy: 0.7734\n",
            "Epoch 55/75\n",
            "\n",
            "Epoch 00054: Learning rate is 0.0500.\n",
            "\n",
            "Epoch 00054: Momentum is 0.9243.\n",
            "99000/99000 [==============================] - 1007s 10ms/step - loss: 0.4695 - mean_squared_error: 0.1514 - mean_absolute_error: 0.3024 - accuracy: 0.7768 - val_loss: 0.4715 - val_mean_squared_error: 0.1521 - val_mean_absolute_error: 0.3057 - val_accuracy: 0.7754\n",
            "Epoch 56/75\n",
            "\n",
            "Epoch 00055: Learning rate is 0.0500.\n",
            "\n",
            "Epoch 00055: Momentum is 0.9248.\n",
            "99000/99000 [==============================] - 1102s 11ms/step - loss: 0.4692 - mean_squared_error: 0.1512 - mean_absolute_error: 0.3022 - accuracy: 0.7770 - val_loss: 0.4720 - val_mean_squared_error: 0.1523 - val_mean_absolute_error: 0.3076 - val_accuracy: 0.7752\n",
            "CPU times: user 1d 8h 22min 11s, sys: 2h 58min 16s, total: 1d 11h 20min 27s\n",
            "Wall time: 16h 23min 9s\n"
          ],
          "name": "stdout"
        },
        {
          "output_type": "execute_result",
          "data": {
            "text/plain": [
              "<tensorflow.python.keras.callbacks.History at 0x7fed56846e90>"
            ]
          },
          "metadata": {
            "tags": []
          },
          "execution_count": 18
        }
      ]
    },
    {
      "cell_type": "markdown",
      "metadata": {
        "id": "eL9PWQNdByBl"
      },
      "source": [
        "### 3.4 Evolution of DNNs\n",
        "\n",
        "Deep neural networks are a rich and actively evolving area of research. In the seven years since the paper we are replicating the methods of was produced, much of the research has evolved. Much of the author’s work in Baldi et al focuses on how better deep neural networks in general perform compared to shallow neural networks and other traditional machine learning techniques [3]. The model we emulated included multiple layers of tanh activations with three hundred hidden nodes, including elements of tuning gradient descent. Overall our approach and attempt to emulate the author’s methods came up well short of their accuracy metrics. However, other modern implementations of deep neural networks can offer potential for our models to come closer to their accuracy metrics or for those authors or others to build models that have even better results than the authors demonstrated. \n",
        "\n",
        "One of the major changes and evolutions in deep neural networks is the popularity of the “relu” or the rectified linear unit activation function. Authors Xavier et al demonstrated in their research the efficacy of relu activation functions in deep neural networks [6]. Importantly they also found relu activation functions performed better than tanh functions in multiple layers. Their focus was on natural language processing functions, but its expected that this increase in performance will carry to other applications. Xavier et al’s comparisons specifically of relu activations to tanh activations is especially important considering the structure of these models included five layers of tanh activations. This shift from tanh to relu functions can offer benefits in both accuracy and reduction of misclassifications. The relu function also offers performance benefits over tanh functions due to the ability of the function to better manage sparsity. This efficiency allows for longer, or more granular training, factors that are essential with the performance demands of deep neural networks. \n",
        "\n",
        "A final major technique that is incredibly strong in other areas of machine learning is the use of convolutional neural networks. Convolutional neural networks are incredibly powerful at classifying and detecting images. This sophisticated architecture can create intermittent features that build off the raw data in complex ways that are difficult for us to build alone with simple feature learning and use those previous layers of fresh polynomial features to build stronger predictions. There are a myriad of potential choices when designing these modern deep neural networks and in only seven years the landscape has only become more complex and rife with potential for better results."
      ]
    },
    {
      "cell_type": "markdown",
      "metadata": {
        "id": "UYWq1RZdW3e4"
      },
      "source": [
        "## 4. Results"
      ]
    },
    {
      "cell_type": "markdown",
      "metadata": {
        "id": "xMTfmTeOCCn4"
      },
      "source": [
        "Overall we were able to output a model that performed with over 77% accuracy. While this is not in the 80 like the research paper we were tasked with replicating we are happy with our results. \n",
        "\n",
        "As we can see below in our model summary results table we have our layers and parameters output. We see a total of over 370,000 assisted in training and help the DNN output the best performing model according to the accuracy."
      ]
    },
    {
      "cell_type": "code",
      "metadata": {
        "id": "hWRDW_fRC1M4",
        "colab": {
          "base_uri": "https://localhost:8080/"
        },
        "outputId": "267d7f85-8f0f-4d68-9a7c-6a45ca70a793"
      },
      "source": [
        "model.summary()"
      ],
      "execution_count": null,
      "outputs": [
        {
          "output_type": "stream",
          "text": [
            "Model: \"sequential\"\n",
            "_________________________________________________________________\n",
            "Layer (type)                 Output Shape              Param #   \n",
            "=================================================================\n",
            "layer1 (Dense)               (None, 300)               8700      \n",
            "_________________________________________________________________\n",
            "layer2 (Dense)               (None, 300)               90300     \n",
            "_________________________________________________________________\n",
            "layer3 (Dense)               (None, 300)               90300     \n",
            "_________________________________________________________________\n",
            "layer4 (Dense)               (None, 300)               90300     \n",
            "_________________________________________________________________\n",
            "layer5 (Dense)               (None, 300)               90300     \n",
            "_________________________________________________________________\n",
            "layer6 (Dense)               (None, 1)                 301       \n",
            "=================================================================\n",
            "Total params: 370,201\n",
            "Trainable params: 370,201\n",
            "Non-trainable params: 0\n",
            "_________________________________________________________________\n"
          ],
          "name": "stdout"
        }
      ]
    },
    {
      "cell_type": "markdown",
      "metadata": {
        "id": "Kg0Rorn9CBow"
      },
      "source": [
        "In this figure we are tracking our loss [val_loss] in training to get as low as possible. We do not see any signs of overfitting and as the DNN continued to train we see a continued peak and valley pattern which means the data suggests with additional epochs and unlimited processing time this DNN could potentially have gotten the loss even lower before overfitting became an issue."
      ]
    },
    {
      "cell_type": "code",
      "metadata": {
        "id": "HW3WtjhKASPg",
        "colab": {
          "base_uri": "https://localhost:8080/",
          "height": 265
        },
        "outputId": "e580b4b5-f98b-40de-f06b-f88108f3408c"
      },
      "source": [
        "import matplotlib.pyplot as plt\n",
        "%matplotlib inline\n",
        "\n",
        "train_loss = model.history.history['loss']\n",
        "val_loss = model.history.history['val_loss']\n",
        "plt.plot(train_loss)\n",
        "plt.plot(val_loss)\n",
        "plt.show()"
      ],
      "execution_count": null,
      "outputs": [
        {
          "output_type": "display_data",
          "data": {
            "image/png": "[encoded data removed]",
            "text/plain": [
              "<Figure size 432x288 with 1 Axes>"
            ]
          },
          "metadata": {
            "tags": [],
            "needs_background": "light"
          }
        }
      ]
    },
    {
      "cell_type": "markdown",
      "metadata": {
        "id": "H5-bGHUzDHGC"
      },
      "source": [
        "Below we have output our training curve to show growth of accuracy overimte. We do not see any indication of overfitting and potentially with even smaller batch sizes with ensured processing time we may have even been able to obtain a higher accuracy."
      ]
    },
    {
      "cell_type": "code",
      "metadata": {
        "id": "JdAbdfrzLcrz",
        "colab": {
          "base_uri": "https://localhost:8080/",
          "height": 266
        },
        "outputId": "af66267e-7b57-427a-d7d7-8e008560d3f8"
      },
      "source": [
        "train_acc = model.history.history['accuracy']\n",
        "val_acc = model.history.history['val_accuracy']\n",
        "plt.plot(train_acc)\n",
        "plt.plot(val_acc)\n",
        "plt.show()"
      ],
      "execution_count": null,
      "outputs": [
        {
          "output_type": "display_data",
          "data": {
            "image/png": "[encoded data removed]",
            "text/plain": [
              "<Figure size 432x288 with 1 Axes>"
            ]
          },
          "metadata": {
            "tags": [],
            "needs_background": "light"
          }
        }
      ]
    },
    {
      "cell_type": "markdown",
      "metadata": {
        "id": "4mM7B0jpW72E"
      },
      "source": [
        "##5. Discussion & Conclusions"
      ]
    },
    {
      "cell_type": "markdown",
      "metadata": {
        "id": "LWpNW68dEhPY"
      },
      "source": [
        "Initially we struggled in duplicating those results from the study we researched for this case study. We worked through different seeds and batch sizes to understand what might have been causing our extremely low accuracy - 53%, which seemed to have no change no matter what layer or batch size we were in. After deep investigation of different components of our layers we realized that our final layer for linear activation for interpretation was preventing our ability to grow the accuracy of the model. Once we switched our final layer to sigmoid activation to allow the functions to operate as expected and produce the changes between layers and growth through batch sizes.\n",
        "\n",
        "As we were working towards an accuracy of around 77%, the researchers in the comparison paper were able to hit an AUC of over .869 at its lowest. They were able to achieve a much higher coverage of prediction then we were. We are not sure what we did differently that resulted in these different metrics.\n",
        "\n",
        "As further discussed in section 3.4, evolution in DNN, there are practices that can improve model performance for all potential models including use of different activation functions and convolutional or recurrent neural network structures. \n",
        "\n",
        "The original model resulted in a highly effective detection of a _higgs boson_ signal and the absence of the same signal. It would likely be used well in the field of particle physics in order to continue research in the industry.  Overall our ability to quantify how our results duplicated the paper follows from our adherence to their methods to the best of our abilities and measuring of accuracy against their model accuracies. Overall our performance fell short by about 10 points of some of the author's best models, which is not unexpected. Despite our ability to reach as high of an accuracy we were able to reproduce to a degree which we were happy with. Given larger resources for processing as well as a timeframe for real life implementation we are confident we would be able to continue and refine the model to reflect closer that which was shown in the study."
      ]
    },
    {
      "cell_type": "markdown",
      "metadata": {
        "id": "34A3kifO_Dx3"
      },
      "source": [
        "## 6. Citations\n",
        "\n",
        "1. \"The Higgs Boson\". CERN.\n",
        "2. \"The BEH-Mechanism, Interactions with Short Range Forces and Scalar Particles\" (PDF). 8 October 2013.\n",
        "3. Baldi, P., Sadowski, P., & Whiteson, D. (2014, February 19). Searching for Exotic Particles in High-Energy Physics with Deep Learning. ArXiv.Org. https://arxiv.org/abs/1402.4735\n",
        "4. Nolan, D. and Lang, D.T. (2015). Data Science in R A Case Studies Approach to Computational Reasoning and Problem Solving. CRC Press.\n",
        "5. Moolayil, J. J. (2020, May 30). A Layman’s Guide to Deep Neural Networks - Towards Data Science. Medium. https://towardsdatascience.com/a-laymans-guide-to-deep-neural-networks-ddcea24847fb\n",
        "6. Xavier Glorot, Antoine Bordes and Yoshua Bengio (2011). Deep sparse rectifier neural networks (PDF). AISTATS. "
      ]
    }
  ]
}