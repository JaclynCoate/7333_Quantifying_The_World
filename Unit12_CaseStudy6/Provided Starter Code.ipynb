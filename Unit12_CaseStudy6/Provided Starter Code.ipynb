{
 "cells": [
  {
   "cell_type": "code",
   "execution_count": 1,
   "metadata": {},
   "outputs": [
    {
     "name": "stdout",
     "output_type": "stream",
     "text": [
      "2.3.1\n"
     ]
    }
   ],
   "source": [
    "import tensorflow as tf\n",
    "from tensorflow.keras import layers \n",
    "from tensorflow.keras.regularizers import l2\n",
    "from sklearn import datasets\n",
    "import sklearn\n",
    "import pandas as pd\n",
    "import numpy as np\n",
    "print(tf.__version__)"
   ]
  },
  {
   "cell_type": "markdown",
   "metadata": {},
   "source": [
    "## Load Data\n",
    "First get the data.  Sklearn presents the data in a dictionary.  \n",
    "\n",
    "The target is the price is thousands\n",
    "\n",
    "Note that X is a dataframe while y is an array!!"
   ]
  },
  {
   "cell_type": "code",
   "execution_count": 3,
   "metadata": {},
   "outputs": [],
   "source": [
    "cal=datasets.fetch_california_housing()"
   ]
  },
  {
   "cell_type": "code",
   "execution_count": null,
   "metadata": {},
   "outputs": [],
   "source": []
  },
  {
   "cell_type": "code",
   "execution_count": 4,
   "metadata": {},
   "outputs": [],
   "source": [
    "x = pd.DataFrame(cal['data'])"
   ]
  },
  {
   "cell_type": "code",
   "execution_count": 5,
   "metadata": {},
   "outputs": [],
   "source": [
    "x.columns=cal['feature_names']"
   ]
  },
  {
   "cell_type": "code",
   "execution_count": 6,
   "metadata": {},
   "outputs": [
    {
     "data": {
      "text/html": [
       "<div>\n",
       "<style scoped>\n",
       "    .dataframe tbody tr th:only-of-type {\n",
       "        vertical-align: middle;\n",
       "    }\n",
       "\n",
       "    .dataframe tbody tr th {\n",
       "        vertical-align: top;\n",
       "    }\n",
       "\n",
       "    .dataframe thead th {\n",
       "        text-align: right;\n",
       "    }\n",
       "</style>\n",
       "<table border=\"1\" class=\"dataframe\">\n",
       "  <thead>\n",
       "    <tr style=\"text-align: right;\">\n",
       "      <th></th>\n",
       "      <th>MedInc</th>\n",
       "      <th>HouseAge</th>\n",
       "      <th>AveRooms</th>\n",
       "      <th>AveBedrms</th>\n",
       "      <th>Population</th>\n",
       "      <th>AveOccup</th>\n",
       "      <th>Latitude</th>\n",
       "      <th>Longitude</th>\n",
       "    </tr>\n",
       "  </thead>\n",
       "  <tbody>\n",
       "    <tr>\n",
       "      <th>0</th>\n",
       "      <td>8.3252</td>\n",
       "      <td>41.0</td>\n",
       "      <td>6.984127</td>\n",
       "      <td>1.023810</td>\n",
       "      <td>322.0</td>\n",
       "      <td>2.555556</td>\n",
       "      <td>37.88</td>\n",
       "      <td>-122.23</td>\n",
       "    </tr>\n",
       "    <tr>\n",
       "      <th>1</th>\n",
       "      <td>8.3014</td>\n",
       "      <td>21.0</td>\n",
       "      <td>6.238137</td>\n",
       "      <td>0.971880</td>\n",
       "      <td>2401.0</td>\n",
       "      <td>2.109842</td>\n",
       "      <td>37.86</td>\n",
       "      <td>-122.22</td>\n",
       "    </tr>\n",
       "    <tr>\n",
       "      <th>2</th>\n",
       "      <td>7.2574</td>\n",
       "      <td>52.0</td>\n",
       "      <td>8.288136</td>\n",
       "      <td>1.073446</td>\n",
       "      <td>496.0</td>\n",
       "      <td>2.802260</td>\n",
       "      <td>37.85</td>\n",
       "      <td>-122.24</td>\n",
       "    </tr>\n",
       "    <tr>\n",
       "      <th>3</th>\n",
       "      <td>5.6431</td>\n",
       "      <td>52.0</td>\n",
       "      <td>5.817352</td>\n",
       "      <td>1.073059</td>\n",
       "      <td>558.0</td>\n",
       "      <td>2.547945</td>\n",
       "      <td>37.85</td>\n",
       "      <td>-122.25</td>\n",
       "    </tr>\n",
       "    <tr>\n",
       "      <th>4</th>\n",
       "      <td>3.8462</td>\n",
       "      <td>52.0</td>\n",
       "      <td>6.281853</td>\n",
       "      <td>1.081081</td>\n",
       "      <td>565.0</td>\n",
       "      <td>2.181467</td>\n",
       "      <td>37.85</td>\n",
       "      <td>-122.25</td>\n",
       "    </tr>\n",
       "  </tbody>\n",
       "</table>\n",
       "</div>"
      ],
      "text/plain": [
       "   MedInc  HouseAge  AveRooms  AveBedrms  Population  AveOccup  Latitude  \\\n",
       "0  8.3252      41.0  6.984127   1.023810       322.0  2.555556     37.88   \n",
       "1  8.3014      21.0  6.238137   0.971880      2401.0  2.109842     37.86   \n",
       "2  7.2574      52.0  8.288136   1.073446       496.0  2.802260     37.85   \n",
       "3  5.6431      52.0  5.817352   1.073059       558.0  2.547945     37.85   \n",
       "4  3.8462      52.0  6.281853   1.081081       565.0  2.181467     37.85   \n",
       "\n",
       "   Longitude  \n",
       "0    -122.23  \n",
       "1    -122.22  \n",
       "2    -122.24  \n",
       "3    -122.25  \n",
       "4    -122.25  "
      ]
     },
     "execution_count": 6,
     "metadata": {},
     "output_type": "execute_result"
    }
   ],
   "source": [
    "x.head()"
   ]
  },
  {
   "cell_type": "code",
   "execution_count": 7,
   "metadata": {},
   "outputs": [],
   "source": [
    "y = cal['target']"
   ]
  },
  {
   "cell_type": "code",
   "execution_count": 8,
   "metadata": {},
   "outputs": [
    {
     "data": {
      "text/plain": [
       "array([4.526, 3.585, 3.521, ..., 0.923, 0.847, 0.894])"
      ]
     },
     "execution_count": 8,
     "metadata": {},
     "output_type": "execute_result"
    }
   ],
   "source": [
    "y"
   ]
  },
  {
   "cell_type": "markdown",
   "metadata": {},
   "source": [
    "## Scale Data\n",
    "\n",
    "Neural Networks are especially sensitive do data scaling.  Nearly all the activation functions saturate at (0,1) or (-1,1)"
   ]
  },
  {
   "cell_type": "code",
   "execution_count": 9,
   "metadata": {},
   "outputs": [
    {
     "name": "stdout",
     "output_type": "stream",
     "text": [
      "Note: median values were scaled by multiplying by 0.0996015936 and adding 12.385458\n"
     ]
    }
   ],
   "source": [
    "from sklearn.preprocessing import MinMaxScaler\n",
    "\n",
    "scaler = MinMaxScaler(feature_range=(0, 1))\n",
    "scaled_train = scaler.fit_transform(x)\n",
    "\n",
    "# Print out the adjustment that the scaler applied to the total_earnings column of data\n",
    "print(\"Note: median values were scaled by multiplying by {:.10f} and adding {:.6f}\".format(scaler.scale_[7], scaler.min_[7]))\n",
    "multiplied_by = scaler.scale_[7]\n",
    "added = scaler.min_[7]\n",
    "\n",
    "scaled_train_df = pd.DataFrame(scaled_train, columns=x.columns.values)"
   ]
  },
  {
   "cell_type": "code",
   "execution_count": 10,
   "metadata": {},
   "outputs": [],
   "source": [
    "import matplotlib.pyplot as plt\n",
    "%matplotlib inline"
   ]
  },
  {
   "cell_type": "code",
   "execution_count": 11,
   "metadata": {
    "scrolled": false
   },
   "outputs": [
    {
     "data": {
      "image/png": "[encoded data removed]",
      "text/plain": [
       "<Figure size 432x288 with 1 Axes>"
      ]
     },
     "metadata": {
      "needs_background": "light"
     },
     "output_type": "display_data"
    },
    {
     "data": {
      "image/png": "[encoded data removed]",
      "text/plain": [
       "<Figure size 432x288 with 1 Axes>"
      ]
     },
     "metadata": {
      "needs_background": "light"
     },
     "output_type": "display_data"
    },
    {
     "data": {
      "image/png": "[encoded data removed]",
      "text/plain": [
       "<Figure size 432x288 with 1 Axes>"
      ]
     },
     "metadata": {
      "needs_background": "light"
     },
     "output_type": "display_data"
    },
    {
     "data": {
      "image/png": "[encoded data removed]",
      "text/plain": [
       "<Figure size 432x288 with 1 Axes>"
      ]
     },
     "metadata": {
      "needs_background": "light"
     },
     "output_type": "display_data"
    },
    {
     "data": {
      "image/png": "[encoded data removed]",
      "text/plain": [
       "<Figure size 432x288 with 1 Axes>"
      ]
     },
     "metadata": {
      "needs_background": "light"
     },
     "output_type": "display_data"
    },
    {
     "data": {
      "image/png": "[encoded data removed]",
      "text/plain": [
       "<Figure size 432x288 with 1 Axes>"
      ]
     },
     "metadata": {
      "needs_background": "light"
     },
     "output_type": "display_data"
    },
    {
     "data": {
      "image/png": "[encoded data removed]",
      "text/plain": [
       "<Figure size 432x288 with 1 Axes>"
      ]
     },
     "metadata": {
      "needs_background": "light"
     },
     "output_type": "display_data"
    },
    {
     "data": {
      "image/png": "[encoded data removed]",
      "text/plain": [
       "<Figure size 432x288 with 1 Axes>"
      ]
     },
     "metadata": {
      "needs_background": "light"
     },
     "output_type": "display_data"
    }
   ],
   "source": [
    "for i in scaled_train_df:\n",
    "    scaled_train_df[i].hist()\n",
    "    plt.show()"
   ]
  },
  {
   "cell_type": "markdown",
   "metadata": {},
   "source": [
    "Nueral Networks generally are one of the slowest methods, thus a full CV is not always feasable.  FOr this example, it is not nessecary, but will be done for practice.  Large samples generally have 2 splits: training and validation.  Using this nominclature, validation is your \"test\" set there is NEVER used to build a model"
   ]
  },
  {
   "cell_type": "code",
   "execution_count": 12,
   "metadata": {},
   "outputs": [],
   "source": [
    "from sklearn.model_selection import train_test_split\n",
    "x_train, x_test, y_train, y_test = train_test_split(scaled_train_df, y, test_size=0.20, random_state=1776)"
   ]
  },
  {
   "cell_type": "markdown",
   "metadata": {},
   "source": [
    "## Model \n",
    "Alright lets get down to business.  We will use the Sequential() class to build a model.  This means we just add layer after layer to the model (in order).\n",
    "\n",
    "Note that this is NOT the keras package proper.  This is an implementation of the Keras API in tensorflow.  THey are closely related, but this IS Tensorflow (package), not Keras (package)"
   ]
  },
  {
   "cell_type": "code",
   "execution_count": 13,
   "metadata": {},
   "outputs": [
    {
     "data": {
      "text/plain": [
       "(16512, 8)"
      ]
     },
     "execution_count": 13,
     "metadata": {},
     "output_type": "execute_result"
    }
   ],
   "source": [
    "x_train.shape"
   ]
  },
  {
   "cell_type": "markdown",
   "metadata": {},
   "source": [
    "Sequential allows use to build a network layer by layer.  It automatically assumes that any layer you add is connected to the previous layer.  Notice we do not specify the input size.  Until we run the .fit() method, the full \"graph\" or set of matrix operations is not built.  \n",
    "\n",
    "Once we have fit the model, we can call the .summary() method to get details about our model."
   ]
  },
  {
   "cell_type": "code",
   "execution_count": 14,
   "metadata": {},
   "outputs": [],
   "source": [
    "model = tf.keras.Sequential()\n",
    "model.add(tf.keras.Input(shape=(8,)))\n",
    "model.add(layers.Dense(100,activation='relu'))  # adds a layer with 100 neurons, tanh activation\n",
    "model.add(layers.Dense(50, activation='relu'))   # adds a layer with 50 neurons, tanh activation\n",
    "model.add(layers.Dense(1, activation='linear'))  # adds a layer with 1 neurons, linear (aka NO) activation\n",
    "\n"
   ]
  },
  {
   "cell_type": "markdown",
   "metadata": {},
   "source": [
    "## Compile Model\n",
    "\n",
    "The compile step adds an optimizer (solver) and your loss metrics."
   ]
  },
  {
   "cell_type": "code",
   "execution_count": 16,
   "metadata": {},
   "outputs": [],
   "source": [
    "model.compile(optimizer='sgd',\n",
    "              loss='mean_squared_error',\n",
    "              metrics=['mean_squared_error','mean_absolute_error'])"
   ]
  },
  {
   "cell_type": "markdown",
   "metadata": {},
   "source": [
    "## Fit model\n",
    "Now it is time to train"
   ]
  },
  {
   "cell_type": "code",
   "execution_count": 17,
   "metadata": {},
   "outputs": [
    {
     "name": "stdout",
     "output_type": "stream",
     "text": [
      "Epoch 1/10\n",
      "1271/1271 [==============================] - 4s 3ms/step - loss: 0.7506 - mean_squared_error: 0.7506 - mean_absolute_error: 0.6425 - val_loss: 0.5327 - val_mean_squared_error: 0.5327 - val_mean_absolute_error: 0.5148\n",
      "Epoch 2/10\n",
      "1271/1271 [==============================] - 4s 3ms/step - loss: 0.5384 - mean_squared_error: 0.5384 - mean_absolute_error: 0.5346 - val_loss: 0.4904 - val_mean_squared_error: 0.4904 - val_mean_absolute_error: 0.4963\n",
      "Epoch 3/10\n",
      "1271/1271 [==============================] - 4s 3ms/step - loss: 0.5193 - mean_squared_error: 0.5193 - mean_absolute_error: 0.5208 - val_loss: 0.4878 - val_mean_squared_error: 0.4878 - val_mean_absolute_error: 0.5281\n",
      "Epoch 4/10\n",
      "1271/1271 [==============================] - 4s 3ms/step - loss: 0.5088 - mean_squared_error: 0.5088 - mean_absolute_error: 0.5146 - val_loss: 0.5300 - val_mean_squared_error: 0.5300 - val_mean_absolute_error: 0.4879\n",
      "Epoch 5/10\n",
      "1271/1271 [==============================] - 4s 3ms/step - loss: 0.4996 - mean_squared_error: 0.4996 - mean_absolute_error: 0.5095 - val_loss: 0.5435 - val_mean_squared_error: 0.5435 - val_mean_absolute_error: 0.5794\n",
      "Epoch 6/10\n",
      "1271/1271 [==============================] - 4s 3ms/step - loss: 0.4964 - mean_squared_error: 0.4964 - mean_absolute_error: 0.5059 - val_loss: 0.6211 - val_mean_squared_error: 0.6211 - val_mean_absolute_error: 0.6471\n",
      "Epoch 7/10\n",
      "1271/1271 [==============================] - 4s 3ms/step - loss: 0.4896 - mean_squared_error: 0.4896 - mean_absolute_error: 0.5022 - val_loss: 0.5014 - val_mean_squared_error: 0.5014 - val_mean_absolute_error: 0.4764\n",
      "Epoch 8/10\n",
      "1271/1271 [==============================] - 4s 3ms/step - loss: 0.4867 - mean_squared_error: 0.4867 - mean_absolute_error: 0.4992 - val_loss: 0.4830 - val_mean_squared_error: 0.4830 - val_mean_absolute_error: 0.5128\n",
      "Epoch 9/10\n",
      "1271/1271 [==============================] - 4s 3ms/step - loss: 0.4818 - mean_squared_error: 0.4818 - mean_absolute_error: 0.4972 - val_loss: 0.4789 - val_mean_squared_error: 0.4789 - val_mean_absolute_error: 0.4716\n",
      "Epoch 10/10\n",
      "1271/1271 [==============================] - 4s 3ms/step - loss: 0.4787 - mean_squared_error: 0.4787 - mean_absolute_error: 0.4939 - val_loss: 0.5154 - val_mean_squared_error: 0.5154 - val_mean_absolute_error: 0.4786\n"
     ]
    },
    {
     "data": {
      "text/plain": [
       "<tensorflow.python.keras.callbacks.History at 0x2a01a0a9668>"
      ]
     },
     "execution_count": 17,
     "metadata": {},
     "output_type": "execute_result"
    }
   ],
   "source": [
    "model.fit(x_train, y_train, epochs=10, validation_data=(x_test,y_test), batch_size=13)"
   ]
  },
  {
   "cell_type": "markdown",
   "metadata": {},
   "source": [
    "Now look at the history of the model--your train/test (aka validation) curves"
   ]
  },
  {
   "cell_type": "code",
   "execution_count": 18,
   "metadata": {},
   "outputs": [
    {
     "data": {
      "text/plain": [
       "{'loss': [0.7506486177444458,\n",
       "  0.5384423136711121,\n",
       "  0.5193061828613281,\n",
       "  0.5087617635726929,\n",
       "  0.4996110796928406,\n",
       "  0.496423602104187,\n",
       "  0.4896334409713745,\n",
       "  0.4866578280925751,\n",
       "  0.4817618727684021,\n",
       "  0.478682279586792],\n",
       " 'mean_squared_error': [0.7506486177444458,\n",
       "  0.5384423136711121,\n",
       "  0.5193061828613281,\n",
       "  0.5087617635726929,\n",
       "  0.4996110796928406,\n",
       "  0.496423602104187,\n",
       "  0.4896334111690521,\n",
       "  0.4866578280925751,\n",
       "  0.4817618727684021,\n",
       "  0.47868233919143677],\n",
       " 'mean_absolute_error': [0.6424880623817444,\n",
       "  0.5345945954322815,\n",
       "  0.5208017826080322,\n",
       "  0.5145820379257202,\n",
       "  0.5095257759094238,\n",
       "  0.5058856010437012,\n",
       "  0.5021698474884033,\n",
       "  0.49924781918525696,\n",
       "  0.4971589744091034,\n",
       "  0.49392491579055786],\n",
       " 'val_loss': [0.5327072739601135,\n",
       "  0.4903790354728699,\n",
       "  0.48781344294548035,\n",
       "  0.5300101637840271,\n",
       "  0.5435277223587036,\n",
       "  0.6211035251617432,\n",
       "  0.501413106918335,\n",
       "  0.4829612672328949,\n",
       "  0.47892242670059204,\n",
       "  0.5154045224189758],\n",
       " 'val_mean_squared_error': [0.5327072739601135,\n",
       "  0.4903790354728699,\n",
       "  0.48781344294548035,\n",
       "  0.5300101637840271,\n",
       "  0.5435277223587036,\n",
       "  0.6211035251617432,\n",
       "  0.501413106918335,\n",
       "  0.4829612672328949,\n",
       "  0.47892242670059204,\n",
       "  0.5154045224189758],\n",
       " 'val_mean_absolute_error': [0.5147871971130371,\n",
       "  0.49632760882377625,\n",
       "  0.5280743837356567,\n",
       "  0.4879341125488281,\n",
       "  0.579401969909668,\n",
       "  0.6470874547958374,\n",
       "  0.47641465067863464,\n",
       "  0.5128284096717834,\n",
       "  0.47160643339157104,\n",
       "  0.47860845923423767]}"
      ]
     },
     "execution_count": 18,
     "metadata": {},
     "output_type": "execute_result"
    }
   ],
   "source": [
    "model.history.history\n"
   ]
  },
  {
   "cell_type": "code",
   "execution_count": 19,
   "metadata": {},
   "outputs": [
    {
     "data": {
      "image/png": "[encoded data removed]",
      "text/plain": [
       "<Figure size 432x288 with 1 Axes>"
      ]
     },
     "metadata": {
      "needs_background": "light"
     },
     "output_type": "display_data"
    }
   ],
   "source": [
    "train_loss = model.history.history['loss']\n",
    "val_loss = model.history.history['val_loss']\n",
    "plt.plot(train_loss)\n",
    "plt.plot(val_loss)\n",
    "plt.show()"
   ]
  },
  {
   "cell_type": "code",
   "execution_count": 20,
   "metadata": {},
   "outputs": [
    {
     "name": "stdout",
     "output_type": "stream",
     "text": [
      "Model: \"sequential\"\n",
      "_________________________________________________________________\n",
      "Layer (type)                 Output Shape              Param #   \n",
      "=================================================================\n",
      "dense (Dense)                (None, 100)               900       \n",
      "_________________________________________________________________\n",
      "dense_1 (Dense)              (None, 50)                5050      \n",
      "_________________________________________________________________\n",
      "dense_2 (Dense)              (None, 1)                 51        \n",
      "=================================================================\n",
      "Total params: 6,001\n",
      "Trainable params: 6,001\n",
      "Non-trainable params: 0\n",
      "_________________________________________________________________\n"
     ]
    }
   ],
   "source": [
    "model.summary()"
   ]
  },
  {
   "cell_type": "markdown",
   "metadata": {},
   "source": [
    "## Visualize that data\n",
    "Tensorboard allows you to look at your training curves in real time.  All we need to do here is add a \"callback\" that is executed every epoch end.  Tensorboard writes a summary of the model output.  If you manually build a neural network, you need to add tf.summary operations.\n",
    "\n",
    "To run tensorboard type\n",
    "\n",
    "`tensorboard --logdir logs`\n",
    "\n",
    "Then go to localhost:6006 in your web browser \n",
    "\n",
    "or use the \"magic\" commands in jupyter below"
   ]
  },
  {
   "cell_type": "code",
   "execution_count": 21,
   "metadata": {},
   "outputs": [
    {
     "data": {
      "text/plain": [
       "Reusing TensorBoard on port 6006 (pid 17900), started 4:36:44 ago. (Use '!kill 17900' to kill it.)"
      ]
     },
     "metadata": {},
     "output_type": "display_data"
    },
    {
     "data": {
      "text/html": [
       "\n",
       "      <iframe id=\"tensorboard-frame-1affcbc2e98d779e\" width=\"100%\" height=\"800\" frameborder=\"0\">\n",
       "      </iframe>\n",
       "      <script>\n",
       "        (function() {\n",
       "          const frame = document.getElementById(\"tensorboard-frame-1affcbc2e98d779e\");\n",
       "          const url = new URL(\"/\", window.location);\n",
       "          const port = 6006;\n",
       "          if (port) {\n",
       "            url.port = port;\n",
       "          }\n",
       "          frame.src = url;\n",
       "        })();\n",
       "      </script>\n",
       "    "
      ],
      "text/plain": [
       "<IPython.core.display.HTML object>"
      ]
     },
     "metadata": {},
     "output_type": "display_data"
    }
   ],
   "source": [
    "from time import time\n",
    "from tensorflow.keras.callbacks import TensorBoard\n",
    "tb = TensorBoard(log_dir=f\"logs\\\\{time()}\")\n",
    "%load_ext tensorboard\n",
    "%tensorboard --logdir logs"
   ]
  },
  {
   "cell_type": "code",
   "execution_count": null,
   "metadata": {},
   "outputs": [],
   "source": [
    "\n"
   ]
  },
  {
   "cell_type": "code",
   "execution_count": 22,
   "metadata": {},
   "outputs": [],
   "source": [
    "model.compile(optimizer='rmsprop',\n",
    "              loss='mean_squared_error',\n",
    "              metrics=['mean_squared_error'])"
   ]
  },
  {
   "cell_type": "code",
   "execution_count": 23,
   "metadata": {
    "scrolled": false
   },
   "outputs": [
    {
     "name": "stdout",
     "output_type": "stream",
     "text": [
      "Epoch 1/10\n",
      "   1/1652 [..............................] - ETA: 0s - loss: 0.4240 - mean_squared_error: 0.4240WARNING:tensorflow:From G:\\.2020\\lib\\site-packages\\tensorflow\\python\\ops\\summary_ops_v2.py:1277: stop (from tensorflow.python.eager.profiler) is deprecated and will be removed after 2020-07-01.\n",
      "Instructions for updating:\n",
      "use `tf.profiler.experimental.stop` instead.\n",
      "   2/1652 [..............................] - ETA: 3:45 - loss: 0.3907 - mean_squared_error: 0.3907WARNING:tensorflow:Callbacks method `on_train_batch_begin` is slow compared to the batch time (batch time: 0.0040s vs `on_train_batch_begin` time: 0.0104s). Check your callbacks.\n",
      "WARNING:tensorflow:Callbacks method `on_train_batch_end` is slow compared to the batch time (batch time: 0.0040s vs `on_train_batch_end` time: 0.2586s). Check your callbacks.\n",
      "1652/1652 [==============================] - 5s 3ms/step - loss: 0.4617 - mean_squared_error: 0.4617 - val_loss: 0.4271 - val_mean_squared_error: 0.4271\n",
      "Epoch 2/10\n",
      "1652/1652 [==============================] - 5s 3ms/step - loss: 0.4440 - mean_squared_error: 0.4440 - val_loss: 0.4485 - val_mean_squared_error: 0.4485\n",
      "Epoch 3/10\n",
      "1652/1652 [==============================] - 5s 3ms/step - loss: 0.4329 - mean_squared_error: 0.4329 - val_loss: 0.4046 - val_mean_squared_error: 0.4046\n",
      "Epoch 4/10\n",
      "1652/1652 [==============================] - 5s 3ms/step - loss: 0.4246 - mean_squared_error: 0.4246 - val_loss: 0.4358 - val_mean_squared_error: 0.4358\n",
      "Epoch 5/10\n",
      "1652/1652 [==============================] - 5s 3ms/step - loss: 0.4185 - mean_squared_error: 0.4185 - val_loss: 0.4293 - val_mean_squared_error: 0.4293\n",
      "Epoch 6/10\n",
      "1652/1652 [==============================] - 5s 3ms/step - loss: 0.4089 - mean_squared_error: 0.4089 - val_loss: 0.4474 - val_mean_squared_error: 0.4474\n",
      "Epoch 7/10\n",
      "1652/1652 [==============================] - 5s 3ms/step - loss: 0.4026 - mean_squared_error: 0.4026 - val_loss: 0.3926 - val_mean_squared_error: 0.3926\n",
      "Epoch 8/10\n",
      "1652/1652 [==============================] - 5s 3ms/step - loss: 0.3974 - mean_squared_error: 0.3974 - val_loss: 0.3818 - val_mean_squared_error: 0.3818\n",
      "Epoch 9/10\n",
      "1652/1652 [==============================] - 5s 3ms/step - loss: 0.3911 - mean_squared_error: 0.3911 - val_loss: 0.3607 - val_mean_squared_error: 0.3607\n",
      "Epoch 10/10\n",
      "1652/1652 [==============================] - 5s 3ms/step - loss: 0.3852 - mean_squared_error: 0.3852 - val_loss: 0.3517 - val_mean_squared_error: 0.3517\n"
     ]
    },
    {
     "data": {
      "text/plain": [
       "<tensorflow.python.keras.callbacks.History at 0x2a0207dd6a0>"
      ]
     },
     "execution_count": 23,
     "metadata": {},
     "output_type": "execute_result"
    }
   ],
   "source": [
    "model.fit(x_train, y_train, epochs=10, validation_data=(x_test,y_test), batch_size=10, callbacks=[tb])"
   ]
  },
  {
   "cell_type": "code",
   "execution_count": 24,
   "metadata": {},
   "outputs": [
    {
     "data": {
      "image/png": "[encoded data removed]",
      "text/plain": [
       "<Figure size 432x288 with 1 Axes>"
      ]
     },
     "metadata": {
      "needs_background": "light"
     },
     "output_type": "display_data"
    }
   ],
   "source": [
    "train_loss = model.history.history['loss']\n",
    "val_loss = model.history.history['val_loss']\n",
    "plt.plot(train_loss)\n",
    "plt.plot(val_loss)\n",
    "plt.show()"
   ]
  },
  {
   "cell_type": "markdown",
   "metadata": {},
   "source": [
    "## Classification?\n",
    "The only thing we really need to change is the final layer to predict classes"
   ]
  },
  {
   "cell_type": "code",
   "execution_count": 43,
   "metadata": {},
   "outputs": [],
   "source": [
    "model_iris = tf.keras.Sequential()\n",
    "\n",
    "model_iris.add(layers.Dense(10, activation='relu',kernel_initializer='zeros'))\n",
    "model_iris.add(layers.Dense(3 ,activation='sigmoid'),)\n",
    "\n",
    "model_iris.compile(optimizer='adam',\n",
    "              loss=tf.keras.losses.SparseCategoricalCrossentropy(),\n",
    "              metrics=['accuracy'])"
   ]
  },
  {
   "cell_type": "code",
   "execution_count": 44,
   "metadata": {},
   "outputs": [],
   "source": [
    "iris = datasets.load_iris()"
   ]
  },
  {
   "cell_type": "code",
   "execution_count": 45,
   "metadata": {},
   "outputs": [],
   "source": [
    "x= iris['data']\n",
    "y = iris['target']\n",
    "# Why do I not have to scale?\n",
    "x_train, x_test, y_train, y_test = train_test_split(x, y, test_size=0.20, random_state=1776)"
   ]
  },
  {
   "cell_type": "code",
   "execution_count": 46,
   "metadata": {},
   "outputs": [
    {
     "data": {
      "text/plain": [
       "array([0, 0, 0, 0, 0, 0, 0, 0, 0, 0, 0, 0, 0, 0, 0, 0, 0, 0, 0, 0, 0, 0,\n",
       "       0, 0, 0, 0, 0, 0, 0, 0, 0, 0, 0, 0, 0, 0, 0, 0, 0, 0, 0, 0, 0, 0,\n",
       "       0, 0, 0, 0, 0, 0, 1, 1, 1, 1, 1, 1, 1, 1, 1, 1, 1, 1, 1, 1, 1, 1,\n",
       "       1, 1, 1, 1, 1, 1, 1, 1, 1, 1, 1, 1, 1, 1, 1, 1, 1, 1, 1, 1, 1, 1,\n",
       "       1, 1, 1, 1, 1, 1, 1, 1, 1, 1, 1, 1, 2, 2, 2, 2, 2, 2, 2, 2, 2, 2,\n",
       "       2, 2, 2, 2, 2, 2, 2, 2, 2, 2, 2, 2, 2, 2, 2, 2, 2, 2, 2, 2, 2, 2,\n",
       "       2, 2, 2, 2, 2, 2, 2, 2, 2, 2, 2, 2, 2, 2, 2, 2, 2, 2])"
      ]
     },
     "execution_count": 46,
     "metadata": {},
     "output_type": "execute_result"
    }
   ],
   "source": [
    "y"
   ]
  },
  {
   "cell_type": "code",
   "execution_count": 47,
   "metadata": {},
   "outputs": [
    {
     "name": "stdout",
     "output_type": "stream",
     "text": [
      "Epoch 1/100\n",
      " 2/30 [=>............................] - ETA: 3s - loss: 1.0986 - accuracy: 0.3750    WARNING:tensorflow:Callbacks method `on_train_batch_begin` is slow compared to the batch time (batch time: 0.0020s vs `on_train_batch_begin` time: 0.0110s). Check your callbacks.\n",
      "WARNING:tensorflow:Callbacks method `on_train_batch_end` is slow compared to the batch time (batch time: 0.0020s vs `on_train_batch_end` time: 0.2159s). Check your callbacks.\n",
      "30/30 [==============================] - 0s 16ms/step - loss: 1.0988 - accuracy: 0.2917 - val_loss: 1.0988 - val_accuracy: 0.3000\n",
      "Epoch 2/100\n",
      "30/30 [==============================] - 0s 4ms/step - loss: 1.0987 - accuracy: 0.3000 - val_loss: 1.0988 - val_accuracy: 0.3000\n",
      "Epoch 3/100\n",
      "30/30 [==============================] - 0s 4ms/step - loss: 1.0986 - accuracy: 0.3417 - val_loss: 1.0988 - val_accuracy: 0.3000\n",
      "Epoch 4/100\n",
      "30/30 [==============================] - 0s 4ms/step - loss: 1.0986 - accuracy: 0.3417 - val_loss: 1.0989 - val_accuracy: 0.3000\n",
      "Epoch 5/100\n",
      "30/30 [==============================] - 0s 5ms/step - loss: 1.0986 - accuracy: 0.3417 - val_loss: 1.0989 - val_accuracy: 0.3000\n",
      "Epoch 6/100\n",
      "30/30 [==============================] - 0s 4ms/step - loss: 1.0986 - accuracy: 0.3417 - val_loss: 1.0989 - val_accuracy: 0.3000\n",
      "Epoch 7/100\n",
      "30/30 [==============================] - 0s 5ms/step - loss: 1.0986 - accuracy: 0.3417 - val_loss: 1.0990 - val_accuracy: 0.3000\n",
      "Epoch 8/100\n",
      "30/30 [==============================] - 0s 4ms/step - loss: 1.0987 - accuracy: 0.3417 - val_loss: 1.0991 - val_accuracy: 0.3000\n",
      "Epoch 9/100\n",
      "30/30 [==============================] - 0s 4ms/step - loss: 1.0986 - accuracy: 0.3417 - val_loss: 1.0989 - val_accuracy: 0.3000\n",
      "Epoch 10/100\n",
      "30/30 [==============================] - 0s 4ms/step - loss: 1.0986 - accuracy: 0.3417 - val_loss: 1.0990 - val_accuracy: 0.3000\n",
      "Epoch 11/100\n",
      "30/30 [==============================] - 0s 4ms/step - loss: 1.0987 - accuracy: 0.3417 - val_loss: 1.0991 - val_accuracy: 0.3000\n",
      "Epoch 12/100\n",
      "30/30 [==============================] - 0s 4ms/step - loss: 1.0986 - accuracy: 0.3417 - val_loss: 1.0991 - val_accuracy: 0.3000\n",
      "Epoch 13/100\n",
      "30/30 [==============================] - 0s 4ms/step - loss: 1.0986 - accuracy: 0.3417 - val_loss: 1.0991 - val_accuracy: 0.3000\n",
      "Epoch 14/100\n",
      "30/30 [==============================] - 0s 5ms/step - loss: 1.0987 - accuracy: 0.3417 - val_loss: 1.0991 - val_accuracy: 0.3000\n",
      "Epoch 15/100\n",
      "30/30 [==============================] - 0s 4ms/step - loss: 1.0986 - accuracy: 0.3417 - val_loss: 1.0991 - val_accuracy: 0.3000\n",
      "Epoch 16/100\n",
      "30/30 [==============================] - 0s 4ms/step - loss: 1.0986 - accuracy: 0.3417 - val_loss: 1.0992 - val_accuracy: 0.3000\n",
      "Epoch 17/100\n",
      "30/30 [==============================] - 0s 4ms/step - loss: 1.0986 - accuracy: 0.3417 - val_loss: 1.0992 - val_accuracy: 0.3000\n",
      "Epoch 18/100\n",
      "30/30 [==============================] - 0s 4ms/step - loss: 1.0986 - accuracy: 0.3417 - val_loss: 1.0992 - val_accuracy: 0.3000\n",
      "Epoch 19/100\n",
      "30/30 [==============================] - 0s 4ms/step - loss: 1.0986 - accuracy: 0.3417 - val_loss: 1.0992 - val_accuracy: 0.3000\n",
      "Epoch 20/100\n",
      "30/30 [==============================] - 0s 4ms/step - loss: 1.0985 - accuracy: 0.3417 - val_loss: 1.0993 - val_accuracy: 0.3000\n",
      "Epoch 21/100\n",
      "30/30 [==============================] - 0s 5ms/step - loss: 1.0985 - accuracy: 0.3417 - val_loss: 1.0993 - val_accuracy: 0.3000\n",
      "Epoch 22/100\n",
      "30/30 [==============================] - 0s 4ms/step - loss: 1.0986 - accuracy: 0.3417 - val_loss: 1.0993 - val_accuracy: 0.3000\n",
      "Epoch 23/100\n",
      "30/30 [==============================] - 0s 4ms/step - loss: 1.0985 - accuracy: 0.3417 - val_loss: 1.0994 - val_accuracy: 0.3000\n",
      "Epoch 24/100\n",
      "30/30 [==============================] - 0s 4ms/step - loss: 1.0985 - accuracy: 0.3417 - val_loss: 1.0994 - val_accuracy: 0.3000\n",
      "Epoch 25/100\n",
      "30/30 [==============================] - 0s 4ms/step - loss: 1.0986 - accuracy: 0.3417 - val_loss: 1.0994 - val_accuracy: 0.3000\n",
      "Epoch 26/100\n",
      "30/30 [==============================] - 0s 4ms/step - loss: 1.0985 - accuracy: 0.3417 - val_loss: 1.0994 - val_accuracy: 0.3000\n",
      "Epoch 27/100\n",
      "30/30 [==============================] - 0s 5ms/step - loss: 1.0986 - accuracy: 0.3417 - val_loss: 1.0993 - val_accuracy: 0.3000\n",
      "Epoch 28/100\n",
      "30/30 [==============================] - 0s 4ms/step - loss: 1.0985 - accuracy: 0.3417 - val_loss: 1.0994 - val_accuracy: 0.3000\n",
      "Epoch 29/100\n",
      "30/30 [==============================] - 0s 4ms/step - loss: 1.0986 - accuracy: 0.3417 - val_loss: 1.0995 - val_accuracy: 0.3000\n",
      "Epoch 30/100\n",
      "30/30 [==============================] - 0s 4ms/step - loss: 1.0985 - accuracy: 0.3417 - val_loss: 1.0996 - val_accuracy: 0.3000\n",
      "Epoch 31/100\n",
      "30/30 [==============================] - 0s 4ms/step - loss: 1.0985 - accuracy: 0.3417 - val_loss: 1.0995 - val_accuracy: 0.3000\n",
      "Epoch 32/100\n",
      "30/30 [==============================] - 0s 4ms/step - loss: 1.0985 - accuracy: 0.3417 - val_loss: 1.0995 - val_accuracy: 0.3000\n",
      "Epoch 33/100\n",
      "30/30 [==============================] - 0s 4ms/step - loss: 1.0985 - accuracy: 0.3417 - val_loss: 1.0995 - val_accuracy: 0.3000\n",
      "Epoch 34/100\n",
      "30/30 [==============================] - 0s 5ms/step - loss: 1.0985 - accuracy: 0.3417 - val_loss: 1.0996 - val_accuracy: 0.3000\n",
      "Epoch 35/100\n",
      "30/30 [==============================] - 0s 4ms/step - loss: 1.0985 - accuracy: 0.3417 - val_loss: 1.0996 - val_accuracy: 0.3000\n",
      "Epoch 36/100\n",
      "30/30 [==============================] - 0s 5ms/step - loss: 1.0985 - accuracy: 0.3417 - val_loss: 1.0996 - val_accuracy: 0.3000\n",
      "Epoch 37/100\n",
      "30/30 [==============================] - 0s 5ms/step - loss: 1.0986 - accuracy: 0.3417 - val_loss: 1.0997 - val_accuracy: 0.3000\n",
      "Epoch 38/100\n",
      "30/30 [==============================] - 0s 5ms/step - loss: 1.0985 - accuracy: 0.3417 - val_loss: 1.0997 - val_accuracy: 0.3000\n",
      "Epoch 39/100\n",
      "30/30 [==============================] - 0s 4ms/step - loss: 1.0985 - accuracy: 0.3417 - val_loss: 1.0996 - val_accuracy: 0.3000\n",
      "Epoch 40/100\n",
      "30/30 [==============================] - 0s 5ms/step - loss: 1.0985 - accuracy: 0.3417 - val_loss: 1.0998 - val_accuracy: 0.3000\n",
      "Epoch 41/100\n",
      "30/30 [==============================] - 0s 4ms/step - loss: 1.0985 - accuracy: 0.3417 - val_loss: 1.0997 - val_accuracy: 0.3000\n",
      "Epoch 42/100\n",
      "30/30 [==============================] - 0s 4ms/step - loss: 1.0985 - accuracy: 0.3417 - val_loss: 1.0998 - val_accuracy: 0.3000\n",
      "Epoch 43/100\n",
      "30/30 [==============================] - 0s 4ms/step - loss: 1.0985 - accuracy: 0.3417 - val_loss: 1.0997 - val_accuracy: 0.3000\n",
      "Epoch 44/100\n",
      "30/30 [==============================] - 0s 4ms/step - loss: 1.0985 - accuracy: 0.3417 - val_loss: 1.0998 - val_accuracy: 0.3000\n",
      "Epoch 45/100\n",
      "30/30 [==============================] - 0s 4ms/step - loss: 1.0986 - accuracy: 0.3417 - val_loss: 1.0998 - val_accuracy: 0.3000\n",
      "Epoch 46/100\n",
      "30/30 [==============================] - 0s 4ms/step - loss: 1.0985 - accuracy: 0.3417 - val_loss: 1.0998 - val_accuracy: 0.3000\n",
      "Epoch 47/100\n",
      "30/30 [==============================] - 0s 4ms/step - loss: 1.0985 - accuracy: 0.3417 - val_loss: 1.0998 - val_accuracy: 0.3000\n",
      "Epoch 48/100\n",
      "30/30 [==============================] - 0s 5ms/step - loss: 1.0985 - accuracy: 0.3417 - val_loss: 1.0998 - val_accuracy: 0.3000\n",
      "Epoch 49/100\n",
      "30/30 [==============================] - 0s 4ms/step - loss: 1.0986 - accuracy: 0.3417 - val_loss: 1.0999 - val_accuracy: 0.3000\n",
      "Epoch 50/100\n",
      "30/30 [==============================] - 0s 4ms/step - loss: 1.0986 - accuracy: 0.3417 - val_loss: 1.0998 - val_accuracy: 0.3000\n",
      "Epoch 51/100\n",
      "30/30 [==============================] - 0s 5ms/step - loss: 1.0985 - accuracy: 0.3417 - val_loss: 1.0999 - val_accuracy: 0.3000\n",
      "Epoch 52/100\n",
      "30/30 [==============================] - 0s 4ms/step - loss: 1.0985 - accuracy: 0.3417 - val_loss: 1.0999 - val_accuracy: 0.3000\n",
      "Epoch 53/100\n",
      "30/30 [==============================] - 0s 4ms/step - loss: 1.0987 - accuracy: 0.3417 - val_loss: 1.0998 - val_accuracy: 0.3000\n",
      "Epoch 54/100\n",
      "30/30 [==============================] - 0s 4ms/step - loss: 1.0985 - accuracy: 0.3417 - val_loss: 1.0999 - val_accuracy: 0.3000\n",
      "Epoch 55/100\n"
     ]
    },
    {
     "name": "stdout",
     "output_type": "stream",
     "text": [
      "30/30 [==============================] - 0s 4ms/step - loss: 1.0985 - accuracy: 0.3417 - val_loss: 1.0999 - val_accuracy: 0.3000\n",
      "Epoch 56/100\n",
      "30/30 [==============================] - 0s 4ms/step - loss: 1.0985 - accuracy: 0.3417 - val_loss: 1.0999 - val_accuracy: 0.3000\n",
      "Epoch 57/100\n",
      "30/30 [==============================] - 0s 4ms/step - loss: 1.0985 - accuracy: 0.3417 - val_loss: 1.0999 - val_accuracy: 0.3000\n",
      "Epoch 58/100\n",
      "30/30 [==============================] - 0s 4ms/step - loss: 1.0985 - accuracy: 0.3417 - val_loss: 1.0999 - val_accuracy: 0.3000\n",
      "Epoch 59/100\n",
      "30/30 [==============================] - 0s 4ms/step - loss: 1.0985 - accuracy: 0.3417 - val_loss: 1.0999 - val_accuracy: 0.3000\n",
      "Epoch 60/100\n",
      "30/30 [==============================] - 0s 4ms/step - loss: 1.0985 - accuracy: 0.3417 - val_loss: 1.1000 - val_accuracy: 0.3000\n",
      "Epoch 61/100\n",
      "30/30 [==============================] - 0s 4ms/step - loss: 1.0986 - accuracy: 0.3417 - val_loss: 1.1000 - val_accuracy: 0.3000\n",
      "Epoch 62/100\n",
      "30/30 [==============================] - 0s 4ms/step - loss: 1.0984 - accuracy: 0.3417 - val_loss: 1.1000 - val_accuracy: 0.3000\n",
      "Epoch 63/100\n",
      "30/30 [==============================] - 0s 4ms/step - loss: 1.0985 - accuracy: 0.3417 - val_loss: 1.1000 - val_accuracy: 0.3000\n",
      "Epoch 64/100\n",
      "30/30 [==============================] - 0s 4ms/step - loss: 1.0986 - accuracy: 0.3417 - val_loss: 1.0999 - val_accuracy: 0.3000\n",
      "Epoch 65/100\n",
      "30/30 [==============================] - 0s 4ms/step - loss: 1.0984 - accuracy: 0.3417 - val_loss: 1.1000 - val_accuracy: 0.3000\n",
      "Epoch 66/100\n",
      "30/30 [==============================] - 0s 4ms/step - loss: 1.0985 - accuracy: 0.3417 - val_loss: 1.1000 - val_accuracy: 0.3000\n",
      "Epoch 67/100\n",
      "30/30 [==============================] - 0s 4ms/step - loss: 1.0985 - accuracy: 0.3417 - val_loss: 1.1000 - val_accuracy: 0.3000\n",
      "Epoch 68/100\n",
      "30/30 [==============================] - 0s 4ms/step - loss: 1.0985 - accuracy: 0.3417 - val_loss: 1.1000 - val_accuracy: 0.3000\n",
      "Epoch 69/100\n",
      "30/30 [==============================] - 0s 4ms/step - loss: 1.0985 - accuracy: 0.3417 - val_loss: 1.1000 - val_accuracy: 0.3000\n",
      "Epoch 70/100\n",
      "30/30 [==============================] - 0s 4ms/step - loss: 1.0985 - accuracy: 0.3417 - val_loss: 1.1001 - val_accuracy: 0.3000\n",
      "Epoch 71/100\n",
      "30/30 [==============================] - 0s 4ms/step - loss: 1.0986 - accuracy: 0.3417 - val_loss: 1.1002 - val_accuracy: 0.3000\n",
      "Epoch 72/100\n",
      "30/30 [==============================] - 0s 4ms/step - loss: 1.0985 - accuracy: 0.3417 - val_loss: 1.1001 - val_accuracy: 0.3000\n",
      "Epoch 73/100\n",
      "30/30 [==============================] - 0s 4ms/step - loss: 1.0985 - accuracy: 0.3417 - val_loss: 1.1001 - val_accuracy: 0.3000\n",
      "Epoch 74/100\n",
      "30/30 [==============================] - 0s 4ms/step - loss: 1.0985 - accuracy: 0.3417 - val_loss: 1.1001 - val_accuracy: 0.3000\n",
      "Epoch 75/100\n",
      "30/30 [==============================] - 0s 4ms/step - loss: 1.0985 - accuracy: 0.3417 - val_loss: 1.1001 - val_accuracy: 0.3000\n",
      "Epoch 76/100\n",
      "30/30 [==============================] - 0s 5ms/step - loss: 1.0985 - accuracy: 0.3417 - val_loss: 1.1001 - val_accuracy: 0.3000\n",
      "Epoch 77/100\n",
      "30/30 [==============================] - 0s 4ms/step - loss: 1.0986 - accuracy: 0.3417 - val_loss: 1.1002 - val_accuracy: 0.3000\n",
      "Epoch 78/100\n",
      "30/30 [==============================] - 0s 4ms/step - loss: 1.0985 - accuracy: 0.3417 - val_loss: 1.1001 - val_accuracy: 0.3000\n",
      "Epoch 79/100\n",
      "30/30 [==============================] - 0s 4ms/step - loss: 1.0985 - accuracy: 0.3417 - val_loss: 1.1001 - val_accuracy: 0.3000\n",
      "Epoch 80/100\n",
      "30/30 [==============================] - 0s 4ms/step - loss: 1.0986 - accuracy: 0.3417 - val_loss: 1.1002 - val_accuracy: 0.3000\n",
      "Epoch 81/100\n",
      "30/30 [==============================] - 0s 5ms/step - loss: 1.0985 - accuracy: 0.3417 - val_loss: 1.1003 - val_accuracy: 0.3000\n",
      "Epoch 82/100\n",
      "30/30 [==============================] - 0s 5ms/step - loss: 1.0985 - accuracy: 0.3417 - val_loss: 1.1002 - val_accuracy: 0.3000\n",
      "Epoch 83/100\n",
      "30/30 [==============================] - 0s 4ms/step - loss: 1.0985 - accuracy: 0.3417 - val_loss: 1.1002 - val_accuracy: 0.3000\n",
      "Epoch 84/100\n",
      "30/30 [==============================] - 0s 4ms/step - loss: 1.0985 - accuracy: 0.3417 - val_loss: 1.1002 - val_accuracy: 0.3000\n",
      "Epoch 85/100\n",
      "30/30 [==============================] - 0s 4ms/step - loss: 1.0985 - accuracy: 0.3417 - val_loss: 1.1002 - val_accuracy: 0.3000\n",
      "Epoch 86/100\n",
      "30/30 [==============================] - 0s 4ms/step - loss: 1.0986 - accuracy: 0.3417 - val_loss: 1.1001 - val_accuracy: 0.3000\n",
      "Epoch 87/100\n",
      "30/30 [==============================] - 0s 4ms/step - loss: 1.0986 - accuracy: 0.3417 - val_loss: 1.1001 - val_accuracy: 0.3000\n",
      "Epoch 88/100\n",
      "30/30 [==============================] - 0s 5ms/step - loss: 1.0986 - accuracy: 0.3417 - val_loss: 1.1002 - val_accuracy: 0.3000\n",
      "Epoch 89/100\n",
      "30/30 [==============================] - 0s 4ms/step - loss: 1.0985 - accuracy: 0.3417 - val_loss: 1.1002 - val_accuracy: 0.3000\n",
      "Epoch 90/100\n",
      "30/30 [==============================] - 0s 5ms/step - loss: 1.0985 - accuracy: 0.3417 - val_loss: 1.1003 - val_accuracy: 0.3000\n",
      "Epoch 91/100\n",
      "30/30 [==============================] - 0s 4ms/step - loss: 1.0986 - accuracy: 0.3417 - val_loss: 1.1002 - val_accuracy: 0.3000\n",
      "Epoch 92/100\n",
      "30/30 [==============================] - 0s 4ms/step - loss: 1.0985 - accuracy: 0.3417 - val_loss: 1.1003 - val_accuracy: 0.3000\n",
      "Epoch 93/100\n",
      "30/30 [==============================] - 0s 4ms/step - loss: 1.0985 - accuracy: 0.3417 - val_loss: 1.1002 - val_accuracy: 0.3000\n",
      "Epoch 94/100\n",
      "30/30 [==============================] - 0s 4ms/step - loss: 1.0984 - accuracy: 0.3417 - val_loss: 1.1002 - val_accuracy: 0.3000\n",
      "Epoch 95/100\n",
      "30/30 [==============================] - 0s 4ms/step - loss: 1.0985 - accuracy: 0.3417 - val_loss: 1.1003 - val_accuracy: 0.3000\n",
      "Epoch 96/100\n",
      "30/30 [==============================] - 0s 4ms/step - loss: 1.0985 - accuracy: 0.3417 - val_loss: 1.1002 - val_accuracy: 0.3000\n",
      "Epoch 97/100\n",
      "30/30 [==============================] - 0s 5ms/step - loss: 1.0985 - accuracy: 0.3417 - val_loss: 1.1003 - val_accuracy: 0.3000\n",
      "Epoch 98/100\n",
      "30/30 [==============================] - 0s 4ms/step - loss: 1.0985 - accuracy: 0.3417 - val_loss: 1.1003 - val_accuracy: 0.3000\n",
      "Epoch 99/100\n",
      "30/30 [==============================] - 0s 4ms/step - loss: 1.0985 - accuracy: 0.3417 - val_loss: 1.1002 - val_accuracy: 0.3000\n",
      "Epoch 100/100\n",
      "30/30 [==============================] - 0s 4ms/step - loss: 1.0985 - accuracy: 0.3417 - val_loss: 1.1004 - val_accuracy: 0.3000\n"
     ]
    },
    {
     "data": {
      "text/plain": [
       "<tensorflow.python.keras.callbacks.History at 0x2a019b1a6d8>"
      ]
     },
     "execution_count": 47,
     "metadata": {},
     "output_type": "execute_result"
    }
   ],
   "source": [
    " model_iris.fit(x_train, y_train, validation_data=(x_test,y_test), epochs=100, batch_size=4, callbacks=[tb])"
   ]
  },
  {
   "cell_type": "code",
   "execution_count": 35,
   "metadata": {},
   "outputs": [
    {
     "data": {
      "image/png": "[encoded data removed]",
      "text/plain": [
       "<Figure size 432x288 with 1 Axes>"
      ]
     },
     "metadata": {
      "needs_background": "light"
     },
     "output_type": "display_data"
    }
   ],
   "source": [
    "train_loss = model_iris.history.history['loss']\n",
    "val_loss = model_iris.history.history['val_loss']\n",
    "plt.plot(train_loss)\n",
    "plt.plot(val_loss)\n",
    "plt.show()"
   ]
  },
  {
   "cell_type": "code",
   "execution_count": 36,
   "metadata": {},
   "outputs": [
    {
     "data": {
      "image/png": "[encoded data removed]",
      "text/plain": [
       "<Figure size 432x288 with 1 Axes>"
      ]
     },
     "metadata": {
      "needs_background": "light"
     },
     "output_type": "display_data"
    }
   ],
   "source": [
    "train_acc = model_iris.history.history['accuracy']\n",
    "val_acc = model_iris.history.history['val_accuracy']\n",
    "plt.plot(train_acc)\n",
    "plt.plot(val_acc)\n",
    "plt.show()"
   ]
  },
  {
   "cell_type": "markdown",
   "metadata": {},
   "source": [
    "#### But WAIT!! There's more\n",
    "Tensorflow has a ton of options to build a model.  The other useful way is called \"model\"  It allows a bit more fine grained control.  Notice how I created a \"skip layer\" that takes the output of layer1 and layer2, combines them and sends them to the output.  This is traditionally used more in Advanced Neural Networks with Convolutional or Recurrent architectures.  This is just a toy example."
   ]
  },
  {
   "cell_type": "code",
   "execution_count": 48,
   "metadata": {},
   "outputs": [
    {
     "name": "stdout",
     "output_type": "stream",
     "text": [
      "Epoch 1/100\n",
      " 2/30 [=>............................] - ETA: 3s - loss: 0.9751 - accuracy: 0.5000WARNING:tensorflow:Callbacks method `on_train_batch_begin` is slow compared to the batch time (batch time: 0.0020s vs `on_train_batch_begin` time: 0.0110s). Check your callbacks.\n",
      "WARNING:tensorflow:Callbacks method `on_train_batch_end` is slow compared to the batch time (batch time: 0.0020s vs `on_train_batch_end` time: 0.2520s). Check your callbacks.\n",
      "30/30 [==============================] - 1s 18ms/step - loss: 1.0981 - accuracy: 0.3417 - val_loss: 0.9828 - val_accuracy: 0.4000\n",
      "Epoch 2/100\n",
      "30/30 [==============================] - 0s 5ms/step - loss: 0.9678 - accuracy: 0.3667 - val_loss: 0.9530 - val_accuracy: 0.3000\n",
      "Epoch 3/100\n",
      "30/30 [==============================] - 0s 4ms/step - loss: 0.9398 - accuracy: 0.3333 - val_loss: 0.9220 - val_accuracy: 0.2667\n",
      "Epoch 4/100\n",
      "30/30 [==============================] - 0s 5ms/step - loss: 0.9105 - accuracy: 0.3583 - val_loss: 0.8876 - val_accuracy: 0.4667\n",
      "Epoch 5/100\n",
      "30/30 [==============================] - 0s 5ms/step - loss: 0.8790 - accuracy: 0.5000 - val_loss: 0.8513 - val_accuracy: 0.5333\n",
      "Epoch 6/100\n",
      "30/30 [==============================] - 0s 5ms/step - loss: 0.8436 - accuracy: 0.5583 - val_loss: 0.8162 - val_accuracy: 0.6000\n",
      "Epoch 7/100\n",
      "30/30 [==============================] - 0s 5ms/step - loss: 0.8140 - accuracy: 0.6750 - val_loss: 0.7723 - val_accuracy: 0.6333\n",
      "Epoch 8/100\n",
      "30/30 [==============================] - 0s 4ms/step - loss: 0.7744 - accuracy: 0.6500 - val_loss: 0.7389 - val_accuracy: 0.6333\n",
      "Epoch 9/100\n",
      "30/30 [==============================] - 0s 5ms/step - loss: 0.7363 - accuracy: 0.6667 - val_loss: 0.6954 - val_accuracy: 0.6333\n",
      "Epoch 10/100\n",
      "30/30 [==============================] - 0s 5ms/step - loss: 0.7144 - accuracy: 0.6250 - val_loss: 0.6568 - val_accuracy: 0.6667\n",
      "Epoch 11/100\n",
      "30/30 [==============================] - 0s 4ms/step - loss: 0.6707 - accuracy: 0.6750 - val_loss: 0.6260 - val_accuracy: 0.6333\n",
      "Epoch 12/100\n",
      "30/30 [==============================] - 0s 5ms/step - loss: 0.6374 - accuracy: 0.6750 - val_loss: 0.5938 - val_accuracy: 0.6667\n",
      "Epoch 13/100\n",
      "30/30 [==============================] - 0s 4ms/step - loss: 0.6135 - accuracy: 0.6333 - val_loss: 0.5657 - val_accuracy: 0.6333\n",
      "Epoch 14/100\n",
      "30/30 [==============================] - 0s 4ms/step - loss: 0.5839 - accuracy: 0.6417 - val_loss: 0.5423 - val_accuracy: 0.6667\n",
      "Epoch 15/100\n",
      "30/30 [==============================] - 0s 4ms/step - loss: 0.5683 - accuracy: 0.6583 - val_loss: 0.5326 - val_accuracy: 0.6667\n",
      "Epoch 16/100\n",
      "30/30 [==============================] - 0s 5ms/step - loss: 0.5448 - accuracy: 0.6583 - val_loss: 0.5101 - val_accuracy: 0.6667\n",
      "Epoch 17/100\n",
      "30/30 [==============================] - 0s 4ms/step - loss: 0.5392 - accuracy: 0.6917 - val_loss: 0.4975 - val_accuracy: 0.6667\n",
      "Epoch 18/100\n",
      "30/30 [==============================] - 0s 4ms/step - loss: 0.5215 - accuracy: 0.6667 - val_loss: 0.4869 - val_accuracy: 0.6667\n",
      "Epoch 19/100\n",
      "30/30 [==============================] - 0s 5ms/step - loss: 0.5214 - accuracy: 0.6667 - val_loss: 0.4824 - val_accuracy: 0.6667\n",
      "Epoch 20/100\n",
      "30/30 [==============================] - 0s 5ms/step - loss: 0.5135 - accuracy: 0.6583 - val_loss: 0.4706 - val_accuracy: 0.6667\n",
      "Epoch 21/100\n",
      "30/30 [==============================] - 0s 5ms/step - loss: 0.4985 - accuracy: 0.6667 - val_loss: 0.4668 - val_accuracy: 0.6667\n",
      "Epoch 22/100\n",
      "30/30 [==============================] - 0s 4ms/step - loss: 0.4896 - accuracy: 0.6917 - val_loss: 0.4567 - val_accuracy: 0.7333\n",
      "Epoch 23/100\n",
      "30/30 [==============================] - 0s 4ms/step - loss: 0.4795 - accuracy: 0.7000 - val_loss: 0.4524 - val_accuracy: 0.6667\n",
      "Epoch 24/100\n",
      "30/30 [==============================] - 0s 5ms/step - loss: 0.4848 - accuracy: 0.6667 - val_loss: 0.4427 - val_accuracy: 0.7000\n",
      "Epoch 25/100\n",
      "30/30 [==============================] - 0s 5ms/step - loss: 0.4778 - accuracy: 0.6417 - val_loss: 0.4417 - val_accuracy: 0.7000\n",
      "Epoch 26/100\n",
      "30/30 [==============================] - 0s 4ms/step - loss: 0.4652 - accuracy: 0.6833 - val_loss: 0.4315 - val_accuracy: 0.8667\n",
      "Epoch 27/100\n",
      "30/30 [==============================] - 0s 4ms/step - loss: 0.4611 - accuracy: 0.7500 - val_loss: 0.4290 - val_accuracy: 0.7000\n",
      "Epoch 28/100\n",
      "30/30 [==============================] - 0s 5ms/step - loss: 0.4653 - accuracy: 0.7500 - val_loss: 0.4253 - val_accuracy: 0.7000\n",
      "Epoch 29/100\n",
      "30/30 [==============================] - 0s 5ms/step - loss: 0.4529 - accuracy: 0.6750 - val_loss: 0.4207 - val_accuracy: 0.7333\n",
      "Epoch 30/100\n",
      "30/30 [==============================] - 0s 5ms/step - loss: 0.4395 - accuracy: 0.7667 - val_loss: 0.4153 - val_accuracy: 0.7667\n",
      "Epoch 31/100\n",
      "30/30 [==============================] - 0s 4ms/step - loss: 0.4384 - accuracy: 0.7750 - val_loss: 0.4080 - val_accuracy: 0.8333\n",
      "Epoch 32/100\n",
      "30/30 [==============================] - 0s 4ms/step - loss: 0.4361 - accuracy: 0.7167 - val_loss: 0.4077 - val_accuracy: 0.7667\n",
      "Epoch 33/100\n",
      "30/30 [==============================] - 0s 5ms/step - loss: 0.4258 - accuracy: 0.8250 - val_loss: 0.3998 - val_accuracy: 0.8333\n",
      "Epoch 34/100\n",
      "30/30 [==============================] - 0s 4ms/step - loss: 0.4305 - accuracy: 0.7417 - val_loss: 0.3947 - val_accuracy: 0.8667\n",
      "Epoch 35/100\n",
      "30/30 [==============================] - 0s 4ms/step - loss: 0.4179 - accuracy: 0.7917 - val_loss: 0.3986 - val_accuracy: 0.7667\n",
      "Epoch 36/100\n",
      "30/30 [==============================] - 0s 4ms/step - loss: 0.4174 - accuracy: 0.7833 - val_loss: 0.3949 - val_accuracy: 0.7667\n",
      "Epoch 37/100\n",
      "30/30 [==============================] - 0s 4ms/step - loss: 0.4075 - accuracy: 0.7917 - val_loss: 0.3823 - val_accuracy: 0.8667\n",
      "Epoch 38/100\n",
      "30/30 [==============================] - 0s 4ms/step - loss: 0.4044 - accuracy: 0.8167 - val_loss: 0.3934 - val_accuracy: 0.7667\n",
      "Epoch 39/100\n",
      "30/30 [==============================] - 0s 4ms/step - loss: 0.3982 - accuracy: 0.8583 - val_loss: 0.3680 - val_accuracy: 0.8333\n",
      "Epoch 40/100\n",
      "30/30 [==============================] - 0s 4ms/step - loss: 0.3958 - accuracy: 0.8083 - val_loss: 0.3627 - val_accuracy: 0.8333\n",
      "Epoch 41/100\n",
      "30/30 [==============================] - 0s 4ms/step - loss: 0.3844 - accuracy: 0.8583 - val_loss: 0.3589 - val_accuracy: 0.8333\n",
      "Epoch 42/100\n",
      "30/30 [==============================] - 0s 4ms/step - loss: 0.3788 - accuracy: 0.8417 - val_loss: 0.3534 - val_accuracy: 0.8333\n",
      "Epoch 43/100\n",
      "30/30 [==============================] - 0s 4ms/step - loss: 0.3865 - accuracy: 0.8000 - val_loss: 0.3648 - val_accuracy: 0.8333\n",
      "Epoch 44/100\n",
      "30/30 [==============================] - 0s 4ms/step - loss: 0.3781 - accuracy: 0.8667 - val_loss: 0.3747 - val_accuracy: 0.7667\n",
      "Epoch 45/100\n",
      "30/30 [==============================] - 0s 4ms/step - loss: 0.3824 - accuracy: 0.7917 - val_loss: 0.3477 - val_accuracy: 0.8667\n",
      "Epoch 46/100\n",
      "30/30 [==============================] - 0s 4ms/step - loss: 0.3539 - accuracy: 0.8583 - val_loss: 0.3338 - val_accuracy: 0.8333\n",
      "Epoch 47/100\n",
      "30/30 [==============================] - 0s 4ms/step - loss: 0.3500 - accuracy: 0.8500 - val_loss: 0.3263 - val_accuracy: 0.8333\n",
      "Epoch 48/100\n",
      "30/30 [==============================] - 0s 4ms/step - loss: 0.3450 - accuracy: 0.8750 - val_loss: 0.3246 - val_accuracy: 0.8333\n",
      "Epoch 49/100\n",
      "30/30 [==============================] - 0s 4ms/step - loss: 0.3364 - accuracy: 0.8833 - val_loss: 0.3380 - val_accuracy: 0.8667\n",
      "Epoch 50/100\n",
      "30/30 [==============================] - 0s 5ms/step - loss: 0.3367 - accuracy: 0.8417 - val_loss: 0.3095 - val_accuracy: 0.8667\n",
      "Epoch 51/100\n",
      "30/30 [==============================] - 0s 4ms/step - loss: 0.3326 - accuracy: 0.8750 - val_loss: 0.3551 - val_accuracy: 0.8333\n",
      "Epoch 52/100\n",
      "30/30 [==============================] - 0s 4ms/step - loss: 0.3208 - accuracy: 0.8917 - val_loss: 0.2971 - val_accuracy: 0.8667\n",
      "Epoch 53/100\n",
      "30/30 [==============================] - 0s 4ms/step - loss: 0.3080 - accuracy: 0.8917 - val_loss: 0.3092 - val_accuracy: 0.8667\n",
      "Epoch 54/100\n",
      "30/30 [==============================] - 0s 4ms/step - loss: 0.3052 - accuracy: 0.8917 - val_loss: 0.3079 - val_accuracy: 0.8667\n",
      "Epoch 55/100\n",
      "30/30 [==============================] - 0s 4ms/step - loss: 0.3232 - accuracy: 0.8583 - val_loss: 0.2776 - val_accuracy: 0.9000\n"
     ]
    },
    {
     "name": "stdout",
     "output_type": "stream",
     "text": [
      "Epoch 56/100\n",
      "30/30 [==============================] - 0s 4ms/step - loss: 0.2925 - accuracy: 0.8917 - val_loss: 0.2866 - val_accuracy: 0.9000\n",
      "Epoch 57/100\n",
      "30/30 [==============================] - 0s 4ms/step - loss: 0.2942 - accuracy: 0.9083 - val_loss: 0.2753 - val_accuracy: 0.9000\n",
      "Epoch 58/100\n",
      "30/30 [==============================] - 0s 4ms/step - loss: 0.2811 - accuracy: 0.9000 - val_loss: 0.2770 - val_accuracy: 0.9000\n",
      "Epoch 59/100\n",
      "30/30 [==============================] - 0s 5ms/step - loss: 0.2889 - accuracy: 0.8833 - val_loss: 0.3409 - val_accuracy: 0.8667\n",
      "Epoch 60/100\n",
      "30/30 [==============================] - 0s 6ms/step - loss: 0.2757 - accuracy: 0.9000 - val_loss: 0.2536 - val_accuracy: 0.8667\n",
      "Epoch 61/100\n",
      "30/30 [==============================] - 0s 5ms/step - loss: 0.2727 - accuracy: 0.8917 - val_loss: 0.2648 - val_accuracy: 0.9000\n",
      "Epoch 62/100\n",
      "30/30 [==============================] - 0s 5ms/step - loss: 0.2616 - accuracy: 0.9000 - val_loss: 0.2434 - val_accuracy: 0.8667\n",
      "Epoch 63/100\n",
      "30/30 [==============================] - 0s 5ms/step - loss: 0.2660 - accuracy: 0.8917 - val_loss: 0.2446 - val_accuracy: 0.9000\n",
      "Epoch 64/100\n",
      "30/30 [==============================] - 0s 5ms/step - loss: 0.2513 - accuracy: 0.9250 - val_loss: 0.2564 - val_accuracy: 0.9000\n",
      "Epoch 65/100\n",
      "30/30 [==============================] - 0s 5ms/step - loss: 0.2515 - accuracy: 0.8833 - val_loss: 0.2484 - val_accuracy: 0.9000\n",
      "Epoch 66/100\n",
      "30/30 [==============================] - 0s 5ms/step - loss: 0.2466 - accuracy: 0.9167 - val_loss: 0.2499 - val_accuracy: 0.9000\n",
      "Epoch 67/100\n",
      "30/30 [==============================] - 0s 4ms/step - loss: 0.2361 - accuracy: 0.9083 - val_loss: 0.2607 - val_accuracy: 0.9000\n",
      "Epoch 68/100\n",
      "30/30 [==============================] - 0s 5ms/step - loss: 0.2331 - accuracy: 0.9167 - val_loss: 0.2346 - val_accuracy: 0.9000\n",
      "Epoch 69/100\n",
      "30/30 [==============================] - 0s 5ms/step - loss: 0.2265 - accuracy: 0.9250 - val_loss: 0.2233 - val_accuracy: 0.9000\n",
      "Epoch 70/100\n",
      "30/30 [==============================] - 0s 4ms/step - loss: 0.2206 - accuracy: 0.9083 - val_loss: 0.2451 - val_accuracy: 0.9000\n",
      "Epoch 71/100\n",
      "30/30 [==============================] - 0s 5ms/step - loss: 0.2224 - accuracy: 0.9167 - val_loss: 0.2158 - val_accuracy: 0.9000\n",
      "Epoch 72/100\n",
      "30/30 [==============================] - 0s 4ms/step - loss: 0.2181 - accuracy: 0.9250 - val_loss: 0.2147 - val_accuracy: 0.9000\n",
      "Epoch 73/100\n",
      "30/30 [==============================] - 0s 4ms/step - loss: 0.2099 - accuracy: 0.9167 - val_loss: 0.2247 - val_accuracy: 0.9000\n",
      "Epoch 74/100\n",
      "30/30 [==============================] - 0s 5ms/step - loss: 0.2139 - accuracy: 0.9167 - val_loss: 0.2259 - val_accuracy: 0.9000\n",
      "Epoch 75/100\n",
      "30/30 [==============================] - 0s 4ms/step - loss: 0.2055 - accuracy: 0.9333 - val_loss: 0.2337 - val_accuracy: 0.9000\n",
      "Epoch 76/100\n",
      "30/30 [==============================] - 0s 4ms/step - loss: 0.2058 - accuracy: 0.9167 - val_loss: 0.1969 - val_accuracy: 0.9000\n",
      "Epoch 77/100\n",
      "30/30 [==============================] - 0s 5ms/step - loss: 0.2162 - accuracy: 0.9083 - val_loss: 0.1836 - val_accuracy: 0.9333\n",
      "Epoch 78/100\n",
      "30/30 [==============================] - 0s 5ms/step - loss: 0.1922 - accuracy: 0.9500 - val_loss: 0.2948 - val_accuracy: 0.8667\n",
      "Epoch 79/100\n",
      "30/30 [==============================] - 0s 4ms/step - loss: 0.2018 - accuracy: 0.9083 - val_loss: 0.1964 - val_accuracy: 0.9000\n",
      "Epoch 80/100\n",
      "30/30 [==============================] - 0s 4ms/step - loss: 0.1954 - accuracy: 0.9083 - val_loss: 0.2982 - val_accuracy: 0.8667\n",
      "Epoch 81/100\n",
      "30/30 [==============================] - 0s 4ms/step - loss: 0.2010 - accuracy: 0.9417 - val_loss: 0.2067 - val_accuracy: 0.9000\n",
      "Epoch 82/100\n",
      "30/30 [==============================] - 0s 4ms/step - loss: 0.1905 - accuracy: 0.9167 - val_loss: 0.1952 - val_accuracy: 0.9000\n",
      "Epoch 83/100\n",
      "30/30 [==============================] - 0s 5ms/step - loss: 0.1959 - accuracy: 0.9500 - val_loss: 0.1913 - val_accuracy: 0.9000\n",
      "Epoch 84/100\n",
      "30/30 [==============================] - 0s 4ms/step - loss: 0.1760 - accuracy: 0.9417 - val_loss: 0.1720 - val_accuracy: 0.9333\n",
      "Epoch 85/100\n",
      "30/30 [==============================] - 0s 5ms/step - loss: 0.1772 - accuracy: 0.9333 - val_loss: 0.2386 - val_accuracy: 0.9000\n",
      "Epoch 86/100\n",
      "30/30 [==============================] - 0s 4ms/step - loss: 0.1803 - accuracy: 0.9333 - val_loss: 0.2045 - val_accuracy: 0.9000\n",
      "Epoch 87/100\n",
      "30/30 [==============================] - 0s 4ms/step - loss: 0.1708 - accuracy: 0.9583 - val_loss: 0.1649 - val_accuracy: 0.9667\n",
      "Epoch 88/100\n",
      "30/30 [==============================] - 0s 4ms/step - loss: 0.1724 - accuracy: 0.9333 - val_loss: 0.2432 - val_accuracy: 0.9000\n",
      "Epoch 89/100\n",
      "30/30 [==============================] - 0s 5ms/step - loss: 0.1783 - accuracy: 0.9250 - val_loss: 0.1753 - val_accuracy: 0.9000\n",
      "Epoch 90/100\n",
      "30/30 [==============================] - 0s 4ms/step - loss: 0.1688 - accuracy: 0.9583 - val_loss: 0.1816 - val_accuracy: 0.9000\n",
      "Epoch 91/100\n",
      "30/30 [==============================] - 0s 4ms/step - loss: 0.1616 - accuracy: 0.9417 - val_loss: 0.2002 - val_accuracy: 0.9000\n",
      "Epoch 92/100\n",
      "30/30 [==============================] - 0s 4ms/step - loss: 0.1798 - accuracy: 0.9500 - val_loss: 0.2116 - val_accuracy: 0.9000\n",
      "Epoch 93/100\n",
      "30/30 [==============================] - 0s 4ms/step - loss: 0.1627 - accuracy: 0.9333 - val_loss: 0.1724 - val_accuracy: 0.9000\n",
      "Epoch 94/100\n",
      "30/30 [==============================] - 0s 4ms/step - loss: 0.1543 - accuracy: 0.9667 - val_loss: 0.1528 - val_accuracy: 0.9667\n",
      "Epoch 95/100\n",
      "30/30 [==============================] - 0s 4ms/step - loss: 0.1533 - accuracy: 0.9333 - val_loss: 0.1897 - val_accuracy: 0.9000\n",
      "Epoch 96/100\n",
      "30/30 [==============================] - 0s 4ms/step - loss: 0.1551 - accuracy: 0.9583 - val_loss: 0.1903 - val_accuracy: 0.9000\n",
      "Epoch 97/100\n",
      "30/30 [==============================] - 0s 4ms/step - loss: 0.1552 - accuracy: 0.9333 - val_loss: 0.1945 - val_accuracy: 0.9000\n",
      "Epoch 98/100\n",
      "30/30 [==============================] - 0s 5ms/step - loss: 0.1569 - accuracy: 0.9333 - val_loss: 0.2681 - val_accuracy: 0.9000\n",
      "Epoch 99/100\n",
      "30/30 [==============================] - 0s 4ms/step - loss: 0.1929 - accuracy: 0.9083 - val_loss: 0.1373 - val_accuracy: 0.9667\n",
      "Epoch 100/100\n",
      "30/30 [==============================] - 0s 5ms/step - loss: 0.1356 - accuracy: 0.9583 - val_loss: 0.1979 - val_accuracy: 0.9000\n"
     ]
    },
    {
     "data": {
      "text/plain": [
       "<tensorflow.python.keras.callbacks.History at 0x2a21abc2630>"
      ]
     },
     "execution_count": 48,
     "metadata": {},
     "output_type": "execute_result"
    }
   ],
   "source": [
    "model_new = tf.keras.Model()\n",
    "inputs = tf.keras.Input(shape=(4,))  #notice i have to tell the input shape. I got away with NOT doing that in sequential\n",
    "x = tf.keras.layers.Dense(4, activation=tf.nn.relu)(inputs)\n",
    "layer1 = tf.keras.layers.Dense(10, activation=tf.nn.relu)(x)\n",
    "layer2 = tf.keras.layers.Dense(10, activation=tf.nn.relu)(layer1)\n",
    "joined = tf.keras.layers.Concatenate(axis=1)([layer1,layer2])\n",
    "outputs = tf.keras.layers.Dense(3, activation=tf.nn.softmax)(joined)\n",
    "model_new = tf.keras.Model(inputs=inputs, outputs=outputs)\n",
    "model_new.compile(optimizer='adam',\n",
    "              loss=tf.keras.losses.SparseCategoricalCrossentropy(),\n",
    "              metrics=['accuracy'])\n",
    "model_new.fit(x_train, y_train, validation_data=(x_test,y_test), epochs=100, batch_size=4, callbacks=[tb])"
   ]
  },
  {
   "cell_type": "code",
   "execution_count": 49,
   "metadata": {},
   "outputs": [
    {
     "name": "stdout",
     "output_type": "stream",
     "text": [
      "Model: \"functional_1\"\n",
      "__________________________________________________________________________________________________\n",
      "Layer (type)                    Output Shape         Param #     Connected to                     \n",
      "==================================================================================================\n",
      "input_2 (InputLayer)            [(None, 4)]          0                                            \n",
      "__________________________________________________________________________________________________\n",
      "dense_13 (Dense)                (None, 4)            20          input_2[0][0]                    \n",
      "__________________________________________________________________________________________________\n",
      "dense_14 (Dense)                (None, 10)           50          dense_13[0][0]                   \n",
      "__________________________________________________________________________________________________\n",
      "dense_15 (Dense)                (None, 10)           110         dense_14[0][0]                   \n",
      "__________________________________________________________________________________________________\n",
      "concatenate (Concatenate)       (None, 20)           0           dense_14[0][0]                   \n",
      "                                                                 dense_15[0][0]                   \n",
      "__________________________________________________________________________________________________\n",
      "dense_16 (Dense)                (None, 3)            63          concatenate[0][0]                \n",
      "==================================================================================================\n",
      "Total params: 243\n",
      "Trainable params: 243\n",
      "Non-trainable params: 0\n",
      "__________________________________________________________________________________________________\n"
     ]
    }
   ],
   "source": [
    "model_new.summary()"
   ]
  },
  {
   "cell_type": "markdown",
   "metadata": {},
   "source": [
    "### Lets go Crazy.  \n",
    "\n",
    "You can control EVERY part of the loop.  USually not nessecary, but be aware \\\n"
   ]
  },
  {
   "cell_type": "code",
   "execution_count": null,
   "metadata": {},
   "outputs": [],
   "source": [
    "BATCH_SIZE = 32\n",
    "SHUFFLE_BUFFER_SIZE = 120\n",
    "train_dataset = tf.data.Dataset.from_tensor_slices((iris['data'],iris['target']))\n",
    "train_dataset = train_dataset.shuffle(SHUFFLE_BUFFER_SIZE).batch(BATCH_SIZE)"
   ]
  },
  {
   "cell_type": "code",
   "execution_count": null,
   "metadata": {},
   "outputs": [],
   "source": [
    "class_names = ['Iris setosa', 'Iris versicolor', 'Iris virginica']"
   ]
  },
  {
   "cell_type": "code",
   "execution_count": null,
   "metadata": {},
   "outputs": [],
   "source": []
  },
  {
   "cell_type": "code",
   "execution_count": null,
   "metadata": {},
   "outputs": [],
   "source": [
    "features, labels = next(iter(train_dataset))\n",
    "plt.scatter(features[:,0],\n",
    "            features[:,2],\n",
    "            c=labels,\n",
    "            cmap='viridis')\n",
    "\n",
    "plt.xlabel(\"Petal length\")\n",
    "plt.ylabel(\"Sepal length\")\n",
    "plt.show()\n",
    "\n",
    "   "
   ]
  },
  {
   "cell_type": "code",
   "execution_count": null,
   "metadata": {},
   "outputs": [],
   "source": [
    "model = tf.keras.Sequential([\n",
    "  tf.keras.layers.Dense(10, activation=tf.nn.relu, input_shape=(4,)),  # input shape required\n",
    "  tf.keras.layers.Dense(10, activation=tf.nn.relu),\n",
    "  tf.keras.layers.Dense(3)\n",
    "])\n",
    "\n"
   ]
  },
  {
   "cell_type": "code",
   "execution_count": null,
   "metadata": {},
   "outputs": [],
   "source": [
    "predictions = model(features)\n",
    "predictions[:5]"
   ]
  },
  {
   "cell_type": "code",
   "execution_count": null,
   "metadata": {},
   "outputs": [],
   "source": [
    "tf.nn.softmax(predictions[:5])\n"
   ]
  },
  {
   "cell_type": "code",
   "execution_count": null,
   "metadata": {},
   "outputs": [],
   "source": [
    "print(\"Prediction: {}\".format(tf.argmax(predictions, axis=1)))\n",
    "print(\"    Labels: {}\".format(labels))"
   ]
  },
  {
   "cell_type": "code",
   "execution_count": null,
   "metadata": {},
   "outputs": [],
   "source": [
    "loss_object = tf.keras.losses.SparseCategoricalCrossentropy(from_logits=True)"
   ]
  },
  {
   "cell_type": "code",
   "execution_count": null,
   "metadata": {},
   "outputs": [],
   "source": [
    "\n",
    "def loss(model, x, y, training):\n",
    "  # training=training is needed only if there are layers with different\n",
    "  # behavior during training versus inference (e.g. Dropout).\n",
    "  y_ = model(x, training=training)\n",
    "\n",
    "  return loss_object(y_true=y, y_pred=y_)\n",
    "\n",
    "\n",
    "l = loss(model, features, labels, training=False)\n",
    "print(\"Loss test: {}\".format(l))"
   ]
  },
  {
   "cell_type": "code",
   "execution_count": null,
   "metadata": {},
   "outputs": [],
   "source": [
    "\n",
    "def grad(model, inputs, targets):\n",
    "  with tf.GradientTape() as tape:\n",
    "    loss_value = loss(model, inputs, targets, training=True)\n",
    "  return loss_value, tape.gradient(loss_value, model.trainable_variables)"
   ]
  },
  {
   "cell_type": "code",
   "execution_count": null,
   "metadata": {},
   "outputs": [],
   "source": [
    "optimizer = tf.keras.optimizers.SGD(learning_rate=0.01)"
   ]
  },
  {
   "cell_type": "code",
   "execution_count": null,
   "metadata": {},
   "outputs": [],
   "source": [
    "loss_value, grads = grad(model, features, labels)\n",
    "\n",
    "print(\"Step: {}, Initial Loss: {}\".format(optimizer.iterations.numpy(),\n",
    "                                          loss_value.numpy()))\n",
    "\n",
    "optimizer.apply_gradients(zip(grads, model.trainable_variables))\n",
    "\n",
    "print(\"Step: {},         Loss: {}\".format(optimizer.iterations.numpy(),\n",
    "                                          loss(model, features, labels, training=True).numpy()))"
   ]
  },
  {
   "cell_type": "code",
   "execution_count": null,
   "metadata": {},
   "outputs": [],
   "source": [
    "## Note: Rerunning this cell uses the same model variables\n",
    "\n",
    "# Keep results for plotting\n",
    "train_loss_results = []\n",
    "train_accuracy_results = []\n",
    "T\n",
    "num_epochs = 201\n",
    "\n",
    "for epoch in range(num_epochs):\n",
    "  epoch_loss_avg = tf.keras.metrics.Mean()\n",
    "  epoch_accuracy = tf.keras.metrics.SparseCategoricalAccuracy()\n",
    "\n",
    "  # Training loop - using batches of 32\n",
    "  for x, y in train_dataset:\n",
    "    # Optimize the model\n",
    "    loss_value, grads = grad(model, x, y)\n",
    "    optimizer.apply_gradients(zip(grads, model.trainable_variables))\n",
    "\n",
    "    # Track progress\n",
    "    epoch_loss_avg.update_state(loss_value)  # Add current batch loss\n",
    "    # Compare predicted label to actual label\n",
    "    # training=True is needed only if there are layers with different\n",
    "    # behavior during training versus inference (e.g. Dropout).\n",
    "    epoch_accuracy.update_state(y, model(x, training=True))\n",
    "\n",
    "  # End epoch\n",
    "  train_loss_results.append(epoch_loss_avg.result())\n",
    "  train_accuracy_results.append(epoch_accuracy.result())\n",
    "\n",
    "  if epoch % 50 == 0:\n",
    "    print(\"Epoch {:03d}: Loss: {:.3f}, Accuracy: {:.3%}\".format(epoch,\n",
    "                                                                epoch_loss_avg.result(),\n",
    "                                                                epoch_accuracy.result()))"
   ]
  },
  {
   "cell_type": "code",
   "execution_count": null,
   "metadata": {},
   "outputs": [],
   "source": []
  }
 ],
 "metadata": {
  "kernelspec": {
   "display_name": "2020",
   "language": "python",
   "name": "2020"
  },
  "language_info": {
   "codemirror_mode": {
    "name": "ipython",
    "version": 3
   },
   "file_extension": ".py",
   "mimetype": "text/x-python",
   "name": "python",
   "nbconvert_exporter": "python",
   "pygments_lexer": "ipython3",
   "version": "3.6.8"
  }
 },
 "nbformat": 4,
 "nbformat_minor": 2
}
