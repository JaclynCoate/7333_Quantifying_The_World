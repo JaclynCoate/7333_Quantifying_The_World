{
  "nbformat": 4,
  "nbformat_minor": 0,
  "metadata": {
    "colab": {
      "name": "Coate_Riley_Meagher_Final_Case_Study.ipynb",
      "provenance": [],
      "collapsed_sections": [],
      "toc_visible": true
    },
    "kernelspec": {
      "display_name": "Python 3",
      "name": "python3"
    },
    "language_info": {
      "name": "python"
    },
    "accelerator": "GPU"
  },
  "cells": [
    {
      "cell_type": "markdown",
      "metadata": {
        "id": "SNmunkHjXQtP"
      },
      "source": [
        "# Reducing Monetary Loss w/ Prediction Algorithms\n",
        "Megan Riley, Jaclyn Coate, and Reagan Meagher"
      ]
    },
    {
      "cell_type": "markdown",
      "metadata": {
        "id": "EMpgj3IDcIQ9"
      },
      "source": [
        "## 1 Objective\n",
        "Our client has provided data to build a prediction algorithm to mimize monetary loss. The data has been given to us with no background or metadata. The following report details those efforts in order to minimize monetary loss by maximizing precision on the prediction algorithm built for the client. The below details were outlined in order to provide direction of our modeling efforts:\n"
      ]
    },
    {
      "cell_type": "markdown",
      "metadata": {
        "id": "tz3_P3SskcFz"
      },
      "source": [
        "### List 1.1: Monetary Loss by Measurement\n",
        "* False Positive: for every false positive there is a 225 dollar loss\n",
        "* False Negative: for every false negative there is a 35 dollar loss"
      ]
    },
    {
      "cell_type": "markdown",
      "metadata": {
        "id": "vgbXeDVnkdaX"
      },
      "source": [
        "\n",
        "When leveraging machine learning algorithms there are many models to choose from. However, all models perform differently when applied to the same datasets. In order to solve our problem we chose 3 main different models as candidates to help us with our business needs. Allowing us to have a broader understanding of the data and enable us to find the best solution. Our models of choice were Random Forest, Stochastic Gradient Descent with Logistic Regularization, and XGBoost. In execution of all models the monetary loss above is taken into account."
      ]
    },
    {
      "cell_type": "markdown",
      "metadata": {
        "id": "GRM4tSzRbutB"
      },
      "source": [
        "## 2 Data & Package Load"
      ]
    },
    {
      "cell_type": "markdown",
      "metadata": {
        "id": "6izNyPdrXVFu"
      },
      "source": [
        "[Data](https://smu.app.box.com/s/k9x192jxm39enjw2wx8ouw2kopx33l32)"
      ]
    },
    {
      "cell_type": "code",
      "metadata": {
        "id": "7w0VXWdparfD"
      },
      "source": [
        "import pandas as pd\n",
        "import numpy as np\n",
        "import matplotlib.pyplot as plt\n",
        "import seaborn as sns\n",
        "import sklearn\n",
        "from sklearn import metrics"
      ],
      "execution_count": null,
      "outputs": []
    },
    {
      "cell_type": "code",
      "metadata": {
        "id": "gx6ELDwTWwGV"
      },
      "source": [
        "# To correctly load data from googledrive. \n",
        "from pydrive.auth import GoogleAuth\n",
        "from pydrive.drive import GoogleDrive\n",
        "from google.colab import auth\n",
        "from oauth2client.client import GoogleCredentials\n",
        "\n",
        "auth.authenticate_user()\n",
        "gauth = GoogleAuth()\n",
        "gauth.credentials = GoogleCredentials.get_application_default()\n",
        "drive = GoogleDrive(gauth)"
      ],
      "execution_count": null,
      "outputs": []
    },
    {
      "cell_type": "code",
      "metadata": {
        "id": "Ie33ZNjzZ2fm"
      },
      "source": [
        "data_location = \"https://drive.google.com/file/d/1FcHhkyZIOqc7CDsYsCwp4MHOz6ixZCaF/view?usp=sharing\"\n",
        "file_id = \"1FcHhkyZIOqc7CDsYsCwp4MHOz6ixZCaF\""
      ],
      "execution_count": null,
      "outputs": []
    },
    {
      "cell_type": "code",
      "metadata": {
        "colab": {
          "base_uri": "https://localhost:8080/"
        },
        "id": "JLeyx96IaRAu",
        "outputId": "b844d36c-17b8-49ad-d1d5-0e8334d6b04b"
      },
      "source": [
        "downloaded = drive.CreateFile({'id':file_id})\n",
        "downloaded.GetContentFile('final_project.csv') \n",
        "\n",
        "rawData = pd.read_csv('final_project.csv')\n",
        "rawData.shape"
      ],
      "execution_count": null,
      "outputs": [
        {
          "output_type": "execute_result",
          "data": {
            "text/plain": [
              "(160000, 51)"
            ]
          },
          "metadata": {
            "tags": []
          },
          "execution_count": 4
        }
      ]
    },
    {
      "cell_type": "markdown",
      "metadata": {
        "id": "6-ENVLxfbyii"
      },
      "source": [
        "## 3 Exploratory Data Analysis"
      ]
    },
    {
      "cell_type": "markdown",
      "metadata": {
        "id": "AbcYkobpsSsG"
      },
      "source": [
        "The data used to train these models included no metadata or further information describing the problem of classification at hand. It included 160,000 observations of fifty features. Without the additional information, we could not explore detailed feature creation. After some exploration we found minimal issues with multicollinearity. Most features were uncorrelated or had minimal correlation. This exploration gave us minimal additional information to inform our models or concerns with multicollinearity going forward. \n"
      ]
    },
    {
      "cell_type": "markdown",
      "metadata": {
        "id": "4pz8tNxfPWHy"
      },
      "source": [
        "### 3.1 Raw Data Table Review of Top 4 Observations"
      ]
    },
    {
      "cell_type": "code",
      "metadata": {
        "colab": {
          "base_uri": "https://localhost:8080/",
          "height": 211
        },
        "id": "b6sI1We6bF3G",
        "outputId": "b4cf86ae-104b-4fd4-f3ef-8048bbbbe3d5"
      },
      "source": [
        "rawData.head()"
      ],
      "execution_count": null,
      "outputs": [
        {
          "output_type": "execute_result",
          "data": {
            "text/html": [
              "<div>\n",
              "<style scoped>\n",
              "    .dataframe tbody tr th:only-of-type {\n",
              "        vertical-align: middle;\n",
              "    }\n",
              "\n",
              "    .dataframe tbody tr th {\n",
              "        vertical-align: top;\n",
              "    }\n",
              "\n",
              "    .dataframe thead th {\n",
              "        text-align: right;\n",
              "    }\n",
              "</style>\n",
              "<table border=\"1\" class=\"dataframe\">\n",
              "  <thead>\n",
              "    <tr style=\"text-align: right;\">\n",
              "      <th></th>\n",
              "      <th>x0</th>\n",
              "      <th>x1</th>\n",
              "      <th>x2</th>\n",
              "      <th>x3</th>\n",
              "      <th>x4</th>\n",
              "      <th>x5</th>\n",
              "      <th>x6</th>\n",
              "      <th>x7</th>\n",
              "      <th>x8</th>\n",
              "      <th>x9</th>\n",
              "      <th>x10</th>\n",
              "      <th>x11</th>\n",
              "      <th>x12</th>\n",
              "      <th>x13</th>\n",
              "      <th>x14</th>\n",
              "      <th>x15</th>\n",
              "      <th>x16</th>\n",
              "      <th>x17</th>\n",
              "      <th>x18</th>\n",
              "      <th>x19</th>\n",
              "      <th>x20</th>\n",
              "      <th>x21</th>\n",
              "      <th>x22</th>\n",
              "      <th>x23</th>\n",
              "      <th>x24</th>\n",
              "      <th>x25</th>\n",
              "      <th>x26</th>\n",
              "      <th>x27</th>\n",
              "      <th>x28</th>\n",
              "      <th>x29</th>\n",
              "      <th>x30</th>\n",
              "      <th>x31</th>\n",
              "      <th>x32</th>\n",
              "      <th>x33</th>\n",
              "      <th>x34</th>\n",
              "      <th>x35</th>\n",
              "      <th>x36</th>\n",
              "      <th>x37</th>\n",
              "      <th>x38</th>\n",
              "      <th>x39</th>\n",
              "      <th>x40</th>\n",
              "      <th>x41</th>\n",
              "      <th>x42</th>\n",
              "      <th>x43</th>\n",
              "      <th>x44</th>\n",
              "      <th>x45</th>\n",
              "      <th>x46</th>\n",
              "      <th>x47</th>\n",
              "      <th>x48</th>\n",
              "      <th>x49</th>\n",
              "      <th>y</th>\n",
              "    </tr>\n",
              "  </thead>\n",
              "  <tbody>\n",
              "    <tr>\n",
              "      <th>0</th>\n",
              "      <td>-0.166563</td>\n",
              "      <td>-3.961588</td>\n",
              "      <td>4.621113</td>\n",
              "      <td>2.481908</td>\n",
              "      <td>-1.800135</td>\n",
              "      <td>0.804684</td>\n",
              "      <td>6.718751</td>\n",
              "      <td>-14.789997</td>\n",
              "      <td>-1.040673</td>\n",
              "      <td>-4.204950</td>\n",
              "      <td>6.187465</td>\n",
              "      <td>13.251523</td>\n",
              "      <td>25.665413</td>\n",
              "      <td>-5.017267</td>\n",
              "      <td>10.503714</td>\n",
              "      <td>-2.517678</td>\n",
              "      <td>2.117910</td>\n",
              "      <td>5.865923</td>\n",
              "      <td>-6.666158</td>\n",
              "      <td>1.791497</td>\n",
              "      <td>-1.909114</td>\n",
              "      <td>-1.737940</td>\n",
              "      <td>-2.516715</td>\n",
              "      <td>3.553013</td>\n",
              "      <td>euorpe</td>\n",
              "      <td>-0.801340</td>\n",
              "      <td>1.142950</td>\n",
              "      <td>1.005131</td>\n",
              "      <td>-18.473784</td>\n",
              "      <td>July</td>\n",
              "      <td>tuesday</td>\n",
              "      <td>-3.851669</td>\n",
              "      <td>0.0%</td>\n",
              "      <td>-1.940031</td>\n",
              "      <td>-5.492063</td>\n",
              "      <td>0.627121</td>\n",
              "      <td>-0.873824</td>\n",
              "      <td>$1313.96</td>\n",
              "      <td>-1.353729</td>\n",
              "      <td>-5.186148</td>\n",
              "      <td>-10.612200</td>\n",
              "      <td>-1.497117</td>\n",
              "      <td>5.414063</td>\n",
              "      <td>-2.325655</td>\n",
              "      <td>1.674827</td>\n",
              "      <td>-0.264332</td>\n",
              "      <td>60.781427</td>\n",
              "      <td>-7.689696</td>\n",
              "      <td>0.151589</td>\n",
              "      <td>-8.040166</td>\n",
              "      <td>0</td>\n",
              "    </tr>\n",
              "    <tr>\n",
              "      <th>1</th>\n",
              "      <td>-0.149894</td>\n",
              "      <td>-0.585676</td>\n",
              "      <td>27.839856</td>\n",
              "      <td>4.152333</td>\n",
              "      <td>6.426802</td>\n",
              "      <td>-2.426943</td>\n",
              "      <td>40.477058</td>\n",
              "      <td>-6.725709</td>\n",
              "      <td>0.896421</td>\n",
              "      <td>0.330165</td>\n",
              "      <td>-11.708859</td>\n",
              "      <td>-2.352809</td>\n",
              "      <td>-25.014934</td>\n",
              "      <td>9.799608</td>\n",
              "      <td>-10.960705</td>\n",
              "      <td>1.504000</td>\n",
              "      <td>-2.397836</td>\n",
              "      <td>-9.301839</td>\n",
              "      <td>-1.999413</td>\n",
              "      <td>5.045258</td>\n",
              "      <td>-5.809984</td>\n",
              "      <td>10.814319</td>\n",
              "      <td>-0.478112</td>\n",
              "      <td>10.590601</td>\n",
              "      <td>asia</td>\n",
              "      <td>0.818792</td>\n",
              "      <td>-0.642987</td>\n",
              "      <td>0.751086</td>\n",
              "      <td>3.749377</td>\n",
              "      <td>Aug</td>\n",
              "      <td>wednesday</td>\n",
              "      <td>1.391594</td>\n",
              "      <td>-0.02%</td>\n",
              "      <td>2.211462</td>\n",
              "      <td>-4.460591</td>\n",
              "      <td>1.035461</td>\n",
              "      <td>0.228270</td>\n",
              "      <td>$1962.78</td>\n",
              "      <td>32.816804</td>\n",
              "      <td>-5.150012</td>\n",
              "      <td>2.147427</td>\n",
              "      <td>36.292790</td>\n",
              "      <td>4.490915</td>\n",
              "      <td>0.762561</td>\n",
              "      <td>6.526662</td>\n",
              "      <td>1.007927</td>\n",
              "      <td>15.805696</td>\n",
              "      <td>-4.896678</td>\n",
              "      <td>-0.320283</td>\n",
              "      <td>16.719974</td>\n",
              "      <td>0</td>\n",
              "    </tr>\n",
              "    <tr>\n",
              "      <th>2</th>\n",
              "      <td>-0.321707</td>\n",
              "      <td>-1.429819</td>\n",
              "      <td>12.251561</td>\n",
              "      <td>6.586874</td>\n",
              "      <td>-5.304647</td>\n",
              "      <td>-11.311090</td>\n",
              "      <td>17.812850</td>\n",
              "      <td>11.060572</td>\n",
              "      <td>5.325880</td>\n",
              "      <td>-2.632984</td>\n",
              "      <td>1.572647</td>\n",
              "      <td>-4.170771</td>\n",
              "      <td>12.078602</td>\n",
              "      <td>-5.158498</td>\n",
              "      <td>7.302780</td>\n",
              "      <td>-2.192431</td>\n",
              "      <td>-4.065428</td>\n",
              "      <td>-7.675055</td>\n",
              "      <td>4.041629</td>\n",
              "      <td>-6.633628</td>\n",
              "      <td>1.700321</td>\n",
              "      <td>-2.419221</td>\n",
              "      <td>2.467521</td>\n",
              "      <td>-5.270615</td>\n",
              "      <td>asia</td>\n",
              "      <td>-0.718315</td>\n",
              "      <td>-0.566757</td>\n",
              "      <td>4.171088</td>\n",
              "      <td>11.522448</td>\n",
              "      <td>July</td>\n",
              "      <td>wednesday</td>\n",
              "      <td>-3.262082</td>\n",
              "      <td>-0.01%</td>\n",
              "      <td>0.419607</td>\n",
              "      <td>-3.804056</td>\n",
              "      <td>-0.763357</td>\n",
              "      <td>-1.612561</td>\n",
              "      <td>$430.47</td>\n",
              "      <td>-0.333199</td>\n",
              "      <td>8.728585</td>\n",
              "      <td>-0.863137</td>\n",
              "      <td>-0.368491</td>\n",
              "      <td>9.088864</td>\n",
              "      <td>-0.689886</td>\n",
              "      <td>-2.731118</td>\n",
              "      <td>0.754200</td>\n",
              "      <td>30.856417</td>\n",
              "      <td>-7.428573</td>\n",
              "      <td>-2.090804</td>\n",
              "      <td>-7.869421</td>\n",
              "      <td>0</td>\n",
              "    </tr>\n",
              "    <tr>\n",
              "      <th>3</th>\n",
              "      <td>-0.245594</td>\n",
              "      <td>5.076677</td>\n",
              "      <td>-24.149632</td>\n",
              "      <td>3.637307</td>\n",
              "      <td>6.505811</td>\n",
              "      <td>2.290224</td>\n",
              "      <td>-35.111751</td>\n",
              "      <td>-18.913592</td>\n",
              "      <td>-0.337041</td>\n",
              "      <td>-5.568076</td>\n",
              "      <td>-2.000255</td>\n",
              "      <td>-19.286668</td>\n",
              "      <td>10.995330</td>\n",
              "      <td>-5.914378</td>\n",
              "      <td>2.511400</td>\n",
              "      <td>1.292362</td>\n",
              "      <td>-2.496882</td>\n",
              "      <td>-15.722954</td>\n",
              "      <td>-2.735382</td>\n",
              "      <td>1.117536</td>\n",
              "      <td>1.923670</td>\n",
              "      <td>-14.179167</td>\n",
              "      <td>1.470625</td>\n",
              "      <td>-11.484431</td>\n",
              "      <td>asia</td>\n",
              "      <td>-0.052430</td>\n",
              "      <td>-0.558582</td>\n",
              "      <td>9.215569</td>\n",
              "      <td>30.595226</td>\n",
              "      <td>July</td>\n",
              "      <td>wednesday</td>\n",
              "      <td>-2.285241</td>\n",
              "      <td>0.01%</td>\n",
              "      <td>-3.442715</td>\n",
              "      <td>4.420160</td>\n",
              "      <td>1.164532</td>\n",
              "      <td>3.033455</td>\n",
              "      <td>$-2366.29</td>\n",
              "      <td>14.188669</td>\n",
              "      <td>-6.385060</td>\n",
              "      <td>12.084421</td>\n",
              "      <td>15.691546</td>\n",
              "      <td>-7.467775</td>\n",
              "      <td>2.940789</td>\n",
              "      <td>-6.424112</td>\n",
              "      <td>0.419776</td>\n",
              "      <td>-72.424569</td>\n",
              "      <td>5.361375</td>\n",
              "      <td>1.806070</td>\n",
              "      <td>-7.670847</td>\n",
              "      <td>0</td>\n",
              "    </tr>\n",
              "    <tr>\n",
              "      <th>4</th>\n",
              "      <td>-0.273366</td>\n",
              "      <td>0.306326</td>\n",
              "      <td>-11.352593</td>\n",
              "      <td>1.676758</td>\n",
              "      <td>2.928441</td>\n",
              "      <td>-0.616824</td>\n",
              "      <td>-16.505817</td>\n",
              "      <td>27.532281</td>\n",
              "      <td>1.199715</td>\n",
              "      <td>-4.309105</td>\n",
              "      <td>6.667530</td>\n",
              "      <td>1.965913</td>\n",
              "      <td>-28.106348</td>\n",
              "      <td>-1.258950</td>\n",
              "      <td>5.759941</td>\n",
              "      <td>0.472584</td>\n",
              "      <td>-1.150097</td>\n",
              "      <td>-14.118709</td>\n",
              "      <td>4.527964</td>\n",
              "      <td>-1.284372</td>\n",
              "      <td>-9.026317</td>\n",
              "      <td>-7.039818</td>\n",
              "      <td>-1.978748</td>\n",
              "      <td>-15.998166</td>\n",
              "      <td>asia</td>\n",
              "      <td>-0.223449</td>\n",
              "      <td>0.350781</td>\n",
              "      <td>1.811182</td>\n",
              "      <td>-4.094084</td>\n",
              "      <td>July</td>\n",
              "      <td>tuesday</td>\n",
              "      <td>0.921047</td>\n",
              "      <td>0.01%</td>\n",
              "      <td>-0.431640</td>\n",
              "      <td>12.165494</td>\n",
              "      <td>-0.167726</td>\n",
              "      <td>-0.341604</td>\n",
              "      <td>$-620.66</td>\n",
              "      <td>-12.578926</td>\n",
              "      <td>1.133798</td>\n",
              "      <td>30.004727</td>\n",
              "      <td>-13.911297</td>\n",
              "      <td>-5.229937</td>\n",
              "      <td>1.783928</td>\n",
              "      <td>3.957801</td>\n",
              "      <td>-0.096988</td>\n",
              "      <td>-14.085435</td>\n",
              "      <td>-0.208351</td>\n",
              "      <td>-0.894942</td>\n",
              "      <td>15.724742</td>\n",
              "      <td>1</td>\n",
              "    </tr>\n",
              "  </tbody>\n",
              "</table>\n",
              "</div>"
            ],
            "text/plain": [
              "         x0        x1         x2        x3  ...       x47       x48        x49  y\n",
              "0 -0.166563 -3.961588   4.621113  2.481908  ... -7.689696  0.151589  -8.040166  0\n",
              "1 -0.149894 -0.585676  27.839856  4.152333  ... -4.896678 -0.320283  16.719974  0\n",
              "2 -0.321707 -1.429819  12.251561  6.586874  ... -7.428573 -2.090804  -7.869421  0\n",
              "3 -0.245594  5.076677 -24.149632  3.637307  ...  5.361375  1.806070  -7.670847  0\n",
              "4 -0.273366  0.306326 -11.352593  1.676758  ... -0.208351 -0.894942  15.724742  1\n",
              "\n",
              "[5 rows x 51 columns]"
            ]
          },
          "metadata": {
            "tags": []
          },
          "execution_count": 5
        }
      ]
    },
    {
      "cell_type": "markdown",
      "metadata": {
        "id": "TK5PV2FOPdJW"
      },
      "source": [
        "### 3.2 Raw Data Table Description Statistics of Variables"
      ]
    },
    {
      "cell_type": "code",
      "metadata": {
        "colab": {
          "base_uri": "https://localhost:8080/",
          "height": 297
        },
        "id": "X3v8wr1VbIj1",
        "outputId": "73469daf-36cc-47f0-f7ee-fdbfd30a7548"
      },
      "source": [
        "rawData.describe()"
      ],
      "execution_count": null,
      "outputs": [
        {
          "output_type": "execute_result",
          "data": {
            "text/html": [
              "<div>\n",
              "<style scoped>\n",
              "    .dataframe tbody tr th:only-of-type {\n",
              "        vertical-align: middle;\n",
              "    }\n",
              "\n",
              "    .dataframe tbody tr th {\n",
              "        vertical-align: top;\n",
              "    }\n",
              "\n",
              "    .dataframe thead th {\n",
              "        text-align: right;\n",
              "    }\n",
              "</style>\n",
              "<table border=\"1\" class=\"dataframe\">\n",
              "  <thead>\n",
              "    <tr style=\"text-align: right;\">\n",
              "      <th></th>\n",
              "      <th>x0</th>\n",
              "      <th>x1</th>\n",
              "      <th>x2</th>\n",
              "      <th>x3</th>\n",
              "      <th>x4</th>\n",
              "      <th>x5</th>\n",
              "      <th>x6</th>\n",
              "      <th>x7</th>\n",
              "      <th>x8</th>\n",
              "      <th>x9</th>\n",
              "      <th>x10</th>\n",
              "      <th>x11</th>\n",
              "      <th>x12</th>\n",
              "      <th>x13</th>\n",
              "      <th>x14</th>\n",
              "      <th>x15</th>\n",
              "      <th>x16</th>\n",
              "      <th>x17</th>\n",
              "      <th>x18</th>\n",
              "      <th>x19</th>\n",
              "      <th>x20</th>\n",
              "      <th>x21</th>\n",
              "      <th>x22</th>\n",
              "      <th>x23</th>\n",
              "      <th>x25</th>\n",
              "      <th>x26</th>\n",
              "      <th>x27</th>\n",
              "      <th>x28</th>\n",
              "      <th>x31</th>\n",
              "      <th>x33</th>\n",
              "      <th>x34</th>\n",
              "      <th>x35</th>\n",
              "      <th>x36</th>\n",
              "      <th>x38</th>\n",
              "      <th>x39</th>\n",
              "      <th>x40</th>\n",
              "      <th>x41</th>\n",
              "      <th>x42</th>\n",
              "      <th>x43</th>\n",
              "      <th>x44</th>\n",
              "      <th>x45</th>\n",
              "      <th>x46</th>\n",
              "      <th>x47</th>\n",
              "      <th>x48</th>\n",
              "      <th>x49</th>\n",
              "      <th>y</th>\n",
              "    </tr>\n",
              "  </thead>\n",
              "  <tbody>\n",
              "    <tr>\n",
              "      <th>count</th>\n",
              "      <td>159974.000000</td>\n",
              "      <td>159975.000000</td>\n",
              "      <td>159962.000000</td>\n",
              "      <td>159963.000000</td>\n",
              "      <td>159974.000000</td>\n",
              "      <td>159963.000000</td>\n",
              "      <td>159974.000000</td>\n",
              "      <td>159973.000000</td>\n",
              "      <td>159979.000000</td>\n",
              "      <td>159970.000000</td>\n",
              "      <td>159957.000000</td>\n",
              "      <td>159970.000000</td>\n",
              "      <td>159964.000000</td>\n",
              "      <td>159969.000000</td>\n",
              "      <td>159966.000000</td>\n",
              "      <td>159965.000000</td>\n",
              "      <td>159974.000000</td>\n",
              "      <td>159973.000000</td>\n",
              "      <td>159960.000000</td>\n",
              "      <td>159965.000000</td>\n",
              "      <td>159962.000000</td>\n",
              "      <td>159971.000000</td>\n",
              "      <td>159973.000000</td>\n",
              "      <td>159953.000000</td>\n",
              "      <td>159978.000000</td>\n",
              "      <td>159964.000000</td>\n",
              "      <td>159970.000000</td>\n",
              "      <td>159965.000000</td>\n",
              "      <td>159961.000000</td>\n",
              "      <td>159959.000000</td>\n",
              "      <td>159959.000000</td>\n",
              "      <td>159970.000000</td>\n",
              "      <td>159973.000000</td>\n",
              "      <td>159969.000000</td>\n",
              "      <td>159977.000000</td>\n",
              "      <td>159964.000000</td>\n",
              "      <td>159960.000000</td>\n",
              "      <td>159974.000000</td>\n",
              "      <td>159963.000000</td>\n",
              "      <td>159960.000000</td>\n",
              "      <td>159971.000000</td>\n",
              "      <td>159969.000000</td>\n",
              "      <td>159963.000000</td>\n",
              "      <td>159968.000000</td>\n",
              "      <td>159968.000000</td>\n",
              "      <td>160000.000000</td>\n",
              "    </tr>\n",
              "    <tr>\n",
              "      <th>mean</th>\n",
              "      <td>-0.001028</td>\n",
              "      <td>0.001358</td>\n",
              "      <td>-1.150145</td>\n",
              "      <td>-0.024637</td>\n",
              "      <td>-0.000549</td>\n",
              "      <td>0.013582</td>\n",
              "      <td>-1.670670</td>\n",
              "      <td>-7.692795</td>\n",
              "      <td>-0.030540</td>\n",
              "      <td>0.005462</td>\n",
              "      <td>0.002253</td>\n",
              "      <td>0.030232</td>\n",
              "      <td>-1.334402</td>\n",
              "      <td>0.007669</td>\n",
              "      <td>0.008104</td>\n",
              "      <td>0.001215</td>\n",
              "      <td>0.006223</td>\n",
              "      <td>0.012040</td>\n",
              "      <td>0.012694</td>\n",
              "      <td>0.024555</td>\n",
              "      <td>0.299074</td>\n",
              "      <td>-0.029137</td>\n",
              "      <td>0.008400</td>\n",
              "      <td>0.722028</td>\n",
              "      <td>-0.000806</td>\n",
              "      <td>-0.001066</td>\n",
              "      <td>-0.004159</td>\n",
              "      <td>0.031543</td>\n",
              "      <td>-0.005945</td>\n",
              "      <td>-0.006567</td>\n",
              "      <td>-0.000426</td>\n",
              "      <td>0.000936</td>\n",
              "      <td>0.006453</td>\n",
              "      <td>6.059130</td>\n",
              "      <td>0.004253</td>\n",
              "      <td>-2.316526</td>\n",
              "      <td>6.701076</td>\n",
              "      <td>-1.833820</td>\n",
              "      <td>-0.002091</td>\n",
              "      <td>-0.006250</td>\n",
              "      <td>0.000885</td>\n",
              "      <td>-12.755395</td>\n",
              "      <td>0.028622</td>\n",
              "      <td>-0.000224</td>\n",
              "      <td>-0.674224</td>\n",
              "      <td>0.401231</td>\n",
              "    </tr>\n",
              "    <tr>\n",
              "      <th>std</th>\n",
              "      <td>0.371137</td>\n",
              "      <td>6.340632</td>\n",
              "      <td>13.273480</td>\n",
              "      <td>8.065032</td>\n",
              "      <td>6.382293</td>\n",
              "      <td>7.670076</td>\n",
              "      <td>19.298665</td>\n",
              "      <td>30.542264</td>\n",
              "      <td>8.901185</td>\n",
              "      <td>6.355040</td>\n",
              "      <td>7.871429</td>\n",
              "      <td>8.769633</td>\n",
              "      <td>14.750990</td>\n",
              "      <td>8.953837</td>\n",
              "      <td>6.964097</td>\n",
              "      <td>3.271779</td>\n",
              "      <td>4.984065</td>\n",
              "      <td>7.569351</td>\n",
              "      <td>4.540714</td>\n",
              "      <td>7.595316</td>\n",
              "      <td>5.806203</td>\n",
              "      <td>9.409635</td>\n",
              "      <td>5.412010</td>\n",
              "      <td>14.909127</td>\n",
              "      <td>1.263656</td>\n",
              "      <td>0.843258</td>\n",
              "      <td>6.774047</td>\n",
              "      <td>14.439534</td>\n",
              "      <td>2.767508</td>\n",
              "      <td>1.747762</td>\n",
              "      <td>8.014180</td>\n",
              "      <td>2.379558</td>\n",
              "      <td>1.593183</td>\n",
              "      <td>16.891603</td>\n",
              "      <td>5.134322</td>\n",
              "      <td>17.043549</td>\n",
              "      <td>18.680196</td>\n",
              "      <td>5.110705</td>\n",
              "      <td>1.534952</td>\n",
              "      <td>4.164595</td>\n",
              "      <td>0.396621</td>\n",
              "      <td>36.608641</td>\n",
              "      <td>4.788157</td>\n",
              "      <td>1.935501</td>\n",
              "      <td>15.036738</td>\n",
              "      <td>0.490149</td>\n",
              "    </tr>\n",
              "    <tr>\n",
              "      <th>min</th>\n",
              "      <td>-1.592635</td>\n",
              "      <td>-26.278302</td>\n",
              "      <td>-59.394048</td>\n",
              "      <td>-35.476594</td>\n",
              "      <td>-28.467536</td>\n",
              "      <td>-33.822988</td>\n",
              "      <td>-86.354483</td>\n",
              "      <td>-181.506976</td>\n",
              "      <td>-37.691045</td>\n",
              "      <td>-27.980659</td>\n",
              "      <td>-36.306571</td>\n",
              "      <td>-38.092869</td>\n",
              "      <td>-64.197967</td>\n",
              "      <td>-38.723514</td>\n",
              "      <td>-30.905214</td>\n",
              "      <td>-17.002359</td>\n",
              "      <td>-26.042983</td>\n",
              "      <td>-34.395898</td>\n",
              "      <td>-20.198686</td>\n",
              "      <td>-35.633396</td>\n",
              "      <td>-26.677396</td>\n",
              "      <td>-43.501854</td>\n",
              "      <td>-23.644193</td>\n",
              "      <td>-66.640341</td>\n",
              "      <td>-6.364653</td>\n",
              "      <td>-3.857484</td>\n",
              "      <td>-32.003555</td>\n",
              "      <td>-72.896705</td>\n",
              "      <td>-12.289364</td>\n",
              "      <td>-7.451454</td>\n",
              "      <td>-36.116606</td>\n",
              "      <td>-10.008149</td>\n",
              "      <td>-6.866024</td>\n",
              "      <td>-74.297559</td>\n",
              "      <td>-22.101647</td>\n",
              "      <td>-74.059196</td>\n",
              "      <td>-82.167224</td>\n",
              "      <td>-27.933750</td>\n",
              "      <td>-6.876234</td>\n",
              "      <td>-17.983487</td>\n",
              "      <td>-1.753221</td>\n",
              "      <td>-201.826828</td>\n",
              "      <td>-21.086333</td>\n",
              "      <td>-8.490155</td>\n",
              "      <td>-65.791191</td>\n",
              "      <td>0.000000</td>\n",
              "    </tr>\n",
              "    <tr>\n",
              "      <th>25%</th>\n",
              "      <td>-0.251641</td>\n",
              "      <td>-4.260973</td>\n",
              "      <td>-10.166536</td>\n",
              "      <td>-5.454438</td>\n",
              "      <td>-4.313118</td>\n",
              "      <td>-5.148130</td>\n",
              "      <td>-14.780146</td>\n",
              "      <td>-27.324771</td>\n",
              "      <td>-6.031058</td>\n",
              "      <td>-4.260619</td>\n",
              "      <td>-5.288196</td>\n",
              "      <td>-5.903274</td>\n",
              "      <td>-11.379492</td>\n",
              "      <td>-6.029945</td>\n",
              "      <td>-4.696755</td>\n",
              "      <td>-2.207774</td>\n",
              "      <td>-3.344027</td>\n",
              "      <td>-5.071470</td>\n",
              "      <td>-3.056131</td>\n",
              "      <td>-5.101553</td>\n",
              "      <td>-3.607789</td>\n",
              "      <td>-6.361115</td>\n",
              "      <td>-3.649766</td>\n",
              "      <td>-9.268532</td>\n",
              "      <td>-0.852784</td>\n",
              "      <td>-0.567293</td>\n",
              "      <td>-4.597919</td>\n",
              "      <td>-9.702464</td>\n",
              "      <td>-1.874206</td>\n",
              "      <td>-1.183681</td>\n",
              "      <td>-5.401084</td>\n",
              "      <td>-1.610337</td>\n",
              "      <td>-1.068337</td>\n",
              "      <td>-5.249882</td>\n",
              "      <td>-3.458716</td>\n",
              "      <td>-13.953629</td>\n",
              "      <td>-5.804080</td>\n",
              "      <td>-5.162869</td>\n",
              "      <td>-1.039677</td>\n",
              "      <td>-2.812055</td>\n",
              "      <td>-0.266518</td>\n",
              "      <td>-36.428329</td>\n",
              "      <td>-3.216016</td>\n",
              "      <td>-1.320800</td>\n",
              "      <td>-10.931753</td>\n",
              "      <td>0.000000</td>\n",
              "    </tr>\n",
              "    <tr>\n",
              "      <th>50%</th>\n",
              "      <td>-0.002047</td>\n",
              "      <td>0.004813</td>\n",
              "      <td>-1.340932</td>\n",
              "      <td>-0.031408</td>\n",
              "      <td>0.000857</td>\n",
              "      <td>0.014118</td>\n",
              "      <td>-1.948594</td>\n",
              "      <td>-6.956789</td>\n",
              "      <td>-0.016840</td>\n",
              "      <td>0.006045</td>\n",
              "      <td>-0.018176</td>\n",
              "      <td>0.010941</td>\n",
              "      <td>-1.624439</td>\n",
              "      <td>-0.003473</td>\n",
              "      <td>0.002467</td>\n",
              "      <td>0.003535</td>\n",
              "      <td>0.012754</td>\n",
              "      <td>0.024541</td>\n",
              "      <td>0.015904</td>\n",
              "      <td>0.044703</td>\n",
              "      <td>0.433055</td>\n",
              "      <td>-0.026385</td>\n",
              "      <td>0.011144</td>\n",
              "      <td>1.029609</td>\n",
              "      <td>-0.003723</td>\n",
              "      <td>-0.001501</td>\n",
              "      <td>0.037138</td>\n",
              "      <td>0.244210</td>\n",
              "      <td>0.002013</td>\n",
              "      <td>-0.006079</td>\n",
              "      <td>-0.013089</td>\n",
              "      <td>-0.002399</td>\n",
              "      <td>0.003645</td>\n",
              "      <td>6.184410</td>\n",
              "      <td>0.019068</td>\n",
              "      <td>-2.701867</td>\n",
              "      <td>6.840110</td>\n",
              "      <td>-1.923754</td>\n",
              "      <td>-0.004385</td>\n",
              "      <td>-0.010484</td>\n",
              "      <td>0.001645</td>\n",
              "      <td>-12.982497</td>\n",
              "      <td>0.035865</td>\n",
              "      <td>-0.011993</td>\n",
              "      <td>-0.574410</td>\n",
              "      <td>0.000000</td>\n",
              "    </tr>\n",
              "    <tr>\n",
              "      <th>75%</th>\n",
              "      <td>0.248532</td>\n",
              "      <td>4.284220</td>\n",
              "      <td>7.871676</td>\n",
              "      <td>5.445179</td>\n",
              "      <td>4.306660</td>\n",
              "      <td>5.190749</td>\n",
              "      <td>11.446931</td>\n",
              "      <td>12.217071</td>\n",
              "      <td>5.972349</td>\n",
              "      <td>4.305734</td>\n",
              "      <td>5.331573</td>\n",
              "      <td>5.935032</td>\n",
              "      <td>8.374524</td>\n",
              "      <td>6.041959</td>\n",
              "      <td>4.701299</td>\n",
              "      <td>2.211660</td>\n",
              "      <td>3.366853</td>\n",
              "      <td>5.101962</td>\n",
              "      <td>3.073002</td>\n",
              "      <td>5.164732</td>\n",
              "      <td>4.306566</td>\n",
              "      <td>6.316457</td>\n",
              "      <td>3.672678</td>\n",
              "      <td>11.028035</td>\n",
              "      <td>0.851765</td>\n",
              "      <td>0.567406</td>\n",
              "      <td>4.649773</td>\n",
              "      <td>9.936995</td>\n",
              "      <td>1.856369</td>\n",
              "      <td>1.179460</td>\n",
              "      <td>5.411667</td>\n",
              "      <td>1.603089</td>\n",
              "      <td>1.079895</td>\n",
              "      <td>17.420148</td>\n",
              "      <td>3.463308</td>\n",
              "      <td>8.981616</td>\n",
              "      <td>19.266367</td>\n",
              "      <td>1.453507</td>\n",
              "      <td>1.033275</td>\n",
              "      <td>2.783274</td>\n",
              "      <td>0.269049</td>\n",
              "      <td>11.445443</td>\n",
              "      <td>3.268028</td>\n",
              "      <td>1.317703</td>\n",
              "      <td>9.651072</td>\n",
              "      <td>1.000000</td>\n",
              "    </tr>\n",
              "    <tr>\n",
              "      <th>max</th>\n",
              "      <td>1.600849</td>\n",
              "      <td>27.988178</td>\n",
              "      <td>63.545653</td>\n",
              "      <td>38.906025</td>\n",
              "      <td>26.247812</td>\n",
              "      <td>35.550110</td>\n",
              "      <td>92.390605</td>\n",
              "      <td>149.150634</td>\n",
              "      <td>39.049831</td>\n",
              "      <td>27.377842</td>\n",
              "      <td>37.945583</td>\n",
              "      <td>36.360443</td>\n",
              "      <td>73.279354</td>\n",
              "      <td>42.392177</td>\n",
              "      <td>32.546340</td>\n",
              "      <td>13.782559</td>\n",
              "      <td>21.961123</td>\n",
              "      <td>37.057048</td>\n",
              "      <td>19.652986</td>\n",
              "      <td>33.515550</td>\n",
              "      <td>27.814560</td>\n",
              "      <td>46.237503</td>\n",
              "      <td>24.863012</td>\n",
              "      <td>58.490500</td>\n",
              "      <td>5.314169</td>\n",
              "      <td>3.951652</td>\n",
              "      <td>28.645074</td>\n",
              "      <td>67.753845</td>\n",
              "      <td>12.279356</td>\n",
              "      <td>7.787120</td>\n",
              "      <td>34.841428</td>\n",
              "      <td>9.892426</td>\n",
              "      <td>6.999544</td>\n",
              "      <td>90.467981</td>\n",
              "      <td>21.545591</td>\n",
              "      <td>88.824477</td>\n",
              "      <td>100.050432</td>\n",
              "      <td>22.668041</td>\n",
              "      <td>6.680922</td>\n",
              "      <td>19.069759</td>\n",
              "      <td>1.669205</td>\n",
              "      <td>150.859415</td>\n",
              "      <td>20.836854</td>\n",
              "      <td>8.226552</td>\n",
              "      <td>66.877604</td>\n",
              "      <td>1.000000</td>\n",
              "    </tr>\n",
              "  </tbody>\n",
              "</table>\n",
              "</div>"
            ],
            "text/plain": [
              "                  x0             x1  ...            x49              y\n",
              "count  159974.000000  159975.000000  ...  159968.000000  160000.000000\n",
              "mean       -0.001028       0.001358  ...      -0.674224       0.401231\n",
              "std         0.371137       6.340632  ...      15.036738       0.490149\n",
              "min        -1.592635     -26.278302  ...     -65.791191       0.000000\n",
              "25%        -0.251641      -4.260973  ...     -10.931753       0.000000\n",
              "50%        -0.002047       0.004813  ...      -0.574410       0.000000\n",
              "75%         0.248532       4.284220  ...       9.651072       1.000000\n",
              "max         1.600849      27.988178  ...      66.877604       1.000000\n",
              "\n",
              "[8 rows x 46 columns]"
            ]
          },
          "metadata": {
            "tags": []
          },
          "execution_count": 6
        }
      ]
    },
    {
      "cell_type": "markdown",
      "metadata": {
        "id": "baGGVJkFPl5N"
      },
      "source": [
        "### 3.3 Data Variable Type Discovery"
      ]
    },
    {
      "cell_type": "code",
      "metadata": {
        "colab": {
          "base_uri": "https://localhost:8080/"
        },
        "id": "oMpGgCZlbLwF",
        "outputId": "cb86b99d-68e7-444b-e289-5a0c2de07d10"
      },
      "source": [
        "rawData.info()"
      ],
      "execution_count": null,
      "outputs": [
        {
          "output_type": "stream",
          "text": [
            "<class 'pandas.core.frame.DataFrame'>\n",
            "RangeIndex: 160000 entries, 0 to 159999\n",
            "Data columns (total 51 columns):\n",
            " #   Column  Non-Null Count   Dtype  \n",
            "---  ------  --------------   -----  \n",
            " 0   x0      159974 non-null  float64\n",
            " 1   x1      159975 non-null  float64\n",
            " 2   x2      159962 non-null  float64\n",
            " 3   x3      159963 non-null  float64\n",
            " 4   x4      159974 non-null  float64\n",
            " 5   x5      159963 non-null  float64\n",
            " 6   x6      159974 non-null  float64\n",
            " 7   x7      159973 non-null  float64\n",
            " 8   x8      159979 non-null  float64\n",
            " 9   x9      159970 non-null  float64\n",
            " 10  x10     159957 non-null  float64\n",
            " 11  x11     159970 non-null  float64\n",
            " 12  x12     159964 non-null  float64\n",
            " 13  x13     159969 non-null  float64\n",
            " 14  x14     159966 non-null  float64\n",
            " 15  x15     159965 non-null  float64\n",
            " 16  x16     159974 non-null  float64\n",
            " 17  x17     159973 non-null  float64\n",
            " 18  x18     159960 non-null  float64\n",
            " 19  x19     159965 non-null  float64\n",
            " 20  x20     159962 non-null  float64\n",
            " 21  x21     159971 non-null  float64\n",
            " 22  x22     159973 non-null  float64\n",
            " 23  x23     159953 non-null  float64\n",
            " 24  x24     159972 non-null  object \n",
            " 25  x25     159978 non-null  float64\n",
            " 26  x26     159964 non-null  float64\n",
            " 27  x27     159970 non-null  float64\n",
            " 28  x28     159965 non-null  float64\n",
            " 29  x29     159970 non-null  object \n",
            " 30  x30     159970 non-null  object \n",
            " 31  x31     159961 non-null  float64\n",
            " 32  x32     159969 non-null  object \n",
            " 33  x33     159959 non-null  float64\n",
            " 34  x34     159959 non-null  float64\n",
            " 35  x35     159970 non-null  float64\n",
            " 36  x36     159973 non-null  float64\n",
            " 37  x37     159977 non-null  object \n",
            " 38  x38     159969 non-null  float64\n",
            " 39  x39     159977 non-null  float64\n",
            " 40  x40     159964 non-null  float64\n",
            " 41  x41     159960 non-null  float64\n",
            " 42  x42     159974 non-null  float64\n",
            " 43  x43     159963 non-null  float64\n",
            " 44  x44     159960 non-null  float64\n",
            " 45  x45     159971 non-null  float64\n",
            " 46  x46     159969 non-null  float64\n",
            " 47  x47     159963 non-null  float64\n",
            " 48  x48     159968 non-null  float64\n",
            " 49  x49     159968 non-null  float64\n",
            " 50  y       160000 non-null  int64  \n",
            "dtypes: float64(45), int64(1), object(5)\n",
            "memory usage: 62.3+ MB\n"
          ],
          "name": "stdout"
        }
      ]
    },
    {
      "cell_type": "markdown",
      "metadata": {
        "id": "RuL_MllpiYT5"
      },
      "source": [
        "### 3.4 Correlation Heat Map for Multicolinearity Check"
      ]
    },
    {
      "cell_type": "code",
      "metadata": {
        "colab": {
          "base_uri": "https://localhost:8080/",
          "height": 578
        },
        "id": "TJwiTTAhWVVf",
        "outputId": "ec647892-20db-4afc-def1-41153dbba954"
      },
      "source": [
        "\n",
        "\n",
        "##Overall build a corr grid graphic\n",
        "#Build Correlation grid\n",
        "corr_chart = rawData.corr()\n",
        "# Generate a mask for the upper triangle\n",
        "mask = np.triu(np.ones_like(corr_chart, dtype=bool))\n",
        "# Set up the matplotlib figure\n",
        "f, ax = plt.subplots(figsize=(11, 9))\n",
        "# Generate a custom diverging colormap\n",
        "cmap = sns.diverging_palette(230, 20, as_cmap=True)\n",
        "ax.set_title(\"Correlation Plot of All Raw Variables\")\n",
        "# Draw the heatmap with the mask and correct aspect ratio\n",
        "sns.heatmap(corr_chart, mask=mask, cmap=cmap, vmax=.3, center=0,\n",
        "            square=True, linewidths=.5, cbar_kws={\"shrink\": .5})"
      ],
      "execution_count": null,
      "outputs": [
        {
          "output_type": "execute_result",
          "data": {
            "text/plain": [
              "<matplotlib.axes._subplots.AxesSubplot at 0x7fe04049ff50>"
            ]
          },
          "metadata": {
            "tags": []
          },
          "execution_count": 6
        },
        {
          "output_type": "display_data",
          "data": {
            "image/png": "[encoded data removed]",
            "text/plain": [
              "<Figure size 792x648 with 2 Axes>"
            ]
          },
          "metadata": {
            "tags": [],
            "needs_background": "light"
          }
        }
      ]
    },
    {
      "cell_type": "markdown",
      "metadata": {
        "id": "AZ82_v0GgNDU"
      },
      "source": [
        "### 3.5 Data Cleaning"
      ]
    },
    {
      "cell_type": "markdown",
      "metadata": {
        "id": "OzdwDt0IidJN"
      },
      "source": [
        "This data is overall quite clean with a few issues that require addressing. First we found a certain number of NA values appeared in the dataset. We found that those NA values could be eliminated with listwise deletion and only remove 1% of the dataset overall. With this minimal removal we chose to move forward with listwise deletion of NA values. \n",
        "\n",
        "We also found five features in our dataset that were not some float or integer data type for modeling. Two of those features had extraneous characters, the *%* and the *$* characters which required light cleaning to convert the features to numeric. The final three features were categorical describing the month, day of week and general geographic location. We one-hot encoded those categorical features to the inclusion of twenty additional variables. While we noted spelling errors in the categories, they were consistently misspelled and did not create issues with multiple columns reflecting the same categories. After this cleaning of features we had sixty seven features with which to build our model.\n"
      ]
    },
    {
      "cell_type": "code",
      "metadata": {
        "colab": {
          "base_uri": "https://localhost:8080/"
        },
        "id": "WOSx4naBX1V9",
        "outputId": "384cd045-b3d0-4ea1-c17a-7405745370a4"
      },
      "source": [
        "#Dropping NAs only costs about 1% of the data\n",
        "\n",
        "cleanData = rawData.dropna(axis = 0)\n",
        "cleanData.shape\n"
      ],
      "execution_count": null,
      "outputs": [
        {
          "output_type": "execute_result",
          "data": {
            "text/plain": [
              "(158392, 51)"
            ]
          },
          "metadata": {
            "tags": []
          },
          "execution_count": 7
        }
      ]
    },
    {
      "cell_type": "markdown",
      "metadata": {
        "id": "eTeMtlRAggSD"
      },
      "source": [
        "After exploration we found five columns that were not numerical, three were categorical and two were numerical columns with characters included. We will proceed with stripping the characters out of the last two and one-hot-encoding the first three. "
      ]
    },
    {
      "cell_type": "code",
      "metadata": {
        "colab": {
          "base_uri": "https://localhost:8080/"
        },
        "id": "9JXOiSFUYU5B",
        "outputId": "52d16aa8-087a-453f-8bc4-7e97e3e2202a"
      },
      "source": [
        "#Description of Non - Numeric Values\n",
        "print(\"X24 Levels: \",cleanData[\"x24\"].unique())\n",
        "print(\"X29 Levels: \",cleanData[\"x29\"].unique())\n",
        "print(\"X30 Levels: \",cleanData[\"x30\"].unique())\n",
        "\n",
        "#Exploration of Numeric values changed \n",
        "print(\"X32 Levels: \",cleanData[\"x32\"].unique())\n",
        "print(\"X37 Levels: \",cleanData[\"x37\"].unique())\n"
      ],
      "execution_count": null,
      "outputs": [
        {
          "output_type": "stream",
          "text": [
            "X24 Levels:  ['euorpe' 'asia' 'america']\n",
            "X29 Levels:  ['July' 'Aug' 'Jun' 'May' 'sept.' 'Apr' 'Nov' 'Oct' 'Mar' 'Feb' 'Dev'\n",
            " 'January']\n",
            "X30 Levels:  ['tuesday' 'wednesday' 'thurday' 'monday' 'friday']\n",
            "X32 Levels:  ['0.0%' '-0.02%' '-0.01%' '0.01%' '-0.03%' '0.02%' '-0.0%' '-0.04%'\n",
            " '0.03%' '0.04%' '-0.05%' '0.05%']\n",
            "X37 Levels:  ['$1313.96' '$1962.78' '$430.47' ... '$1588.65' '$439.21' '$-1229.34']\n"
          ],
          "name": "stdout"
        }
      ]
    },
    {
      "cell_type": "code",
      "metadata": {
        "colab": {
          "base_uri": "https://localhost:8080/"
        },
        "id": "3XoacdWiZYlh",
        "outputId": "f3aa31be-f10c-4f50-cf2f-15a5f8b7039d"
      },
      "source": [
        "#Stripping Extra Characters\n",
        "#Ignore or clear warnings\n",
        "cleanData['x32'] = cleanData['x32'].astype(str).str.replace('%','').astype('float64')\n",
        "cleanData['x37'] = cleanData['x37'].astype(str).str.replace('$','').astype('float64')"
      ],
      "execution_count": null,
      "outputs": [
        {
          "output_type": "stream",
          "text": [
            "/usr/local/lib/python3.7/dist-packages/ipykernel_launcher.py:3: SettingWithCopyWarning: \n",
            "A value is trying to be set on a copy of a slice from a DataFrame.\n",
            "Try using .loc[row_indexer,col_indexer] = value instead\n",
            "\n",
            "See the caveats in the documentation: https://pandas.pydata.org/pandas-docs/stable/user_guide/indexing.html#returning-a-view-versus-a-copy\n",
            "  This is separate from the ipykernel package so we can avoid doing imports until\n",
            "/usr/local/lib/python3.7/dist-packages/ipykernel_launcher.py:4: SettingWithCopyWarning: \n",
            "A value is trying to be set on a copy of a slice from a DataFrame.\n",
            "Try using .loc[row_indexer,col_indexer] = value instead\n",
            "\n",
            "See the caveats in the documentation: https://pandas.pydata.org/pandas-docs/stable/user_guide/indexing.html#returning-a-view-versus-a-copy\n",
            "  after removing the cwd from sys.path.\n"
          ],
          "name": "stderr"
        }
      ]
    },
    {
      "cell_type": "code",
      "metadata": {
        "colab": {
          "base_uri": "https://localhost:8080/"
        },
        "id": "lAjVGac6fued",
        "outputId": "eddd1ad2-6a95-4130-fbbc-fee4b8b115ef"
      },
      "source": [
        "#Variables no longer show $ or % characters and are floats.\n",
        "print(\"X32 Levels: \",cleanData[\"x32\"].unique())\n",
        "print(\"X37 Levels: \",cleanData[\"x37\"].unique())\n"
      ],
      "execution_count": null,
      "outputs": [
        {
          "output_type": "stream",
          "text": [
            "X32 Levels:  [ 0.   -0.02 -0.01  0.01 -0.03  0.02 -0.04  0.03  0.04 -0.05  0.05]\n",
            "X37 Levels:  [ 1313.96  1962.78   430.47 ...  1588.65   439.21 -1229.34]\n"
          ],
          "name": "stdout"
        }
      ]
    },
    {
      "cell_type": "code",
      "metadata": {
        "id": "RHR4GqSDhOf3"
      },
      "source": [
        "one_hot_encoded_cols = ['x24','x29','x30']\n",
        "\n",
        "for col in one_hot_encoded_cols:\n",
        "  cleanData = pd.concat([cleanData,pd.get_dummies(cleanData[col], prefix = str(col))],axis=1)\n",
        "\n",
        "cleanData = cleanData.drop(one_hot_encoded_cols, axis = 1)"
      ],
      "execution_count": null,
      "outputs": []
    },
    {
      "cell_type": "markdown",
      "metadata": {
        "id": "h8G5q1rEP3Zw"
      },
      "source": [
        "### 3.6 Correlation Heat Map to Display One Hot Encodings"
      ]
    },
    {
      "cell_type": "code",
      "metadata": {
        "colab": {
          "base_uri": "https://localhost:8080/",
          "height": 623
        },
        "id": "jQXhIhdrh4b0",
        "outputId": "8d6cebf4-1f48-4ab4-d0fb-d08a2a879aaf"
      },
      "source": [
        "\n",
        "##Overall build a corr grid graphic w/ one hot encodings\n",
        "#NOTE : Chart is too small to have all labeled variables. \n",
        "#Build Correlation grid\n",
        "corr_chart_clean = cleanData.corr()\n",
        "# Generate a mask for the upper triangle\n",
        "mask = np.triu(np.ones_like(corr_chart_clean, dtype=bool))\n",
        "# Set up the matplotlib figure\n",
        "f, ax = plt.subplots(figsize=(11, 9))\n",
        "# Generate a custom diverging colormap\n",
        "cmap = sns.diverging_palette(230, 20, as_cmap=True)\n",
        "ax.set_title(\"Correlation Plot of All Cleaned and Encoded Variables\")\n",
        "\n",
        "\n",
        "# Draw the heatmap with the mask and correct aspect ratio\n",
        "sns.heatmap(corr_chart_clean, mask=mask, cmap=cmap, vmax=.3, center=0,\n",
        "            square=True, linewidths=.5, cbar_kws={\"shrink\": .5})"
      ],
      "execution_count": null,
      "outputs": [
        {
          "output_type": "execute_result",
          "data": {
            "text/plain": [
              "<matplotlib.axes._subplots.AxesSubplot at 0x7fe03f7f1b50>"
            ]
          },
          "metadata": {
            "tags": []
          },
          "execution_count": 10
        },
        {
          "output_type": "display_data",
          "data": {
            "image/png": "[encoded data removed]",
            "text/plain": [
              "<Figure size 792x648 with 2 Axes>"
            ]
          },
          "metadata": {
            "tags": [],
            "needs_background": "light"
          }
        }
      ]
    },
    {
      "cell_type": "markdown",
      "metadata": {
        "id": "CyzGYz2Ob3jO"
      },
      "source": [
        "## 4 Model Building"
      ]
    },
    {
      "cell_type": "markdown",
      "metadata": {
        "id": "vtpzM90Yr9N9"
      },
      "source": [
        "In order to begin training of all of our models we built a train and test split that gave us access to a validation set to test and predict tuned models on. This validation set is in addition to a five fold cross validation being performed for each model hyperparameter tuning grid search. \n",
        "\n",
        "For use in each model we also created and tuned to a scorer using precision as our model metric of choice. We chose to use precision over recall or accuracy because it includes a measure of false positives, which is the more heavily penalized misclassification category in terms of monetary losses. With models tuned towards precision, we expect our dollar loss through incorrect classifications to be minimized. \n"
      ]
    },
    {
      "cell_type": "code",
      "metadata": {
        "id": "H4SW9ucbxybP"
      },
      "source": [
        "from sklearn.model_selection import train_test_split\n",
        "\n",
        "target = cleanData['y']\n",
        "cleanData = cleanData.drop('y', axis = 1)\n",
        "\n",
        "X_train, X_test, y_train, y_test = train_test_split(cleanData,\n",
        "                                                    target,\n",
        "                                                    test_size=0.1,\n",
        "                                                    random_state=72)"
      ],
      "execution_count": null,
      "outputs": []
    },
    {
      "cell_type": "code",
      "metadata": {
        "colab": {
          "base_uri": "https://localhost:8080/"
        },
        "id": "55r9FNmVyS-r",
        "outputId": "3394ae7d-ff82-434f-8ca5-b1e7b82a69b0"
      },
      "source": [
        "X_train.shape"
      ],
      "execution_count": null,
      "outputs": [
        {
          "output_type": "execute_result",
          "data": {
            "text/plain": [
              "(142552, 67)"
            ]
          },
          "metadata": {
            "tags": []
          },
          "execution_count": 12
        }
      ]
    },
    {
      "cell_type": "code",
      "metadata": {
        "id": "hWz8WH98CyEQ"
      },
      "source": [
        "#make scorer and bring in metrics to use later\n",
        "from sklearn.metrics import precision_score, make_scorer, recall_score, confusion_matrix, accuracy_score\n",
        "\n",
        "fp_scorer = make_scorer(precision_score)\n",
        "\n",
        "accuracy_scorer = make_scorer(accuracy_score)"
      ],
      "execution_count": null,
      "outputs": []
    },
    {
      "cell_type": "markdown",
      "metadata": {
        "id": "lCf9kcy0cQ1O"
      },
      "source": [
        "### 4.1 Random Forest"
      ]
    },
    {
      "cell_type": "markdown",
      "metadata": {
        "id": "YeEjLjW0tEjw"
      },
      "source": [
        "A Random Forest model is the initial model we used to predict the unknown values for our target variable. The Random Forest model is considered a bootstrap tree-based model and uses an ensembling technique with simplistic learning decisions. These models are often described as easy to overfit but are also highly reliable. This means it is a good starting point for us to get an idea of what the classification prediction will look like for our models. Additionally, giving us our first look into what the monetary loss level will be for the models. Tunnig for precision below are our hyperparameter settings for our final Random Forest model fit.\n",
        "#### Table 4.1.1: Random Forest Hyperparameter Definitions\n",
        " \n",
        "|Hyperparameter|Controls|\n",
        "|--|:--|\n",
        "|n_estimators|Specifies the number of trees in the forest of the model.|\n",
        "|min_samples_leaf|Specifies the minimum number of samples required to be at a leaf node.|\n",
        "|min_samples_split|Specifies the minimum number of samples required to split an internal leaf node.|\n",
        "|Max_Depth|Specifies the maximum depth of each tree.|"
      ]
    },
    {
      "cell_type": "markdown",
      "metadata": {
        "id": "jcdPT8kGiELC"
      },
      "source": [
        "#### Table 4.1.2: Random Forest Hyperparameter Settings\n",
        " \n",
        "|Hyperparameter|Range|Final Value|\n",
        "|--|:--|:--|\n",
        "|n_estimators|50,100,150|100|\n",
        "|min_samples_leaf|5,10|2|\n",
        "|min_samples_split|2, 5, 10|5|\n",
        "|Max_Depth|1, 2, 5|10|"
      ]
    },
    {
      "cell_type": "code",
      "metadata": {
        "colab": {
          "base_uri": "https://localhost:8080/"
        },
        "id": "PxKQFlBGwR1A",
        "outputId": "a0a7bec9-773a-41e5-a45f-da0f116f8cdd"
      },
      "source": [
        "%%time\n",
        "from sklearn.ensemble import RandomForestClassifier\n",
        "from sklearn.model_selection import GridSearchCV\n",
        "\n",
        "\n",
        "n_estimators = [50,100,150]\n",
        "max_depth = [5,10]\n",
        "min_samples_split = [2, 5, 10]\n",
        "min_samples_leaf = [1, 2, 5] \n",
        "\n",
        "\n",
        "hyperparams = dict(n_estimators = n_estimators, max_depth = max_depth,  \n",
        "              min_samples_split = min_samples_split, \n",
        "             min_samples_leaf = min_samples_leaf)\n",
        "rf = RandomForestClassifier()\n",
        "gridF = GridSearchCV(rf, hyperparams, scoring = fp_scorer,\n",
        "                     cv = 5, verbose = 10,  n_jobs = -1)\n",
        "bestrf = gridF.fit(X_train, y_train)\n",
        "#2.3 min one iteration w/ 5 cv"
      ],
      "execution_count": null,
      "outputs": [
        {
          "output_type": "stream",
          "text": [
            "Fitting 5 folds for each of 54 candidates, totalling 270 fits\n"
          ],
          "name": "stdout"
        },
        {
          "output_type": "stream",
          "text": [
            "[Parallel(n_jobs=-1)]: Using backend LokyBackend with 2 concurrent workers.\n",
            "[Parallel(n_jobs=-1)]: Done   1 tasks      | elapsed:   29.6s\n",
            "[Parallel(n_jobs=-1)]: Done   4 tasks      | elapsed:   60.0s\n",
            "[Parallel(n_jobs=-1)]: Done   9 tasks      | elapsed:  3.5min\n",
            "[Parallel(n_jobs=-1)]: Done  14 tasks      | elapsed:  6.9min\n",
            "[Parallel(n_jobs=-1)]: Done  21 tasks      | elapsed:  9.4min\n",
            "[Parallel(n_jobs=-1)]: Done  28 tasks      | elapsed: 13.9min\n",
            "[Parallel(n_jobs=-1)]: Done  37 tasks      | elapsed: 17.2min\n",
            "[Parallel(n_jobs=-1)]: Done  46 tasks      | elapsed: 22.5min\n",
            "[Parallel(n_jobs=-1)]: Done  57 tasks      | elapsed: 27.3min\n",
            "[Parallel(n_jobs=-1)]: Done  68 tasks      | elapsed: 32.4min\n",
            "[Parallel(n_jobs=-1)]: Done  81 tasks      | elapsed: 39.7min\n",
            "[Parallel(n_jobs=-1)]: Done  94 tasks      | elapsed: 46.8min\n",
            "[Parallel(n_jobs=-1)]: Done 109 tasks      | elapsed: 54.7min\n",
            "[Parallel(n_jobs=-1)]: Done 124 tasks      | elapsed: 62.9min\n",
            "[Parallel(n_jobs=-1)]: Done 141 tasks      | elapsed: 73.4min\n",
            "[Parallel(n_jobs=-1)]: Done 158 tasks      | elapsed: 88.2min\n",
            "[Parallel(n_jobs=-1)]: Done 177 tasks      | elapsed: 106.4min\n",
            "[Parallel(n_jobs=-1)]: Done 196 tasks      | elapsed: 124.2min\n",
            "[Parallel(n_jobs=-1)]: Done 217 tasks      | elapsed: 141.4min\n",
            "[Parallel(n_jobs=-1)]: Done 238 tasks      | elapsed: 161.9min\n",
            "[Parallel(n_jobs=-1)]: Done 261 tasks      | elapsed: 180.3min\n",
            "[Parallel(n_jobs=-1)]: Done 270 out of 270 | elapsed: 189.9min finished\n"
          ],
          "name": "stderr"
        },
        {
          "output_type": "stream",
          "text": [
            "CPU times: user 2min 34s, sys: 6.8 s, total: 2min 41s\n",
            "Wall time: 3h 11min 29s\n"
          ],
          "name": "stdout"
        }
      ]
    },
    {
      "cell_type": "code",
      "metadata": {
        "colab": {
          "base_uri": "https://localhost:8080/"
        },
        "id": "_UGKmfAQ0r2M",
        "outputId": "6e784eda-3e4a-45f9-eef9-3a1a912ec6c7"
      },
      "source": [
        "bestrf"
      ],
      "execution_count": null,
      "outputs": [
        {
          "output_type": "execute_result",
          "data": {
            "text/plain": [
              "GridSearchCV(cv=5, error_score=nan,\n",
              "             estimator=RandomForestClassifier(bootstrap=True, ccp_alpha=0.0,\n",
              "                                              class_weight=None,\n",
              "                                              criterion='gini', max_depth=None,\n",
              "                                              max_features='auto',\n",
              "                                              max_leaf_nodes=None,\n",
              "                                              max_samples=None,\n",
              "                                              min_impurity_decrease=0.0,\n",
              "                                              min_impurity_split=None,\n",
              "                                              min_samples_leaf=1,\n",
              "                                              min_samples_split=2,\n",
              "                                              min_weight_fraction_leaf=0.0,\n",
              "                                              n_estimators=100, n_jobs=None,\n",
              "                                              oob_score=False,\n",
              "                                              random_state=None, verbose=0,\n",
              "                                              warm_start=False),\n",
              "             iid='deprecated', n_jobs=-1,\n",
              "             param_grid={'max_depth': [5, 10], 'min_samples_leaf': [1, 2, 5],\n",
              "                         'min_samples_split': [2, 5, 10],\n",
              "                         'n_estimators': [50, 100, 150]},\n",
              "             pre_dispatch='2*n_jobs', refit=True, return_train_score=False,\n",
              "             scoring=make_scorer(precision_score), verbose=10)"
            ]
          },
          "metadata": {
            "tags": []
          },
          "execution_count": 30
        }
      ]
    },
    {
      "cell_type": "code",
      "metadata": {
        "colab": {
          "base_uri": "https://localhost:8080/"
        },
        "id": "bVtO-WdDD8gg",
        "outputId": "61c238f8-5b1b-4646-af07-870411a77c02"
      },
      "source": [
        "bestrf.best_params_\n",
        "\n",
        "best_rf_parameters = ['max_depth': 10,\n",
        " 'min_samples_leaf': 2,\n",
        " 'min_samples_split': 5,\n",
        " 'n_estimators': 100]\n",
        "\n",
        " full_rf_estimator = RandomForestClassifier(bootstrap=True, ccp_alpha=0.0, class_weight=None,\n",
        "                       criterion='gini', max_depth=10, max_features='auto',\n",
        "                       max_leaf_nodes=None, max_samples=None,\n",
        "                       min_impurity_decrease=0.0, min_impurity_split=None,\n",
        "                       min_samples_leaf=2, min_samples_split=5,\n",
        "                       min_weight_fraction_leaf=0.0, n_estimators=100,\n",
        "                       n_jobs=None, oob_score=False, random_state=None,\n",
        "                       verbose=0, warm_start=False)\n"
      ],
      "execution_count": null,
      "outputs": [
        {
          "output_type": "execute_result",
          "data": {
            "text/plain": [
              "{'max_depth': 10,\n",
              " 'min_samples_leaf': 2,\n",
              " 'min_samples_split': 5,\n",
              " 'n_estimators': 100}"
            ]
          },
          "metadata": {
            "tags": []
          },
          "execution_count": 32
        }
      ]
    },
    {
      "cell_type": "code",
      "metadata": {
        "colab": {
          "base_uri": "https://localhost:8080/"
        },
        "id": "pYYMpWDZEP7F",
        "outputId": "7a14aba5-3a4e-4062-8de8-855523a6e8bf"
      },
      "source": [
        "bestrf.best_score_"
      ],
      "execution_count": null,
      "outputs": [
        {
          "output_type": "execute_result",
          "data": {
            "text/plain": [
              "0.9044173870199999"
            ]
          },
          "metadata": {
            "tags": []
          },
          "execution_count": 34
        }
      ]
    },
    {
      "cell_type": "markdown",
      "metadata": {
        "id": "N33D9GNeOuvf"
      },
      "source": [
        "#### Final Random Forest Fit and Prediction"
      ]
    },
    {
      "cell_type": "code",
      "metadata": {
        "id": "Rbd6wUEZEQAq"
      },
      "source": [
        "from sklearn.ensemble import RandomForestClassifier\n",
        "\n",
        "\n",
        "'''best_rf_parameters = ['max_depth': 10,\n",
        " 'min_samples_leaf': 2,\n",
        " 'min_samples_split': 5,\n",
        " 'n_estimators': 100]'''\n",
        "\n",
        "rfbest = RandomForestClassifier(max_depth = 10, min_samples_leaf = 2,\n",
        "                                min_samples_split = 5, n_estimators = 100)\n",
        "rfbest.fit(X_train, y_train)\n",
        "rf_preds = rfbest.predict(X_test)"
      ],
      "execution_count": null,
      "outputs": []
    },
    {
      "cell_type": "markdown",
      "metadata": {
        "id": "WvUC9uPsQMy7"
      },
      "source": [
        "##### Random Forest Precision & Confusion Matrix"
      ]
    },
    {
      "cell_type": "code",
      "metadata": {
        "colab": {
          "base_uri": "https://localhost:8080/"
        },
        "id": "oiA2xlfTP92Y",
        "outputId": "610b13bf-ebb8-418c-b6d6-76fe3dc3871a"
      },
      "source": [
        "\n",
        "print(\"Accuracy: \", accuracy_score(y_test,rf_preds))\n",
        "print(\"Precision: \", precision_score(y_test,rf_preds))\n",
        "print(\"Recall: \", recall_score(y_test,rf_preds))\n",
        "print(\"Confusion Matrix: \", confusion_matrix(y_test, rf_preds))"
      ],
      "execution_count": null,
      "outputs": [
        {
          "output_type": "stream",
          "text": [
            "Accuracy:  0.8734217171717171\n",
            "Precision:  0.9201513718070009\n",
            "Recall:  0.7544213465715173\n",
            "Confusion Matrix:  [[8972  422]\n",
            " [1583 4863]]\n"
          ],
          "name": "stdout"
        }
      ]
    },
    {
      "cell_type": "markdown",
      "metadata": {
        "id": "VlAOR1uxQeYL"
      },
      "source": [
        "##### Random Forest Monetary Loss"
      ]
    },
    {
      "cell_type": "code",
      "metadata": {
        "colab": {
          "base_uri": "https://localhost:8080/"
        },
        "id": "HbMorbd0QcvN",
        "outputId": "0caa0f59-625f-4837-8569-8cea9f290022"
      },
      "source": [
        "tn, fp, fn, tp = confusion_matrix(y_test, rf_preds).ravel()\n",
        "print(\"False Positives: \", fp)\n",
        "print(\"False Negatives: \", fn)\n",
        "dollars = (225 * fp) + (35 * fn)\n",
        "print(\"Dollars Lost: $\", dollars , \" for \", len(y_test), \" predictions.\")"
      ],
      "execution_count": null,
      "outputs": [
        {
          "output_type": "stream",
          "text": [
            "False Positives:  422\n",
            "False Negatives:  1583\n",
            "Dollars Lost: $ 150355  for  15840  predictions.\n"
          ],
          "name": "stdout"
        }
      ]
    },
    {
      "cell_type": "markdown",
      "metadata": {
        "id": "IBX6IzvTcTis"
      },
      "source": [
        "\n",
        "\n",
        "### 4.2 Regularized Logistic Regression"
      ]
    },
    {
      "cell_type": "markdown",
      "metadata": {
        "id": "ePTenbcmvazF"
      },
      "source": [
        "In this model we used a Logistic Regression model with Elastic Net tuning to prevent overfitting. This was built with the SGDClassifier tool in sklearn and used logistic regression as an objective function to optimize. Like other models we tuned with a scorer of precision. In order to prevent overfitting we used an option of L1 to L2 ratios with several levels of alpha for the ratio itself. The best values found was an L1 ratio of .7, which brings the ratio closer to L2 regularization with a large alpha of .05. Despite the tuning this model performed worse than our other options we have available but is incredibly fast to build. \n"
      ]
    },
    {
      "cell_type": "markdown",
      "metadata": {
        "id": "4WXssMzmwBn_"
      },
      "source": [
        "#### Table 4.1.1: Logistic Regression Hyperparameter Definitions\n",
        " \n",
        "|Hyperparameter|Controls|\n",
        "|--|:--|\n",
        "|alpha|Specifies the constant that multiplies the regularization term. Commonly also know as lambda.|\n",
        "|l1_ratio|Specifies the ratio for L1 to L2 regularization.|"
      ]
    },
    {
      "cell_type": "markdown",
      "metadata": {
        "id": "CG7HmBmpiIQn"
      },
      "source": [
        "#### Table 4.1.2: Logistic Regression Hyperparameter Settings\n",
        " \n",
        "|Hyperparameter|Range|Final Value|\n",
        "|--|:--|:--|\n",
        "|alpha|.1,.05,.01,.005,.0001|.05|\n",
        "|l1_ratio| .1, .5, .7, .9, .95, 1|1|"
      ]
    },
    {
      "cell_type": "code",
      "metadata": {
        "id": "6gK2Fgm8ca3k",
        "colab": {
          "base_uri": "https://localhost:8080/"
        },
        "outputId": "28d009e1-694a-4441-cb07-f4cc882f401e"
      },
      "source": [
        "from sklearn.linear_model import SGDClassifier\n",
        "from sklearn.model_selection import GridSearchCV\n",
        "\n",
        "loss = ['log']\n",
        "penalty = ['elasticnet']\n",
        "l1_ratio = [.1, .5, .7, .9, .95, 1]\n",
        "alpha = [.1,.05,.01,.005,.0001]\n",
        "warm_start = ['True']\n",
        "\n",
        "hyperparams = dict(l1_ratio = l1_ratio, alpha = alpha)\n",
        "logit = SGDClassifier()\n",
        "gridlog = GridSearchCV(logit, hyperparams, cv = 5, scoring = fp_scorer,\n",
        "                       verbose = 10,  n_jobs = -1)\n",
        "bestlog = gridlog.fit(X_train, y_train)"
      ],
      "execution_count": null,
      "outputs": [
        {
          "output_type": "stream",
          "text": [
            "Fitting 5 folds for each of 30 candidates, totalling 150 fits\n"
          ],
          "name": "stdout"
        },
        {
          "output_type": "stream",
          "text": [
            "[Parallel(n_jobs=-1)]: Using backend LokyBackend with 2 concurrent workers.\n",
            "[Parallel(n_jobs=-1)]: Done   1 tasks      | elapsed:   10.5s\n",
            "[Parallel(n_jobs=-1)]: Done   4 tasks      | elapsed:   20.7s\n",
            "[Parallel(n_jobs=-1)]: Done   9 tasks      | elapsed:   49.4s\n",
            "[Parallel(n_jobs=-1)]: Done  14 tasks      | elapsed:  1.2min\n",
            "[Parallel(n_jobs=-1)]: Done  21 tasks      | elapsed:  1.7min\n",
            "[Parallel(n_jobs=-1)]: Done  28 tasks      | elapsed:  2.2min\n",
            "[Parallel(n_jobs=-1)]: Done  37 tasks      | elapsed:  3.2min\n",
            "[Parallel(n_jobs=-1)]: Done  46 tasks      | elapsed:  4.0min\n",
            "[Parallel(n_jobs=-1)]: Done  57 tasks      | elapsed:  5.1min\n",
            "[Parallel(n_jobs=-1)]: Done  68 tasks      | elapsed:  6.5min\n",
            "[Parallel(n_jobs=-1)]: Done  81 tasks      | elapsed:  8.6min\n",
            "[Parallel(n_jobs=-1)]: Done  94 tasks      | elapsed: 10.5min\n",
            "[Parallel(n_jobs=-1)]: Done 109 tasks      | elapsed: 13.0min\n",
            "[Parallel(n_jobs=-1)]: Done 124 tasks      | elapsed: 15.6min\n",
            "[Parallel(n_jobs=-1)]: Done 141 tasks      | elapsed: 18.5min\n",
            "[Parallel(n_jobs=-1)]: Done 150 out of 150 | elapsed: 19.9min finished\n"
          ],
          "name": "stderr"
        }
      ]
    },
    {
      "cell_type": "code",
      "metadata": {
        "colab": {
          "base_uri": "https://localhost:8080/"
        },
        "id": "7xqTPsh1R26N",
        "outputId": "958c1d45-c489-4a81-e6c1-d3c9be0a3ff0"
      },
      "source": [
        "bestlog"
      ],
      "execution_count": null,
      "outputs": [
        {
          "output_type": "execute_result",
          "data": {
            "text/plain": [
              "GridSearchCV(cv=5, error_score=nan,\n",
              "             estimator=SGDClassifier(alpha=0.0001, average=False,\n",
              "                                     class_weight=None, early_stopping=False,\n",
              "                                     epsilon=0.1, eta0=0.0, fit_intercept=True,\n",
              "                                     l1_ratio=0.15, learning_rate='optimal',\n",
              "                                     loss='hinge', max_iter=1000,\n",
              "                                     n_iter_no_change=5, n_jobs=None,\n",
              "                                     penalty='l2', power_t=0.5,\n",
              "                                     random_state=None, shuffle=True, tol=0.001,\n",
              "                                     validation_fraction=0.1, verbose=0,\n",
              "                                     warm_start=False),\n",
              "             iid='deprecated', n_jobs=-1,\n",
              "             param_grid={'alpha': [0.1, 0.05, 0.01, 0.005, 0.0001],\n",
              "                         'l1_ratio': [0.1, 0.5, 0.7, 0.9, 0.95, 1]},\n",
              "             pre_dispatch='2*n_jobs', refit=True, return_train_score=False,\n",
              "             scoring=make_scorer(precision_score), verbose=10)"
            ]
          },
          "metadata": {
            "tags": []
          },
          "execution_count": 14
        }
      ]
    },
    {
      "cell_type": "code",
      "metadata": {
        "colab": {
          "base_uri": "https://localhost:8080/"
        },
        "id": "-c-7wak4Rv6z",
        "outputId": "2fa5e6f0-cd02-4b59-b2a5-601979ccded9"
      },
      "source": [
        "final = {'alpha': 0.1, 'l1_ratio': 0.7}\n",
        "bestlog.best_params_\n"
      ],
      "execution_count": null,
      "outputs": [
        {
          "output_type": "execute_result",
          "data": {
            "text/plain": [
              "{'alpha': 0.1, 'l1_ratio': 0.7}"
            ]
          },
          "metadata": {
            "tags": []
          },
          "execution_count": 16
        }
      ]
    },
    {
      "cell_type": "code",
      "metadata": {
        "colab": {
          "base_uri": "https://localhost:8080/"
        },
        "id": "M-5_VjbNR622",
        "outputId": "a0e41068-5762-4461-bc1c-47d3434e1064"
      },
      "source": [
        "bestlog.best_score_"
      ],
      "execution_count": null,
      "outputs": [
        {
          "output_type": "execute_result",
          "data": {
            "text/plain": [
              "0.6795297879896744"
            ]
          },
          "metadata": {
            "tags": []
          },
          "execution_count": 17
        }
      ]
    },
    {
      "cell_type": "markdown",
      "metadata": {
        "id": "q8N7w3aTTV2U"
      },
      "source": [
        "#### Final Logistic Regression Fit and Prediction"
      ]
    },
    {
      "cell_type": "code",
      "metadata": {
        "id": "eUeR_mlfR7CA"
      },
      "source": [
        "from sklearn.linear_model import SGDClassifier\n",
        "\n",
        "\n",
        "logbest = SGDClassifier(alpha = .05, l1_ratio = .71)\n",
        "logbest.fit(X_train, y_train)\n",
        "log_preds = logbest.predict(X_test)"
      ],
      "execution_count": null,
      "outputs": []
    },
    {
      "cell_type": "markdown",
      "metadata": {
        "id": "Qs1c266HQX1c"
      },
      "source": [
        "##### Logistic Regression Precision & Confusion Matrix"
      ]
    },
    {
      "cell_type": "code",
      "metadata": {
        "colab": {
          "base_uri": "https://localhost:8080/"
        },
        "id": "gTx6cHbmTqYy",
        "outputId": "094a8f4d-f800-4aee-c1ae-8f0c3b9a2f58"
      },
      "source": [
        "\n",
        "print(\"Accuracy: \", accuracy_score(y_test,log_preds))\n",
        "print(\"Precision: \", precision_score(y_test,log_preds))\n",
        "print(\"Recall: \", recall_score(y_test,log_preds))\n",
        "print(\"Confusion Matrix: \", confusion_matrix(y_test, log_preds))"
      ],
      "execution_count": null,
      "outputs": [
        {
          "output_type": "stream",
          "text": [
            "Accuracy:  0.6875\n",
            "Precision:  0.6657066902968543\n",
            "Recall:  0.46618057710207883\n",
            "Confusion Matrix:  [[7885 1509]\n",
            " [3441 3005]]\n"
          ],
          "name": "stdout"
        }
      ]
    },
    {
      "cell_type": "markdown",
      "metadata": {
        "id": "RuvT9BLvQbFE"
      },
      "source": [
        "##### Logistic Regression Monetary Loss"
      ]
    },
    {
      "cell_type": "code",
      "metadata": {
        "colab": {
          "base_uri": "https://localhost:8080/"
        },
        "id": "471S6ZjoTrMs",
        "outputId": "ad95aa77-e4f9-41a8-e905-9c82aefd9e2c"
      },
      "source": [
        "tn, fp, fn, tp = confusion_matrix(y_test, log_preds).ravel()\n",
        "print(\"False Positives: \", fp)\n",
        "print(\"False Negatives: \", fn)\n",
        "dollars = (225 * fp) + (35 * fn)\n",
        "print(\"Dollars Lost: $\", dollars , \" for \", len(y_test), \" predictions.\")"
      ],
      "execution_count": null,
      "outputs": [
        {
          "output_type": "stream",
          "text": [
            "False Positives:  1509\n",
            "False Negatives:  3441\n",
            "Dollars Lost: $ 459960  for  15840  predictions.\n"
          ],
          "name": "stdout"
        }
      ]
    },
    {
      "cell_type": "markdown",
      "metadata": {
        "id": "N02dhKTpcbLj"
      },
      "source": [
        "### 4.3 XGBoost\n",
        "\n"
      ]
    },
    {
      "cell_type": "markdown",
      "metadata": {
        "id": "lF4Wxv2qgQcS"
      },
      "source": [
        "The XGBoost, or eXtreme Gradient Boosting model, is a sophisticated algorithm that works well with unknown data. It is important for these more advanced machine learning tools to be tuned properly in order to allow for the algorithm to work correctly. _Table 4.3.1_ contains those hyperparameters and what they help control in this model. _Table 4.3.2_ contains those hyperparameters setting that were identified to use through a grid search process. There is standard regularization in XGBoost that allows us to prevent overfitting. With the powerful parallel processing we found this model to be the most economical in computing power as well as return the top performance and therefore lowest monetary loss thus far.\n",
        "#### Table 4.3.1: XGBoost Hyperparameter Definitions\n",
        " \n",
        "|Hyperparameter|Controls|\n",
        "|--|:--|\n",
        "|Booster|Specifies which booster to use|\n",
        "|Lambda|L2 regularization to prevent overfitting.|\n",
        "|Learning Rate|Controls the shrinkage of the weights associated to features after each round. Makes model more robust to overfitting, lower the rate, the better.\n",
        "|Max_Depth|Maximum number of nodes allowed from root to farthest leaf of tree. Deeper trees are more complex but then splits can become less relevant and can cause the model to overfit.|\n",
        "|Min_Child_Weight|Minimum weight required in order to create a new node in the tree. A smaller number allows the algorithm to create children that correspond to fewer samples. Enables more complex trees, but likely to overfit.|\n",
        "|Objective|Measure of performance of the model given these set of parameters.|\n",
        "|Subsample|Ratio of the training instance.| \n"
      ]
    },
    {
      "cell_type": "markdown",
      "metadata": {
        "id": "p6KnO3S6iMXz"
      },
      "source": [
        "#### Table 4.3.2: XGBoost Hyperparameter Settings\n",
        " \n",
        "|Hyperparameter|Range|Final Value|\n",
        "|--|:--|:--|\n",
        "|Booster|n/a|gbtree|\n",
        "|Lambda|.9,1,1.1|0.9|\n",
        "|Learning Rate|0.1,.3|0.3|\n",
        "|Max_Depth| 4,6,7|7|\n",
        "|Min_Child_Weight|1,2|1|\n",
        "|Objective|n/a|binary:logistic|"
      ]
    },
    {
      "cell_type": "code",
      "metadata": {
        "colab": {
          "base_uri": "https://localhost:8080/"
        },
        "id": "Agmxn5YIAlUO",
        "outputId": "3df7eebc-6637-4f5d-fedb-14a608d3c69e"
      },
      "source": [
        "\n",
        "import pandas as pd\n",
        "import numpy as np\n",
        "import xgboost as xgb\n",
        "from sklearn import preprocessing\n",
        "from sklearn.model_selection import GridSearchCV\n",
        "\n",
        "xgb_model = xgb.XGBClassifier()\n",
        "\n",
        "xgboost_params = {\"booster\": [\"gbtree\"],'objective':['binary:logistic'],\n",
        "              'learning_rate': [0.1,.3], \n",
        "              'max_depth': [4,6,7],\n",
        "              'min_child_weight': [1,2],\n",
        "              'subsample': [0.8],\n",
        "              'lambda': [.9,1,1.1]\n",
        "              }\n",
        "\n",
        "xgb_clf = GridSearchCV(xgb_model, xgboost_params, n_jobs=-1, cv=5, \n",
        "                   scoring=fp_scorer,verbose=10)\n",
        "\n",
        "\n",
        "best_xgb = xgb_clf.fit(X_train, y_train)"
      ],
      "execution_count": null,
      "outputs": [
        {
          "output_type": "stream",
          "text": [
            "Fitting 5 folds for each of 36 candidates, totalling 180 fits\n"
          ],
          "name": "stdout"
        },
        {
          "output_type": "stream",
          "text": [
            "[Parallel(n_jobs=-1)]: Using backend LokyBackend with 2 concurrent workers.\n",
            "[Parallel(n_jobs=-1)]: Done   1 tasks      | elapsed:  1.4min\n",
            "[Parallel(n_jobs=-1)]: Done   4 tasks      | elapsed:  2.8min\n",
            "[Parallel(n_jobs=-1)]: Done   9 tasks      | elapsed:  7.0min\n",
            "[Parallel(n_jobs=-1)]: Done  14 tasks      | elapsed: 11.4min\n",
            "[Parallel(n_jobs=-1)]: Done  21 tasks      | elapsed: 20.3min\n",
            "[Parallel(n_jobs=-1)]: Done  28 tasks      | elapsed: 28.0min\n",
            "[Parallel(n_jobs=-1)]: Done  37 tasks      | elapsed: 36.1min\n",
            "[Parallel(n_jobs=-1)]: Done  46 tasks      | elapsed: 43.9min\n",
            "[Parallel(n_jobs=-1)]: Done  57 tasks      | elapsed: 58.3min\n",
            "[Parallel(n_jobs=-1)]: Done  68 tasks      | elapsed: 66.5min\n",
            "[Parallel(n_jobs=-1)]: Done  81 tasks      | elapsed: 81.2min\n",
            "[Parallel(n_jobs=-1)]: Done  94 tasks      | elapsed: 94.5min\n",
            "[Parallel(n_jobs=-1)]: Done 109 tasks      | elapsed: 109.6min\n",
            "[Parallel(n_jobs=-1)]: Done 124 tasks      | elapsed: 125.7min\n",
            "[Parallel(n_jobs=-1)]: Done 141 tasks      | elapsed: 143.4min\n",
            "[Parallel(n_jobs=-1)]: Done 158 tasks      | elapsed: 159.6min\n",
            "[Parallel(n_jobs=-1)]: Done 177 tasks      | elapsed: 182.3min\n",
            "[Parallel(n_jobs=-1)]: Done 180 out of 180 | elapsed: 185.0min finished\n"
          ],
          "name": "stderr"
        }
      ]
    },
    {
      "cell_type": "code",
      "metadata": {
        "colab": {
          "base_uri": "https://localhost:8080/"
        },
        "id": "w7yhl_y_S_Lg",
        "outputId": "6e8fec86-a263-48d3-ce75-7f7cc5333681"
      },
      "source": [
        "best_xgb"
      ],
      "execution_count": null,
      "outputs": [
        {
          "output_type": "execute_result",
          "data": {
            "text/plain": [
              "GridSearchCV(cv=5, error_score=nan,\n",
              "             estimator=XGBClassifier(base_score=0.5, booster='gbtree',\n",
              "                                     colsample_bylevel=1, colsample_bynode=1,\n",
              "                                     colsample_bytree=1, gamma=0,\n",
              "                                     learning_rate=0.1, max_delta_step=0,\n",
              "                                     max_depth=3, min_child_weight=1,\n",
              "                                     missing=None, n_estimators=100, n_jobs=1,\n",
              "                                     nthread=None, objective='binary:logistic',\n",
              "                                     random_state=0, reg_alpha=0, reg_lambda=1,\n",
              "                                     scale_po...e, silent=None,\n",
              "                                     subsample=1, verbosity=1),\n",
              "             iid='deprecated', n_jobs=-1,\n",
              "             param_grid={'booster': ['gbtree'], 'lambda': [0.9, 1, 1.1],\n",
              "                         'learning_rate': [0.1, 0.3], 'max_depth': [4, 6, 7],\n",
              "                         'min_child_weight': [1, 2],\n",
              "                         'objective': ['binary:logistic'], 'subsample': [0.8]},\n",
              "             pre_dispatch='2*n_jobs', refit=True, return_train_score=False,\n",
              "             scoring=make_scorer(precision_score), verbose=10)"
            ]
          },
          "metadata": {
            "tags": []
          },
          "execution_count": 15
        }
      ]
    },
    {
      "cell_type": "code",
      "metadata": {
        "colab": {
          "base_uri": "https://localhost:8080/"
        },
        "id": "f1Ip1CFuS_TP",
        "outputId": "f87e5864-0274-4a3a-bbd9-39e358ad4f50"
      },
      "source": [
        "best_xgb_params = {'booster': 'gbtree',\n",
        " 'lambda': 0.9,\n",
        " 'learning_rate': 0.3,\n",
        " 'max_depth': 7,\n",
        " 'min_child_weight': 1,\n",
        " 'objective': 'binary:logistic',\n",
        " 'subsample': 0.8}\n",
        "\n",
        "best_xgb.best_params_"
      ],
      "execution_count": null,
      "outputs": [
        {
          "output_type": "execute_result",
          "data": {
            "text/plain": [
              "{'booster': 'gbtree',\n",
              " 'lambda': 0.9,\n",
              " 'learning_rate': 0.3,\n",
              " 'max_depth': 7,\n",
              " 'min_child_weight': 1,\n",
              " 'objective': 'binary:logistic',\n",
              " 'subsample': 0.8}"
            ]
          },
          "metadata": {
            "tags": []
          },
          "execution_count": 17
        }
      ]
    },
    {
      "cell_type": "code",
      "metadata": {
        "colab": {
          "base_uri": "https://localhost:8080/"
        },
        "id": "vP_MhDHmS_W7",
        "outputId": "39eb8513-9c0c-417b-f45a-120211325dce"
      },
      "source": [
        "best_xgb.best_score_"
      ],
      "execution_count": null,
      "outputs": [
        {
          "output_type": "execute_result",
          "data": {
            "text/plain": [
              "0.9204078970874658"
            ]
          },
          "metadata": {
            "tags": []
          },
          "execution_count": 18
        }
      ]
    },
    {
      "cell_type": "markdown",
      "metadata": {
        "id": "ZrUI7e2lTLiL"
      },
      "source": [
        "#### Final XGBoost Fit and Prediction"
      ]
    },
    {
      "cell_type": "code",
      "metadata": {
        "id": "SPpwLdylTPDI"
      },
      "source": [
        "import xgboost as xgb\n",
        "#fitting differently to include early stopping\n",
        "xgboost_params = {'booster': 'gbtree',\n",
        " 'lambda': 0.9,\n",
        " 'learning_rate': 0.3,\n",
        " 'max_depth': 7,\n",
        " 'min_child_weight': 1,\n",
        " 'objective': 'binary:logistic',\n",
        " 'subsample': 0.8}\n",
        "\n",
        "xgb_data = xgb.DMatrix(X_train, y_train)\n",
        "xgb_test = xgb.DMatrix(X_test, y_test)\n",
        "clf = xgb.train(xgboost_params,xgb_data,num_boost_round=50,verbose_eval=True,maximize=False)\n",
        "\n",
        "xgb_preds = clf.predict(xgb_test)\n"
      ],
      "execution_count": null,
      "outputs": []
    },
    {
      "cell_type": "code",
      "metadata": {
        "id": "6QxNG7iKZqvN"
      },
      "source": [
        "xgb_class_preds = np.rint(xgb_preds)"
      ],
      "execution_count": null,
      "outputs": []
    },
    {
      "cell_type": "markdown",
      "metadata": {
        "id": "SYr3Ak0RQpSA"
      },
      "source": [
        "##### XGBoost Precision & Confusion Matrix"
      ]
    },
    {
      "cell_type": "code",
      "metadata": {
        "colab": {
          "base_uri": "https://localhost:8080/"
        },
        "id": "GD71qyczLtN6",
        "outputId": "c04e4ed4-0a99-4945-b1b3-782fe9012877"
      },
      "source": [
        "\n",
        "print(\"Accuracy: \", accuracy_score(y_test,xgb_class_preds))\n",
        "print(\"Precision: \", precision_score(y_test,xgb_class_preds))\n",
        "print(\"Recall: \", recall_score(y_test,xgb_class_preds))\n",
        "print(\"Confusion Matrix: \", confusion_matrix(y_test, xgb_class_preds))"
      ],
      "execution_count": null,
      "outputs": [
        {
          "output_type": "stream",
          "text": [
            "Accuracy:  0.9287878787878788\n",
            "Precision:  0.925712455971822\n",
            "Recall:  0.8969903816320198\n",
            "Confusion Matrix:  [[8930  464]\n",
            " [ 664 5782]]\n"
          ],
          "name": "stdout"
        }
      ]
    },
    {
      "cell_type": "markdown",
      "metadata": {
        "id": "EOjWfD51QvFP"
      },
      "source": [
        "##### XGBoost Monetary Loss"
      ]
    },
    {
      "cell_type": "code",
      "metadata": {
        "colab": {
          "base_uri": "https://localhost:8080/"
        },
        "id": "9mlbgZ2KLtdV",
        "outputId": "958636e1-84ef-40b7-c8f6-c3c8e3292d95"
      },
      "source": [
        "tn, fp, fn, tp = confusion_matrix(y_test, xgb_class_preds).ravel()\n",
        "print(\"False Positives: \", fp)\n",
        "print(\"False Negatives: \", fn)\n",
        "dollars = (225 * fp) + (35 * fn)\n",
        "print(\"Dollars Lost: $\", dollars , \" for \", len(y_test), \" predictions.\")"
      ],
      "execution_count": null,
      "outputs": [
        {
          "output_type": "stream",
          "text": [
            "False Positives:  464\n",
            "False Negatives:  664\n",
            "Dollars Lost: $ 127640  for  15840  predictions.\n"
          ],
          "name": "stdout"
        }
      ]
    },
    {
      "cell_type": "markdown",
      "metadata": {
        "id": "Qy_B-uzFb8Hl"
      },
      "source": [
        "## 5 Results"
      ]
    },
    {
      "cell_type": "markdown",
      "metadata": {
        "id": "59QA3VDSdQfZ"
      },
      "source": [
        "#### Table 5.1: Random Forest Results\n",
        " \n",
        "|Success Measure|Result|\n",
        "|--|:--|\n",
        "|Accuracy|.878|\n",
        "|Precision|.923|\n",
        "|Recall|.763|\n",
        "|False Positives|411|\n",
        "|False Negatives|1524|\n",
        "|Classifications|15,840|\n",
        "|Dollars Lost|`$145,815`|\n"
      ]
    },
    {
      "cell_type": "markdown",
      "metadata": {
        "id": "1X7z5BQnhkfJ"
      },
      "source": [
        "#### Table 5.2: Logistic Regression Results\n",
        " \n",
        "|Success Measure|Result|\n",
        "|--|:--|\n",
        "|Accuracy|.680|\n",
        "|Precision|.646|\n",
        "|Recall|.472|\n",
        "|False Positives|1671|\n",
        "|False Negatives|3401|\n",
        "|Classifications|15,840|\n",
        "|Dollars Lost|`$495,010`|"
      ]
    },
    {
      "cell_type": "markdown",
      "metadata": {
        "id": "mIjh3AwMhn2B"
      },
      "source": [
        "#### Table 5.3: XGBoost Results\n",
        " \n",
        "|Success Measure|Result|\n",
        "|--|:--|\n",
        "|Accuracy|.929|\n",
        "|Precision|.926|\n",
        "|Recall|.870|\n",
        "|False Positives|464|\n",
        "|False Negatives|664|\n",
        "|Classifications|15,840|\n",
        "|Dollars Lost|`$127,640`|"
      ]
    },
    {
      "cell_type": "markdown",
      "metadata": {
        "id": "CnAoTSrHNP4k"
      },
      "source": [
        "#### Table 5.4: Dollars Loss by Model per 1000 Classification\n",
        "\n",
        "|Model|Monetary Loss per 1000 Classifications|\n",
        "|:---|:---|\n",
        "|Random Forest| `$9,205`|\n",
        "|Logistic Regression| `$31,250`|\n",
        "|XGBoost|`$8,058`|\n",
        "\n",
        "\n",
        "\n"
      ]
    },
    {
      "cell_type": "markdown",
      "metadata": {
        "id": "eV2B2Dr_b_Oo"
      },
      "source": [
        "## Conclusion"
      ]
    },
    {
      "cell_type": "markdown",
      "metadata": {
        "id": "fgEWCpi0cA_I"
      },
      "source": [
        "Upon build, execution, and review of results the XGBoost model outperformed all other classification models. When tuning to precision to take into account the measure of false positives, we were able to refine the XGBoost model to have no more than `$127,640` monetary loss when used to classify the 15,840 test dataset. This translates to a ~`$8,058` loss per 1000 classified observations. \n",
        "\n",
        "Should the client need any predictions moving forward, with the same data source, we recommend our client use this model to continue to benefit from a model that has been specifically tuned for these data and variables. If the client has any changes to their data, we advise a new data evaluation and model build. This model has been specifically trained and would not be applicable to the data should it change or evolve in any way. \n"
      ]
    }
  ]
}