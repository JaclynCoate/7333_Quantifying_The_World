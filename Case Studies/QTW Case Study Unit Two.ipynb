{
 "cells": [
  {
   "cell_type": "markdown",
   "metadata": {},
   "source": [
    "# Location Prediction with Indoor Positioning Systems\n",
    "#### Megan Riley, Jaclyn Coate, Reagan Meagher \n",
    "#### January 18th 2021"
   ]
  },
  {
   "cell_type": "markdown",
   "metadata": {},
   "source": [
    "### 1. Introduction\n",
    "\n"
   ]
  },
  {
   "cell_type": "markdown",
   "metadata": {},
   "source": [
    "### 2. Data"
   ]
  },
  {
   "cell_type": "markdown",
   "metadata": {},
   "source": [
    "### 3. Exploratory Data Analysis"
   ]
  },
  {
   "cell_type": "markdown",
   "metadata": {},
   "source": [
    "### 4. Model Type: k-NN"
   ]
  },
  {
   "cell_type": "markdown",
   "metadata": {},
   "source": [
    "### 5. Model Validation"
   ]
  },
  {
   "cell_type": "code",
   "execution_count": 19,
   "metadata": {},
   "outputs": [
    {
     "data": {
      "text/html": [
       "<ol class=list-inline>\n",
       "\t<li>'00:0f:a3:39:e1:c0'</li>\n",
       "\t<li>'00:0f:a3:39:dd:cd'</li>\n",
       "\t<li>'00:14:bf:b1:97:8a'</li>\n",
       "\t<li>'00:14:bf:3b:c7:c6'</li>\n",
       "\t<li>'00:14:bf:b1:97:90'</li>\n",
       "\t<li>'00:14:bf:b1:97:8d'</li>\n",
       "\t<li>'00:14:bf:b1:97:81'</li>\n",
       "</ol>\n"
      ],
      "text/latex": [
       "\\begin{enumerate*}\n",
       "\\item '00:0f:a3:39:e1:c0'\n",
       "\\item '00:0f:a3:39:dd:cd'\n",
       "\\item '00:14:bf:b1:97:8a'\n",
       "\\item '00:14:bf:3b:c7:c6'\n",
       "\\item '00:14:bf:b1:97:90'\n",
       "\\item '00:14:bf:b1:97:8d'\n",
       "\\item '00:14:bf:b1:97:81'\n",
       "\\end{enumerate*}\n"
      ],
      "text/markdown": [
       "1. '00:0f:a3:39:e1:c0'\n",
       "2. '00:0f:a3:39:dd:cd'\n",
       "3. '00:14:bf:b1:97:8a'\n",
       "4. '00:14:bf:3b:c7:c6'\n",
       "5. '00:14:bf:b1:97:90'\n",
       "6. '00:14:bf:b1:97:8d'\n",
       "7. '00:14:bf:b1:97:81'\n",
       "\n",
       "\n"
      ],
      "text/plain": [
       "[1] \"00:0f:a3:39:e1:c0\" \"00:0f:a3:39:dd:cd\" \"00:14:bf:b1:97:8a\"\n",
       "[4] \"00:14:bf:3b:c7:c6\" \"00:14:bf:b1:97:90\" \"00:14:bf:b1:97:8d\"\n",
       "[7] \"00:14:bf:b1:97:81\""
      ]
     },
     "metadata": {},
     "output_type": "display_data"
    }
   ],
   "source": [
    "subMacs"
   ]
  },
  {
   "cell_type": "markdown",
   "metadata": {},
   "source": [
    "### 6. Results"
   ]
  },
  {
   "cell_type": "markdown",
   "metadata": {},
   "source": [
    "### 7. Conclusions"
   ]
  },
  {
   "cell_type": "markdown",
   "metadata": {},
   "source": [
    "### 8. Appendix"
   ]
  },
  {
   "cell_type": "markdown",
   "metadata": {},
   "source": [
    "#### 8.1 Code"
   ]
  },
  {
   "cell_type": "code",
   "execution_count": 6,
   "metadata": {},
   "outputs": [
    {
     "data": {
      "text/html": [
       "<ol class=list-inline>\n",
       "\t<li>'00:0f:a3:39:e1:c0'</li>\n",
       "\t<li>'00:0f:a3:39:dd:cd'</li>\n",
       "\t<li>'00:14:bf:b1:97:8a'</li>\n",
       "\t<li>'00:14:bf:3b:c7:c6'</li>\n",
       "\t<li>'00:14:bf:b1:97:90'</li>\n",
       "\t<li>'00:14:bf:b1:97:8d'</li>\n",
       "\t<li>'00:14:bf:b1:97:81'</li>\n",
       "</ol>\n"
      ],
      "text/latex": [
       "\\begin{enumerate*}\n",
       "\\item '00:0f:a3:39:e1:c0'\n",
       "\\item '00:0f:a3:39:dd:cd'\n",
       "\\item '00:14:bf:b1:97:8a'\n",
       "\\item '00:14:bf:3b:c7:c6'\n",
       "\\item '00:14:bf:b1:97:90'\n",
       "\\item '00:14:bf:b1:97:8d'\n",
       "\\item '00:14:bf:b1:97:81'\n",
       "\\end{enumerate*}\n"
      ],
      "text/markdown": [
       "1. '00:0f:a3:39:e1:c0'\n",
       "2. '00:0f:a3:39:dd:cd'\n",
       "3. '00:14:bf:b1:97:8a'\n",
       "4. '00:14:bf:3b:c7:c6'\n",
       "5. '00:14:bf:b1:97:90'\n",
       "6. '00:14:bf:b1:97:8d'\n",
       "7. '00:14:bf:b1:97:81'\n",
       "\n",
       "\n"
      ],
      "text/plain": [
       "[1] \"00:0f:a3:39:e1:c0\" \"00:0f:a3:39:dd:cd\" \"00:14:bf:b1:97:8a\"\n",
       "[4] \"00:14:bf:3b:c7:c6\" \"00:14:bf:b1:97:90\" \"00:14:bf:b1:97:8d\"\n",
       "[7] \"00:14:bf:b1:97:81\""
      ]
     },
     "metadata": {},
     "output_type": "display_data"
    },
    {
     "ename": "ERROR",
     "evalue": "Error: 'pivot_wider' is not an exported object from 'namespace:tidyr'\n",
     "output_type": "error",
     "traceback": [
      "Error: 'pivot_wider' is not an exported object from 'namespace:tidyr'\nTraceback:\n",
      "1. select(offline1, -c(channel, scanMac)) %>% tidyr::pivot_wider(names_from = mac, \n .     values_from = signal, values_fn = list(signal = mean))",
      "2. withVisible(eval(quote(`_fseq`(`_lhs`)), env, env))",
      "3. eval(quote(`_fseq`(`_lhs`)), env, env)",
      "4. eval(quote(`_fseq`(`_lhs`)), env, env)",
      "5. `_fseq`(`_lhs`)",
      "6. freduce(value, `_function_list`)",
      "7. withVisible(function_list[[k]](value))",
      "8. function_list[[k]](value)",
      "9. tidyr::pivot_wider",
      "10. getExportedValue(pkg, name)",
      "11. stop(gettextf(\"'%s' is not an exported object from 'namespace:%s'\", \n  .     name, getNamespaceName(ns)), call. = FALSE, domain = NA)"
     ]
    }
   ],
   "source": [
    "#Libraries to Load\n",
    "library(tidyverse)\n",
    "library(tidyr)\n",
    "library(dplyr)\n",
    "library(stringr)\n",
    "library(magrittr)\n",
    "library(caret)\n",
    "#install.packages(\"kknn\")\n",
    "library(kknn)\n",
    "\n",
    "#Functions in Use\n",
    "\n",
    "#Process Line function sourced from provided code, provides way to read and process lines\n",
    "processLine = function(x)\n",
    "{\n",
    "tokens = strsplit(x, \"[;=,]\")[[1]]\n",
    "if (length(tokens) == 10)\n",
    "    return(NULL)\n",
    "tmp = matrix(tokens[ - (1:10) ], , 4, byrow = TRUE)  #build a 4 column matrix mac,signal,scan,type\n",
    "cbind(matrix(tokens[c(2, 4, 6:8, 10)], nrow(tmp), 6, #builds a 6 column matrix t,scanMac,x,y,z,angle\n",
    "byrow = TRUE), tmp) #binds them together\n",
    "}\n",
    "\n",
    "#Round Orientation rounds angles in data sourced from provided code\n",
    "roundOrientation = function(angles) {\n",
    "  refs = seq(0, by = 45, length  = 9)\n",
    "  q = sapply(angles, function(o) which.min(abs(o - refs)))\n",
    "  c(refs[1:8], 0)[q]\n",
    "}\n",
    "             \n",
    "#Load data Lines\n",
    "offline_txt = readLines(\"/Users/zmartygirl/Documents/MSDS_SMU/QTW_7333/cs2_data/offline.final.trace.txt\")\n",
    "online_txt = readLines(\"/Users/zmartygirl/Documents/MSDS_SMU/QTW_7333/cs2_data/online.final.trace.txt\")\n",
    "\n",
    "             \n",
    "#Processing Online and Offline Data into Data Frames\n",
    "\n",
    "#Offline Data\n",
    "off_lines = offline_txt[ substr(offline_txt, 1, 1) != \"#\" ]\n",
    "offline = lapply(off_lines,processLine)\n",
    "offline = as.data.frame(do.call(\"rbind\", offline),stringsAsFactors = FALSE)\n",
    "names(offline) = c(\"time\", \"scanMac\", \"posX\", \"posY\", \"posZ\",\n",
    "\"orientation\", \"mac\", \"signal\", \"channel\", \"type\")\n",
    "\n",
    "offline$posXY = paste(offline$posX, offline$posY, sep = \"-\")\n",
    "offline$orientation = as.integer(offline$orientation)\n",
    "offline$angle = roundOrientation(offline$orientation)\n",
    "\n",
    "#Online Data\n",
    "on_lines = online_txt[ substr(online_txt, 1, 1) != \"#\" ]\n",
    "online = lapply(on_lines,processLine)\n",
    "online = as.data.frame(do.call(\"rbind\", online),stringsAsFactors = FALSE)\n",
    "names(online) = c(\"time\", \"scanMac\", \"posX\", \"posY\", \"posZ\",\n",
    "\"orientation\", \"mac\", \"signal\", \"channel\", \"type\")\n",
    "\n",
    "online$posXY = paste(online$posX, online$posY, sep = \"-\")\n",
    "online$orientation = as.integer(online$orientation)\n",
    "\n",
    "online$angle = roundOrientation(online$orientation)\n",
    "\n",
    "#Processing Online and Offline Data into Pivoted Tables\n",
    "\n",
    "#Offline Processing\n",
    "subMacs = names(sort(table(offline$mac), decreasing = TRUE))[1:7]\n",
    "subMacs\n",
    "offline1 = offline[ offline$mac %in% subMacs, ]\n",
    "\n",
    "offline1$signal %<>% as.integer\n",
    "offline_pivot<-select(offline1, -c(channel,scanMac)) %>% tidyr::pivot_wider(names_from = mac,values_from = signal, values_fn = list(signal=mean))\n",
    "\n",
    "\n",
    "offline_pivot$nas<-rowSums(is.na(offline_pivot))\n",
    "offline_pivot = offline_pivot[offline_pivot$nas==0,]\n",
    "\n",
    "#Online Processing\n",
    "\n",
    "subMacs = names(sort(table(online$mac), decreasing = TRUE))[1:7]\n",
    "\n",
    "online1 = online[ online$mac %in% subMacs, ]\n",
    "\n",
    "online1$signal %<>% as.integer\n",
    "online_pivot<-select(online1, -c(channel,scanMac)) %>% pivot_wider(names_from = mac,values_from = signal, values_fn = list(signal=mean))\n",
    "\n",
    "online_pivot$nas<-rowSums(is.na(online_pivot))\n",
    "online_pivot = online_pivot[online_pivot$nas==0,]\n",
    "\n",
    "#Subsetting Training Data form Offline Source "
   ]
  },
  {
   "cell_type": "markdown",
   "metadata": {},
   "source": [
    "### 9. References\n",
    "\n",
    "Nolan, D. and Lang, D.T. (2015). Data Science in R A Case Studies Approach to Computational Reasoning and Problem Solving. CRC Press.\n",
    "\n",
    "Nguyen, Khuong. “A Performance Guaranteed Indoor Positioning System Using Conformal Prediction and the WiFi Signal Strength.” Journal of information and telecommunication (Print) 1.1 (2017): 41–65. Web.\n"
   ]
  },
  {
   "cell_type": "code",
   "execution_count": 5,
   "metadata": {},
   "outputs": [
    {
     "name": "stderr",
     "output_type": "stream",
     "text": [
      "Warning message in FUN(X[[i]], ...):\n",
      "“DESCRIPTION file of package 'caret' is missing or broken”Warning message in FUN(X[[i]], ...):\n",
      "“DESCRIPTION file of package 'lattice' is missing or broken”Warning message in FUN(X[[i]], ...):\n",
      "“DESCRIPTION file of package 'forcats' is missing or broken”Warning message in FUN(X[[i]], ...):\n",
      "“DESCRIPTION file of package 'stringr' is missing or broken”Warning message in FUN(X[[i]], ...):\n",
      "“DESCRIPTION file of package 'readr' is missing or broken”Warning message in FUN(X[[i]], ...):\n",
      "“DESCRIPTION file of package 'ggplot2' is missing or broken”Warning message in FUN(X[[i]], ...):\n",
      "“DESCRIPTION file of package 'tidyverse' is missing or broken”"
     ]
    },
    {
     "ename": "ERROR",
     "evalue": "Error: $ operator is invalid for atomic vectors\n",
     "output_type": "error",
     "traceback": [
      "Error: $ operator is invalid for atomic vectors\nTraceback:\n",
      "1. sessionInfo()",
      "2. sapply(pkgDesc, function(x) !is.null(x$Priority) && x$Priority == \n .     \"base\")",
      "3. lapply(X = X, FUN = FUN, ...)",
      "4. FUN(X[[i]], ...)"
     ]
    }
   ],
   "source": [
    "sessionInfo()"
   ]
  },
  {
   "cell_type": "code",
   "execution_count": 3,
   "metadata": {},
   "outputs": [
    {
     "name": "stderr",
     "output_type": "stream",
     "text": [
      "also installing the dependency ‘ellipsis’\n",
      "\n",
      "Warning message in install.packages(\"tidyr\"):\n",
      "“installation of package ‘tidyr’ had non-zero exit status”Updating HTML index of packages in '.Library'\n",
      "Making 'packages.html' ... done\n"
     ]
    }
   ],
   "source": [
    "install.packages(\"tidyr\")"
   ]
  },
  {
   "cell_type": "code",
   "execution_count": null,
   "metadata": {},
   "outputs": [],
   "source": []
  }
 ],
 "metadata": {
  "kernelspec": {
   "display_name": "R",
   "language": "R",
   "name": "ir"
  },
  "language_info": {
   "codemirror_mode": "r",
   "file_extension": ".r",
   "mimetype": "text/x-r-source",
   "name": "R",
   "pygments_lexer": "r",
   "version": "3.6.1"
  }
 },
 "nbformat": 4,
 "nbformat_minor": 4
}
